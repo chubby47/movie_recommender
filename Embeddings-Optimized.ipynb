{
 "cells": [
  {
   "cell_type": "markdown",
   "metadata": {},
   "source": [
    "# Similarités entre séries ( Word Embeddings )\n",
    "\n",
    "#### - utilisation de word embeddings avec tf-idf pour trouver une mesure de similarité entre les différentes séries"
   ]
  },
  {
   "cell_type": "markdown",
   "metadata": {},
   "source": [
    "## Principe\n",
    "\n",
    "Dans ce qui suis nous utiliserons le terme \"Document\" pour dire \"Série\". Vu que l'on considère une série comme la concaténation de tous les sous titres de tous ses épisodes, et donc comme un long document.\n",
    "\n",
    "Pour le calcul de similarité entre les documents, nous allons suivre la même méthode qu'avant :\n",
    "- représenter un document par un vecteur\n",
    "- utiliser des mesures de distance pour calculer la similarité entre deux vecteurs ( deux documents )\n",
    "\n",
    "Ceci servira comme base pour faire un clustering de \"genre\" ou de \"style\" des documents.\n",
    "Nous allons pour un début tester juste une combinaison de possibilités:\n",
    "- démarrer à partir des vecteurs tf-idf des documents\n",
    "- vecteurs word embedding généré par Word2vec\n",
    "- distance de mesure : cosinus"
   ]
  },
  {
   "cell_type": "markdown",
   "metadata": {},
   "source": [
    "### Word embedding ? \n",
    "Pour le définir rapidement, on peut dire que pour chaque mot du corpus on va avoir un vecteur de réels de taille fixe qui représentera d'une manière ou d'une autre le mot.\n",
    "\n",
    "Et comme par magie des opérations vectoriels entre des mots ( vecteurs de réels ) nous donnes des mesures de similarités plutot correctes ! au lieu d'utiliser simplement tf-idf qui sont des vecteurs sparse.\n",
    "\n",
    "Pour générer ces vecteurs nous allons utiliser Word2Vec entrainé sur le corpus entier, c'est à dire un gros fichier text qui contient l'ensemble des mots de tout le corpus.\n",
    "\n",
    "### Document embedding ?\n",
    "D'accord on a une représentation vectorielle de chaque mot qui marche comme par magie, mais nous souhaterions avoir une représentation similaire pour chaque document ( afin de mesurer cette similarité par magie aussi ).\n",
    "\n",
    "Pour cela nous allons utiliser un simple principe:\n",
    "- Soit V le vecteur représentant un Document lambda ( que ça soit tf-idf par exemple ) de taille N  (N = nombre de mots du vocabulaire ) \n",
    "- Soit la taille fixe du vecteur word embedding = p\n",
    "- Soit la matrice M = N x p , càd N lignes ( N = nombre de mots du vocabulaire ) et p colonnes, ou chaque ligne i est le vecteur word embedding obtenu à partir de word2vec correspondant au ieme mot du vocabulaire\n",
    "- Le vecteur D représentant le document embedding sera donc simplement :  D = V.M ( biensure on va s'arranger pour que la multiplication se passe bien en alignant les bonnes dimensions )\n",
    "\n",
    "pour faire facile : le document sera la somme des word embeddings des mots qui le composent ( pondéré par tf-idf dans notre cas )\n"
   ]
  },
  {
   "cell_type": "markdown",
   "metadata": {},
   "source": [
    "#### préparation de l'environnement de travail\n",
    "Avec définition du nombre de séries que l'on veut étudier"
   ]
  },
  {
   "cell_type": "code",
   "execution_count": 2,
   "metadata": {},
   "outputs": [],
   "source": [
    "import glob\n",
    "import numpy as np\n",
    "import matplotlib.pyplot as plt\n",
    "from nltk.corpus import stopwords\n",
    "from nltk import wordpunct_tokenize\n",
    "import seaborn as sns\n",
    "#using https://github.com/amueller/word_cloud\n",
    "from wordcloud import WordCloud\n",
    "\n",
    "from utils.load_data import getMostImportantSeries\n",
    "\n",
    "plt.style.use('seaborn-white')\n",
    "%matplotlib inline\n",
    "\n",
    "#dataset path\n",
    "path = \"/root/Documents/PLDAC/data\"\n",
    "#repertoir pour stocker les calculs de word2vec\n",
    "w2vPath = \"/root/Documents/PLDAC/Word2VecData/\"\n",
    "#nombre de series que l'on veut étudier\n",
    "nbSeries = 42"
   ]
  },
  {
   "cell_type": "markdown",
   "metadata": {},
   "source": [
    "Petit affichage des séries que l'on étudie"
   ]
  },
  {
   "cell_type": "code",
   "execution_count": 3,
   "metadata": {},
   "outputs": [],
   "source": [
    "seriesNames, epCount = getMostImportantSeries(path, byepisodes=True)\n",
    "series = seriesNames[:nbSeries]\n",
    "#series"
   ]
  },
  {
   "cell_type": "markdown",
   "metadata": {},
   "source": [
    "Définition d'une petite fonction qui va juste enlever la ponctuation de chaque épisode et enlever les stop words ainsi que les mots trop longs ( oui on a pas fait de stemming ou lemmatizing pour ce test )"
   ]
  },
  {
   "cell_type": "code",
   "execution_count": 4,
   "metadata": {},
   "outputs": [],
   "source": [
    "import numpy as np\n",
    "from sklearn.datasets import fetch_20newsgroups\n",
    "from nltk.tokenize import RegexpTokenizer\n",
    "from nltk.corpus import stopwords\n",
    "import string\n",
    "nltk_stopw = stopwords.words('english')\n",
    "\n",
    "def tokenize_ex(text):\n",
    "    #   no punctuation & starts with a letter & between 3-15 characters in length\n",
    "    tokens = [word.strip(string.punctuation) for word in RegexpTokenizer(r'\\b[a-zA-Z][a-zA-Z0-9]{2,14}\\b').tokenize(text)]\n",
    "    return [f.lower() for f in tokens if f and f.lower() not in nltk_stopw]\n",
    "\n",
    "\"\"\" TOKENIZE FUNCTION SIGNATURE \"\"\"\n",
    "# in : du texte brut ( un long str )\n",
    "# out : une liste de tokens ( liste de str )\n",
    "# remplacer par une autre fonction personalisé\n",
    "# cette fonction s'occupe des stop words, stemming, lemmatizing ... \n",
    "# bref tout ce qu'il faut faire comme normalisation du texte\n",
    "tokenize = tokenize_ex"
   ]
  },
  {
   "cell_type": "markdown",
   "metadata": {},
   "source": [
    "### Construction du corpus\n",
    "Et hop ! on se construit un joli corpus à partir des séries choisies. En utilisant un itérateur pour être gentil en mémoire.\n",
    "\n",
    "- WordTrainer : construit un itérateur, qui parcours les textes des séries"
   ]
  },
  {
   "cell_type": "code",
   "execution_count": 5,
   "metadata": {},
   "outputs": [],
   "source": [
    "class WordTrainer(object):\n",
    "    def __init__(self, path, series):\n",
    "        self.path = path\n",
    "        self.series = series\n",
    "    def __iter__(self):\n",
    "        for serie in self.series:\n",
    "            listepisodes = glob.glob(self.path+\"/\"+serie+\"/*/*.lines\")\n",
    "            for episode in listepisodes:\n",
    "                with open(episode, \"r\", encoding=\"utf-8\") as file:\n",
    "                    tokenized = tokenize(file.read())\n",
    "                    yield tokenized\n",
    "\n",
    "series_yeilded = WordTrainer(path, series)"
   ]
  },
  {
   "cell_type": "markdown",
   "metadata": {},
   "source": [
    "### Préparation de word2vec"
   ]
  },
  {
   "cell_type": "markdown",
   "metadata": {},
   "source": [
    "On utilisera la version Word2vec de Gensim, avec la possibilité de charger un model pré-entrainé auparavant"
   ]
  },
  {
   "cell_type": "code",
   "execution_count": 6,
   "metadata": {},
   "outputs": [],
   "source": [
    "import gensim\n",
    "\n",
    "# Charger un model déjà pret ?\n",
    "load = False\n",
    "filename_model_load = 'gensim_model_'+str(nbSeries)\n",
    "filename_model_save = 'gensim_model_'+str(nbSeries)\n",
    "# Parametres du word2vec\n",
    "vec_size = 100\n",
    "word_window = 8\n",
    "word_count_min = 5"
   ]
  },
  {
   "cell_type": "markdown",
   "metadata": {},
   "source": [
    "### Train de word2vec / chargement"
   ]
  },
  {
   "cell_type": "code",
   "execution_count": 7,
   "metadata": {},
   "outputs": [],
   "source": [
    "# this line also trains the model, so brace yourselves for the waiting time\n",
    "if not load:\n",
    "    word_vector_model = gensim.models.Word2Vec(series_yeilded, size=vec_size, window=word_window, min_count=word_count_min)\n",
    "else:\n",
    "    word_vector_model = gensim.models.Word2Vec.load(w2vPath+filename_model_load)"
   ]
  },
  {
   "cell_type": "markdown",
   "metadata": {},
   "source": [
    "### Sauvegarde du model"
   ]
  },
  {
   "cell_type": "code",
   "execution_count": 8,
   "metadata": {},
   "outputs": [],
   "source": [
    "word_vector_model.save(w2vPath+filename_model_save)"
   ]
  },
  {
   "cell_type": "markdown",
   "metadata": {},
   "source": [
    "Petit teste rapide pour voir si le tout a bien fonctionné"
   ]
  },
  {
   "cell_type": "code",
   "execution_count": 9,
   "metadata": {},
   "outputs": [
    {
     "name": "stderr",
     "output_type": "stream",
     "text": [
      "/root/anaconda3/lib/python3.7/site-packages/ipykernel_launcher.py:1: DeprecationWarning: Call to deprecated `most_similar` (Method will be removed in 4.0.0, use self.wv.most_similar() instead).\n",
      "  \"\"\"Entry point for launching an IPython kernel.\n"
     ]
    },
    {
     "data": {
      "text/plain": [
       "[('queen', 0.6841282248497009)]"
      ]
     },
     "execution_count": 9,
     "metadata": {},
     "output_type": "execute_result"
    }
   ],
   "source": [
    "word_vector_model.most_similar(positive=['woman', 'king'], negative=['man'], topn=1)"
   ]
  },
  {
   "cell_type": "markdown",
   "metadata": {},
   "source": [
    "#### Visualisation  des dimensions"
   ]
  },
  {
   "cell_type": "code",
   "execution_count": 10,
   "metadata": {},
   "outputs": [
    {
     "data": {
      "text/plain": [
       "(60124, 100)"
      ]
     },
     "execution_count": 10,
     "metadata": {},
     "output_type": "execute_result"
    }
   ],
   "source": [
    "word_vector_model.wv.vectors.shape"
   ]
  },
  {
   "cell_type": "markdown",
   "metadata": {},
   "source": [
    "## Préparation des tokens de chaque document\n",
    "Dans le but de préparer les calculs pour la matrice de similarités ultérieurement\n",
    "\n",
    "- **built_corpus_tokens** : construit un itérateur qui parcours tout le corpus, et rends pour chaque série une liste de tokens"
   ]
  },
  {
   "cell_type": "code",
   "execution_count": 11,
   "metadata": {},
   "outputs": [],
   "source": [
    "def build_corpus_tokens():\n",
    "    for serie in series:\n",
    "        listepisodes = glob.glob(path+\"/\"+serie+\"/*/*.lines\")\n",
    "        serie_tokens = []\n",
    "        for episode in listepisodes:\n",
    "            with open(episode, \"r\", encoding=\"utf-8\") as file:\n",
    "                tokenized = tokenize(file.read())\n",
    "                serie_tokens += tokenized\n",
    "        yield np.array(serie_tokens)"
   ]
  },
  {
   "cell_type": "markdown",
   "metadata": {},
   "source": [
    "Initialisation de l'itérateur"
   ]
  },
  {
   "cell_type": "code",
   "execution_count": 12,
   "metadata": {},
   "outputs": [],
   "source": [
    "l = build_corpus_tokens()"
   ]
  },
  {
   "cell_type": "markdown",
   "metadata": {},
   "source": [
    "### Construction du vecteur document ( série )\n",
    "On construit un vecteur qui représente une série selon une norme ( TF-IDF par exemple ).\n",
    "\n",
    "Au final on obtien une matrice ( chaque ligne représente une série )."
   ]
  },
  {
   "cell_type": "code",
   "execution_count": 13,
   "metadata": {},
   "outputs": [],
   "source": [
    "from sklearn.feature_extraction.text import TfidfVectorizer\n",
    "\n",
    "\"\"\" analyzer function \"\"\"\n",
    "# analyzer : string, {‘word’, ‘char’, ‘char_wb’} or callable\n",
    "# Whether the feature should be made of word or character n-grams. \n",
    "#Option ‘char_wb’ creates character n-grams only from text inside word boundaries; n-grams at the edges\n",
    "#of words are padded with space.\n",
    "# If a callable is passed it is used to extract the sequence of features out of the raw, unprocessed input.\n",
    "analyzer_ = lambda x: x\n",
    "\n",
    "# minimum document frequency\n",
    "min_docu_freq = 1\n",
    "\n",
    "vectorizer = TfidfVectorizer(analyzer=analyzer_, min_df=min_docu_freq).fit(l)"
   ]
  },
  {
   "cell_type": "code",
   "execution_count": 14,
   "metadata": {},
   "outputs": [
    {
     "data": {
      "text/plain": [
       "' Custom Vectorizer '"
      ]
     },
     "execution_count": 14,
     "metadata": {},
     "output_type": "execute_result"
    }
   ],
   "source": [
    "\"\"\" Custom Vectorizer \"\"\"\n",
    "# pour faire un constructeur de vecteurs documents :\n",
    "# in :\n",
    "# s'assurer qu'il prend l'itérateur sur les séries, pour rester memory friendly\n",
    "# c'est à dire il prend en entrée toujours un itérateur et non pas une liste\n",
    "# out :\n",
    "#  word_index :\n",
    "#      A mapping of terms to feature indices. ( dictionnaire : clé = mot, valeur = indice dans la colonne du vecteur )\n",
    "#  Xencoded : \n",
    "#      document-term matrix ( matrice : lignes = docs, colonnes = mots de word_index)\n",
    "#      en gros chaque case[i,j] correspond au nombre ( int ? float ? ) qu'on associe au mot j dans le document i\n",
    "\n",
    "# Après il suffit de remplacer les variables word_index et Xencoded par les versions désirées"
   ]
  },
  {
   "cell_type": "markdown",
   "metadata": {},
   "source": [
    "réinitialisation de l'itérateur pour le réutiliser"
   ]
  },
  {
   "cell_type": "code",
   "execution_count": 15,
   "metadata": {},
   "outputs": [],
   "source": [
    "l = build_corpus_tokens()"
   ]
  },
  {
   "cell_type": "markdown",
   "metadata": {},
   "source": [
    "#### Organisation de la matrice pour faire le produit matriciel ultérieurement"
   ]
  },
  {
   "cell_type": "code",
   "execution_count": 16,
   "metadata": {},
   "outputs": [],
   "source": [
    "word_index = vectorizer.vocabulary_\n",
    "Xencoded = vectorizer.transform(l)"
   ]
  },
  {
   "cell_type": "markdown",
   "metadata": {},
   "source": [
    "En se basant sur word_index ( liste des mots tf-idf, question d'avoir le meme ordre de tri )\n",
    "\n",
    "Dans la matrice résultante de **getEmbeddingMatrix**: \n",
    "\n",
    "- si un mot n'existe pas dans les word embedding on met un vecteur nul.\n",
    "- sinon on met le vecteur word embedding qui correspond."
   ]
  },
  {
   "cell_type": "code",
   "execution_count": 17,
   "metadata": {},
   "outputs": [],
   "source": [
    "def getEmbeddingMatrix (word_index, embeddings):\n",
    "    embedding_matrix = np.zeros((len(word_index)+1, vec_size))\n",
    "    for word, i in word_index.items():\n",
    "        if word in embeddings:\n",
    "            embedding_matrix[i] = embeddings[word]\n",
    "    return embedding_matrix"
   ]
  },
  {
   "cell_type": "markdown",
   "metadata": {},
   "source": [
    "### Produit Matriciel entre la matrice tf-idf et la matrice embedding\n",
    "Dans notre exemple on fait une combinaison plutot simple entre le word embedding et le vecteur document:\n",
    "\n",
    "- On prend les vecteurs embedding de chaque mot présent dans le document\n",
    "- On pondère le vecteur par son coéfficient tf-idf correspondant\n",
    "- On fait la somme des vecteurs obtenus\n",
    "- On considère le vecteur obtenu comme le vecteur 'embedding' du document\n",
    "\n",
    "Bien sure il va falloir tester d'autres alternatives aussi"
   ]
  },
  {
   "cell_type": "code",
   "execution_count": 18,
   "metadata": {},
   "outputs": [],
   "source": [
    "\"\"\" Custom Doc Representation \"\"\"\n",
    "# Il suffit de trouver une combinaison entre les données qu'on a ( tf-idf, tf, embedding de mots ... )\n",
    "# il n'y a pas de limites soyez créatifs xD\n",
    "# out : construire une matrice ou chaque ligne correspond à un document, \n",
    "#       et tel que la ligne est un vecteur de taille vec_size\n",
    "#       il faut bien sure faire attention à préserver l'ordre des documents\n",
    "\n",
    "\n",
    "def sparseMultiply (sparseX, embedding_matrix):\n",
    "    denseZ = []\n",
    "    for row in sparseX:\n",
    "        newRow = np.zeros(vec_size)\n",
    "        for nonzeroLocation, value in list(zip(row.indices, row.data)):\n",
    "            newRow = newRow + value * embedding_matrix[nonzeroLocation]\n",
    "        denseZ.append(newRow)\n",
    "    denseZ = np.array([np.array(xi) for xi in denseZ])\n",
    "    return denseZ"
   ]
  },
  {
   "cell_type": "code",
   "execution_count": 19,
   "metadata": {},
   "outputs": [
    {
     "name": "stderr",
     "output_type": "stream",
     "text": [
      "/root/anaconda3/lib/python3.7/site-packages/ipykernel_launcher.py:4: DeprecationWarning: Call to deprecated `__contains__` (Method will be removed in 4.0.0, use self.wv.__contains__() instead).\n",
      "  after removing the cwd from sys.path.\n",
      "/root/anaconda3/lib/python3.7/site-packages/ipykernel_launcher.py:5: DeprecationWarning: Call to deprecated `__getitem__` (Method will be removed in 4.0.0, use self.wv.__getitem__() instead).\n",
      "  \"\"\"\n"
     ]
    }
   ],
   "source": [
    "# création de la matrice embedding à partir du model word2vec\n",
    "embedding_matrix = getEmbeddingMatrix (word_index, word_vector_model)\n",
    "# produit matriciel entre cette matrice et les tf-idf\n",
    "Xencoded = sparseMultiply( Xencoded, embedding_matrix)"
   ]
  },
  {
   "cell_type": "markdown",
   "metadata": {},
   "source": [
    "### Resultat\n",
    "Comme on le voulait, une matrice qui représente chaque document par un vecteur embedding de taille fixe ( on obtient une toute petite matrice au final donc les calculs sont plutot rapides ) "
   ]
  },
  {
   "cell_type": "code",
   "execution_count": 20,
   "metadata": {},
   "outputs": [
    {
     "data": {
      "text/plain": [
       "(42, 100)"
      ]
     },
     "execution_count": 20,
     "metadata": {},
     "output_type": "execute_result"
    }
   ],
   "source": [
    "Xencoded.shape"
   ]
  },
  {
   "cell_type": "markdown",
   "metadata": {},
   "source": [
    "Comparé à la matrice qui contient tous les mots du corpus, on a bien réduit les dimensions"
   ]
  },
  {
   "cell_type": "code",
   "execution_count": 21,
   "metadata": {},
   "outputs": [
    {
     "data": {
      "text/plain": [
       "(60124, 100)"
      ]
     },
     "execution_count": 21,
     "metadata": {},
     "output_type": "execute_result"
    }
   ],
   "source": [
    "word_vector_model.wv.vectors.shape"
   ]
  },
  {
   "cell_type": "markdown",
   "metadata": {},
   "source": [
    "## Visualisation des résultats obtenus\n",
    "ENFIN ! on fait juste un calcul de similarité de cosinus entre chaque pair de documents et le tour est joué !"
   ]
  },
  {
   "cell_type": "code",
   "execution_count": 22,
   "metadata": {},
   "outputs": [],
   "source": [
    "from sklearn.metrics.pairwise import cosine_similarity\n",
    "\n",
    "\"\"\" Similarity Measure \"\"\"\n",
    "# Eh beeeh rien à expliquer de spécial\n",
    "# in : Xencoded ( qui à ce niveau du code à été écrasé par le sparseMultiply et représente donc la \n",
    "#          nouvelle représentation matricielle du corpus, chaque ligne correspond toujours à un document,\n",
    "#          sauf que maintenant au lieu d'avoir une colonne représente un mot, on a un truc abstrait dans chaque\n",
    "#          colonne, càd chaque document est représenté par un vecteur de nombres ( int ? float ? ) mais qui n'a\n",
    "#          pas forcément un sense compréhensible directement par nous )\n",
    "# out : matrice carré de similarités entre chaque couple de documents ( case[i,j] = similarité entre doc i et doc j )\n",
    "# Bieeensure préserver l'ordre des documents\n",
    "\n",
    "sim = cosine_similarity(Xencoded)"
   ]
  },
  {
   "cell_type": "code",
   "execution_count": 23,
   "metadata": {},
   "outputs": [
    {
     "data": {
      "image/png": "[encoded data removed]",
      "text/plain": [
       "<Figure size 720x720 with 1 Axes>"
      ]
     },
     "metadata": {
      "needs_background": "light"
     },
     "output_type": "display_data"
    }
   ],
   "source": [
    "plt.figure(figsize=(10,10))\n",
    "plt.imshow(sim, cmap='YlGn', interpolation='nearest')\n",
    "plt.xticks(range(len(series)), [\" \".join(x.split(\"_\")[1:]) for x in series], rotation='vertical')\n",
    "plt.yticks(range(len(series)), [\" \".join(x.split(\"_\")[1:]) for x in series])\n",
    "plt.show()"
   ]
  },
  {
   "cell_type": "markdown",
   "metadata": {},
   "source": [
    "### Sauvegarde de la matrice de similarités"
   ]
  },
  {
   "cell_type": "code",
   "execution_count": 24,
   "metadata": {},
   "outputs": [],
   "source": [
    "np.save(w2vPath+'sim_'+str(nbSeries)+'.npy', sim)"
   ]
  },
  {
   "cell_type": "markdown",
   "metadata": {},
   "source": [
    "# Observations\n",
    "De première vue les résultats semblent meilleures que juste l'utilisation de tf-idf, les word embedding ont vraiment apporté plus d'information aux vecteurs documents.\n",
    "\n",
    "On remarque que \"The Simpsons\" est bien proche de \"South Park\" , \"Family Guy\" et \"Married... With Children\"\n",
    "\n",
    "EH BEEH c'est super ça :D !"
   ]
  },
  {
   "cell_type": "markdown",
   "metadata": {},
   "source": [
    "## Quelques tests\n",
    "Nous avons calculé les similarités pour 3000 séries et on peut essayer de voir si les résultats semblent plutot cohérents juste par rapport à la similarité.\n",
    "\n",
    "On affiche donc les 10 séries les plus similaires à quelques séries connues pour voir si la similarité à l'air de donner de bon résultats."
   ]
  },
  {
   "cell_type": "code",
   "execution_count": 25,
   "metadata": {},
   "outputs": [],
   "source": [
    "# chargement de la matrice de similarités de 3000 séries\n",
    "sim_load = 'sim_3000.npy'\n",
    "sim = np.load(w2vPath+sim_load)\n",
    "\n",
    "# chargement des listes de noms\n",
    "seriesNames, epCount = getMostImportantSeries(path, byepisodes=True)\n",
    "series = seriesNames[:3000]"
   ]
  },
  {
   "cell_type": "markdown",
   "metadata": {},
   "source": [
    "On se sert de ce bout de code pour chercher l'id d'une série dans notre matrice de similarités, à partir d'un sous mot de son nom"
   ]
  },
  {
   "cell_type": "code",
   "execution_count": 39,
   "metadata": {
    "scrolled": true
   },
   "outputs": [
    {
     "data": {
      "text/plain": [
       "[('880_Brooklyn_Nine-Nine', 414),\n",
       " ('3260_Taxi_Brooklyn', 1415),\n",
       " ('1536_Brooklyn_DA', 2989)]"
      ]
     },
     "execution_count": 39,
     "metadata": {},
     "output_type": "execute_result"
    }
   ],
   "source": [
    "# mot clé à chercher dans le nom de la série, pour obtenir l'id de la série dans la matrice\n",
    "ssMot = \"brooklyn\"\n",
    "matching = [(s,i) for i,s in enumerate(series) if ssMot.lower() in s.lower()]\n",
    "matching"
   ]
  },
  {
   "cell_type": "code",
   "execution_count": 27,
   "metadata": {},
   "outputs": [
    {
     "name": "stdout",
     "output_type": "stream",
     "text": [
      "Chosen Serie : 411_Doctor_Who_(1963)\n",
      "Similar to :\n",
      "1921_Lost_in_Space\n",
      "2342_The_Outer_Limits_(1963)\n",
      "2339_Doctor_Who\n",
      "2929_Logan_s_Run\n",
      "441_Out_of_the_unknown\n",
      "2673_Quatermass_II\n",
      "2215_Crusade\n",
      "2886_Buck_Rogers_in_the_25th_Century\n",
      "2056_Planet_of_the_Apes\n",
      "1364_Stargate_Atlantis\n"
     ]
    }
   ],
   "source": [
    "# id de la série choisie\n",
    "serie_ = 0\n",
    "# le nombre de séries similaires à afficher\n",
    "nbOfSims = 10\n",
    "# Affichage des séries les plus similaires par ordre décroissant\n",
    "similar_idx = np.array(np.argsort(sim[serie_])[-nbOfSims-1:-1])\n",
    "s = np.array(series)\n",
    "print(\"Chosen Serie : \"+series[serie_])\n",
    "print(\"Similar to :\")\n",
    "res = list(s[similar_idx])[::-1]\n",
    "print(*res, sep='\\n')"
   ]
  },
  {
   "cell_type": "markdown",
   "metadata": {},
   "source": [
    "### Quelques séries célèbres et leurs similarités"
   ]
  },
  {
   "cell_type": "code",
   "execution_count": 40,
   "metadata": {},
   "outputs": [
    {
     "name": "stdout",
     "output_type": "stream",
     "text": [
      "Chosen Serie : 411_Doctor_Who_(1963)\n",
      "Similar to :\n",
      "1921_Lost_in_Space\n",
      "2342_The_Outer_Limits_(1963)\n",
      "2339_Doctor_Who\n",
      "2929_Logan_s_Run\n",
      "441_Out_of_the_unknown\n",
      "2673_Quatermass_II\n",
      "2215_Crusade\n",
      "2886_Buck_Rogers_in_the_25th_Century\n",
      "2056_Planet_of_the_Apes\n",
      "1364_Stargate_Atlantis\n",
      "\n",
      "\n",
      "Chosen Serie : 1576_How_I_Met_Your_Mother\n",
      "Similar to :\n",
      "2371_Weird_Loners\n",
      "1415_Better_With_You\n",
      "1223_Marry_Me\n",
      "297_What_I_Like_About_You\n",
      "2444_Mad_Love\n",
      "1715_100_Questions\n",
      "174_Modern_Family\n",
      "3170_Love_Bites\n",
      "2441_Friends\n",
      "1271_Perfect_Couples\n",
      "\n",
      "\n",
      "Chosen Serie : 2289_Game_of_Thrones\n",
      "Similar to :\n",
      "2257_Camelot\n",
      "1542_The_Dovekeepers\n",
      "1719_Vikings\n",
      "583_The_Last_Kingdom\n",
      "1033_Rome\n",
      "3168_Roman_Mysteries\n",
      "61_Atlantis_(2013)\n",
      "1280_Robin_Hood\n",
      "2964_The_Bastard_Executioner\n",
      "3024_Kung_Fu\n",
      "\n",
      "\n",
      "Chosen Serie : 2441_Friends\n",
      "Similar to :\n",
      "1408_Will_and_Grace\n",
      "357_Samantha_Who_\n",
      "657_What_About_Brian\n",
      "3056_Related\n",
      "2140_Friends_with_Better_Lives\n",
      "2444_Mad_Love\n",
      "1992_Melissa_Joey\n",
      "1152_Sean_Saves_The_World\n",
      "1415_Better_With_You\n",
      "174_Modern_Family\n",
      "\n",
      "\n",
      "Chosen Serie : 1095_The_Simpsons\n",
      "Similar to :\n",
      "1135_The_Looney_Tunes_Show_(2011)\n",
      "628_The_Cleveland_Show\n",
      "950_American_Dad\n",
      "478_Neighbors_From_Hell\n",
      "1183_Man_Up\n",
      "2179_Raising_Hope\n",
      "3196_Bob_s_Burgers\n",
      "573_King_of_the_Hill\n",
      "67_Napoleon_Dynamite\n",
      "2539_Sit_Down__Shut_Up\n",
      "\n",
      "\n",
      "Chosen Serie : 6_Yu-Gi-Oh_Duel_Monsters\n",
      "Similar to :\n",
      "19_Marvel_Disk_Wars__The_Avengers\n",
      "1684_Mortal_Kombat__Legacy\n",
      "340_Mortal_Kombat__Conquest\n",
      "1751_Glass_Feet\n",
      "636_Avengers_Assemble\n",
      "2110_Dragon_Ball_Kai\n",
      "351_Legend_Of_Earthsea\n",
      "1796_Silver_Surfer\n",
      "2696_Olympus\n",
      "2660_Dragon_Ball_Super\n",
      "\n",
      "\n",
      "Chosen Serie : 3160_Star_Trek__Voyager\n",
      "Similar to :\n",
      "3358_Star_Trek__The_Next_Generation\n",
      "1682_Star_Trek__Enterprise\n",
      "1811_Star_Trek__The_Animated_Series\n",
      "2105_Star_Trek\n",
      "1396_Star_Trek_Continues\n",
      "1131_Blake_s_7\n",
      "3158_Star_Trek__Deep_Space_Nine\n",
      "1364_Stargate_Atlantis\n",
      "2908_Andromeda\n",
      "2232_Stargate_SG-1\n",
      "\n",
      "\n",
      "Chosen Serie : 2753_Rick_and_Morty\n",
      "Similar to :\n",
      "1590_Ugly_Americans\n",
      "564_Triptank\n",
      "1942_The_Whitest_Kids_U_Know\n",
      "950_American_Dad\n",
      "2927_South_Park\n",
      "1116_Gravity_Falls\n",
      "1062_Bravest_Warriors\n",
      "929_Weird_Science\n",
      "1735_Futurama\n",
      "1183_Man_Up\n",
      "\n",
      "\n",
      "Chosen Serie : 2540_The_Vampire_Diaries\n",
      "Similar to :\n",
      "673_The_Secret_Circle\n",
      "1300_Bitten\n",
      "1687_Witches_of_East_End\n",
      "2366_Charmed\n",
      "1844_Heroes\n",
      "1217_Being_Human_(US)\n",
      "346_Lost_Girl\n",
      "553_Blade_The_Series\n",
      "2477_Constantine\n",
      "81_Demons\n",
      "\n",
      "\n",
      "Chosen Serie : 1922_House\n",
      "Similar to :\n",
      "579_Black_Box\n",
      "1863_3_Lbs.\n",
      "1512_Monday_Mornings\n",
      "28_Emily_Owens_M.D.\n",
      "2586_Medical_Investigation\n",
      "2401_A_Gifted_Man\n",
      "2505_Remedy\n",
      "976_Grey_s_Anatomy\n",
      "1256_Eleventh_Hour_(US)\n",
      "23_Monroe\n",
      "\n",
      "\n",
      "Chosen Serie : 1039_CSI__Crime_Scene_Investigation\n",
      "Similar to :\n",
      "1090_CSI__NY\n",
      "1253_CSI__Miami\n",
      "789_Rizzoli_Isles\n",
      "1732_Crossing_Jordan\n",
      "756_Body_of_Proof\n",
      "265_Motive\n",
      "3088_Profiler\n",
      "784_Unforgettable\n",
      "1060_The_Glades\n",
      "1010_King_(2011)\n",
      "\n",
      "\n",
      "Chosen Serie : 2293_Shameless_(US)\n",
      "Similar to :\n",
      "2178_Rescue_Me\n",
      "951_Lucky_Louie\n",
      "3215_Weeds\n",
      "2043_Less_Than_Kind\n",
      "1708_Hung\n",
      "2220_Grounded_for_Life\n",
      "1097_Orange_is_the_New_Black\n",
      "2718_Family_Tools\n",
      "3338_Huff\n",
      "927_Legit\n",
      "\n",
      "\n",
      "Chosen Serie : 1286_Smallville\n",
      "Similar to :\n",
      "1043_Lois_Clark__The_New_Adventures_of_Superman\n",
      "1844_Heroes\n",
      "3009_The_Tomorrow_People_(US)\n",
      "702_The_4400\n",
      "3066_Birds_of_Prey\n",
      "1913_Terminator__The_Sarah_Connor_Chronicles\n",
      "2755_The_Messengers\n",
      "1455_Roswell\n",
      "2933_Caprica\n",
      "516_Haven\n",
      "\n",
      "\n",
      "Chosen Serie : 880_Brooklyn_Nine-Nine\n",
      "Similar to :\n",
      "589_Psych\n",
      "2328_Scoundrels\n",
      "2313_Prime_Suspect\n",
      "1946_Benched\n",
      "632_The_Job\n",
      "584_Rookie_Blue\n",
      "1563_Bad_Judge\n",
      "14_In_Plain_Sight\n",
      "2078_Men_at_Work\n",
      "2563_Early_Edition\n",
      "\n",
      "\n"
     ]
    }
   ],
   "source": [
    "series_celebre = [(\"411_Doctor_Who_(1963)\", 0),('1576_How_I_Met_Your_Mother', 28),('2289_Game_of_Thrones', 346),\n",
    "                  ('2441_Friends', 18),('1095_The_Simpsons', 1),('6_Yu-Gi-Oh_Duel_Monsters', 21),\n",
    "                  ('3160_Star_Trek__Voyager', 57),('2753_Rick_and_Morty', 896),('2540_The_Vampire_Diaries', 92),\n",
    "                  ('1922_House', 51),('1039_CSI__Crime_Scene_Investigation', 4),('2293_Shameless_(US)', 339),\n",
    "                  ('1286_Smallville', 25),('880_Brooklyn_Nine-Nine', 414)]\n",
    "\n",
    "nbOfSims = 10\n",
    "\n",
    "for nom, idx in series_celebre:\n",
    "    # Affichage des séries les plus similaires par ordre décroissant\n",
    "    similar_idx = np.array(np.argsort(sim[idx])[-nbOfSims-1:-1])\n",
    "    s = np.array(series)\n",
    "    print(\"Chosen Serie : \"+nom)\n",
    "    print(\"Similar to :\")\n",
    "    res = list(s[similar_idx])[::-1]\n",
    "    print(*res, sep='\\n')\n",
    "    print(\"\\n\")"
   ]
  },
  {
   "cell_type": "markdown",
   "metadata": {},
   "source": [
    "### perspectives\n",
    "Il faut experimenter avec d'autres combinaisons :\n",
    "- différentes représentations de base d'un document ( Count, Tf, Tf-idf ... ) \n",
    "- différents prétraitements : stemming, lemmatizing, subsampling ...\n",
    "- différentes mesures de similarité : Euclidian distance, Jaccard ...\n",
    "\n",
    "Voir même entrainer les word embeddings sur un corpus plus gros ( ça pourrait prendre du temps, mais on le fait une fois pour toute )"
   ]
  }
 ],
 "metadata": {
  "kernelspec": {
   "display_name": "Python 3",
   "language": "python",
   "name": "python3"
  },
  "language_info": {
   "codemirror_mode": {
    "name": "ipython",
    "version": 3
   },
   "file_extension": ".py",
   "mimetype": "text/x-python",
   "name": "python",
   "nbconvert_exporter": "python",
   "pygments_lexer": "ipython3",
   "version": "3.7.1"
  }
 },
 "nbformat": 4,
 "nbformat_minor": 2
}
