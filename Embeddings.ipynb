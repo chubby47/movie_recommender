{
 "cells": [
  {
   "cell_type": "markdown",
   "metadata": {},
   "source": [
    "# Similarités entre séries\n",
    "\n",
    "#### - recherche d'une mesure de similarité pertinente"
   ]
  },
  {
   "cell_type": "code",
   "execution_count": 2,
   "metadata": {},
   "outputs": [],
   "source": [
    "import glob\n",
    "import numpy as np\n",
    "import matplotlib.pyplot as plt\n",
    "from nltk.corpus import stopwords\n",
    "from nltk import wordpunct_tokenize\n",
    "import seaborn as sns\n",
    "#using https://github.com/amueller/word_cloud\n",
    "from wordcloud import WordCloud\n",
    "\n",
    "from utils.load_data import getMostImportantSeries\n",
    "\n",
    "plt.style.use('seaborn-white')\n",
    "%matplotlib inline\n",
    "\n",
    "#dataset path\n",
    "path = \"/root/Documents/PLDAC/data\"\n",
    "w2vPath = \"/root/Documents/PLDAC/Word2VecData/\"\n",
    "nbSeries = 20"
   ]
  },
  {
   "cell_type": "code",
   "execution_count": 3,
   "metadata": {},
   "outputs": [
    {
     "data": {
      "text/plain": [
       "['411_Doctor_Who_(1963)',\n",
       " '1095_The_Simpsons',\n",
       " '1535_Law_Order_SVU',\n",
       " '2976_Law_Order',\n",
       " '1039_CSI__Crime_Scene_Investigation',\n",
       " '830_ER',\n",
       " '342_Fair_City',\n",
       " '2331_NCIS',\n",
       " '2580_Two_and_a_Half_Men',\n",
       " '2927_South_Park',\n",
       " '1379_Frasier',\n",
       " '2296_Married..._With_Children',\n",
       " '2046_Bewitched',\n",
       " '625_Family_Guy',\n",
       " '490_MASH',\n",
       " '976_Grey_s_Anatomy',\n",
       " '2013_Survivor',\n",
       " '2142_Criminal_Minds',\n",
       " '2441_Friends',\n",
       " '1253_CSI__Miami']"
      ]
     },
     "execution_count": 3,
     "metadata": {},
     "output_type": "execute_result"
    }
   ],
   "source": [
    "seriesNames, epCount = getMostImportantSeries(path, byepisodes=True)\n",
    "series = seriesNames[:nbSeries]\n",
    "series"
   ]
  },
  {
   "cell_type": "markdown",
   "metadata": {},
   "source": [
    "Reprenons notre liste de séries célèbres, étoffée cette fois-ci: la liste contient **42 séries de plusieurs genres différents**."
   ]
  },
  {
   "cell_type": "code",
   "execution_count": 4,
   "metadata": {},
   "outputs": [],
   "source": [
    "import numpy as np\n",
    "from sklearn.datasets import fetch_20newsgroups\n",
    "from nltk.tokenize import RegexpTokenizer\n",
    "from nltk.corpus import stopwords\n",
    "import string\n",
    "nltk_stopw = stopwords.words('english')\n",
    "\n",
    "def tokenize(text):\n",
    "    #   no punctuation & starts with a letter & between 3-15 characters in length\n",
    "    tokens = [word.strip(string.punctuation) for word in RegexpTokenizer(r'\\b[a-zA-Z][a-zA-Z0-9]{2,14}\\b').tokenize(text)]\n",
    "    return [f.lower() for f in tokens if f and f.lower() not in nltk_stopw]"
   ]
  },
  {
   "cell_type": "code",
   "execution_count": 5,
   "metadata": {},
   "outputs": [],
   "source": [
    "corpus = []\n",
    "corpus_tokenized = []\n",
    "for serie in series:\n",
    "    listepisodes = glob.glob(path+\"/\"+serie+\"/*/*.lines\")\n",
    "    text = \"\"\n",
    "    serie_tokens = []\n",
    "    for episode in listepisodes:\n",
    "        with open(episode, \"r\", encoding=\"utf-8\") as file:\n",
    "            tokenized = tokenize(file.read())\n",
    "            serie_tokens += tokenized\n",
    "            text += \" \" + \" \".join(tokenized)\n",
    "    corpus_tokenized.append(serie_tokens)\n",
    "    corpus.append(text)"
   ]
  },
  {
   "cell_type": "code",
   "execution_count": 6,
   "metadata": {},
   "outputs": [
    {
     "name": "stdout",
     "output_type": "stream",
     "text": [
      "['doctor', 'theme', 'humming', 'groans', 'right', 'doctor', 'groaning', 'doctor', 'invasion', 'begun']\n",
      " doctor theme humming groans right doctor groaning doctor invasion begun yes jamie rather gathered \n"
     ]
    }
   ],
   "source": [
    "print(corpus_tokenized[0][:10])\n",
    "print(corpus[0][:99])"
   ]
  },
  {
   "cell_type": "code",
   "execution_count": 7,
   "metadata": {},
   "outputs": [],
   "source": [
    "with open(w2vPath+\"corpus\",\"w\") as f:\n",
    "    for doc in corpus:\n",
    "        f.write(doc)\n",
    "        f.write(\" \")"
   ]
  },
  {
   "cell_type": "code",
   "execution_count": 8,
   "metadata": {},
   "outputs": [],
   "source": [
    "%load_ext autoreload\n",
    "%autoreload 2"
   ]
  },
  {
   "cell_type": "code",
   "execution_count": 9,
   "metadata": {},
   "outputs": [],
   "source": [
    "import word2vec\n",
    "p_size = 100"
   ]
  },
  {
   "cell_type": "code",
   "execution_count": 10,
   "metadata": {},
   "outputs": [
    {
     "name": "stdout",
     "output_type": "stream",
     "text": [
      "Starting training using file /root/Documents/PLDAC/Word2VecData/corpus\n",
      "Words processed: 11300K     Vocab size: 4762K  \n",
      "Vocab size (unigrams + bigrams): 2564681\n",
      "Words in train file: 11317596\n",
      "Words written: 11300K\r"
     ]
    }
   ],
   "source": [
    "word2vec.word2phrase(w2vPath+\"corpus\", w2vPath+'corpus-phrases', verbose=True)"
   ]
  },
  {
   "cell_type": "code",
   "execution_count": 11,
   "metadata": {},
   "outputs": [
    {
     "name": "stdout",
     "output_type": "stream",
     "text": [
      "Starting training using file /root/Documents/PLDAC/Word2VecData/corpus-phrases\n",
      "Vocab size: 66251\n",
      "Words in train file: 10716159\n",
      "Alpha: 0.000002  Progress: 100.04%  Words/thread/sec: 142.65k    Words/thread/sec: 126.03k  d/sec: 134.54k  Words/thread/sec: 141.81k  hread/sec: 142.21k  97k  023614  Progress: 5.57%  Words/thread/sec: 141.53k  s: 6.21%  Words/thread/sec: 142.58k  ad/sec: 143.06k    43.36k  ress: 7.90%  Words/thread/sec: 142.67k  84  Progress: 8.48%  Words/thread/sec: 143.26k  00%  Words/thread/sec: 143.00k  sec: 143.86k  read/sec: 143.81k  06k  rds/thread/sec: 144.46k  ress: 10.96%  Words/thread/sec: 144.66k    Words/thread/sec: 143.67k  : 143.32k  43.52k  ad/sec: 143.45k  ords/thread/sec: 142.76k  12.97%  Words/thread/sec: 143.35k  rogress: 13.29%  Words/thread/sec: 142.44k  ha: 0.021582  Progress: 13.69%  Words/thread/sec: 142.54k  a: 0.021476  Progress: 14.12%  Words/thread/sec: 142.25k  1366  Progress: 14.56%  Words/thread/sec: 141.83k  0.021335  Progress: 14.68%  Words/thread/sec: 141.96k    15.20%  Words/thread/sec: 141.71k  rogress: 15.53%  Words/thread/sec: 141.39k  21022  Progress: 15.93%  Words/thread/sec: 140.75k  d/sec: 141.30k  rds/thread/sec: 141.56k  Words/thread/sec: 141.54k  c: 141.85k  pha: 0.020399  Progress: 18.42%  Words/thread/sec: 141.25k  sec: 141.56k  4%  Words/thread/sec: 141.51k  ogress: 20.32%  Words/thread/sec: 141.62k  2%  Words/thread/sec: 141.48k  /sec: 141.96k    Words/thread/sec: 141.92k  thread/sec: 142.10k  s: 22.35%  Words/thread/sec: 141.87k  0.019253  Progress: 23.01%  Words/thread/sec: 141.89k  .61%  Words/thread/sec: 142.06k  ead/sec: 142.18k   24.29%  Words/thread/sec: 142.12k  /thread/sec: 142.43k  018697  Progress: 25.23%  Words/thread/sec: 142.75k  58%  Words/thread/sec: 142.40k  c: 142.70k  rds/thread/sec: 142.51k   27.04%  Words/thread/sec: 142.49k  /thread/sec: 142.59k  pha: 0.018058  Progress: 27.79%  Words/thread/sec: 142.84k   28.31%  Words/thread/sec: 143.03k  %  Words/thread/sec: 142.83k  06%  Words/thread/sec: 142.98k   0.017609  Progress: 29.58%  Words/thread/sec: 142.84k  rds/thread/sec: 142.98k  9k  thread/sec: 142.77k  s: 31.35%  Words/thread/sec: 142.82k  gress: 31.80%  Words/thread/sec: 142.83k   0.016940  Progress: 32.26%  Words/thread/sec: 142.71k   142.66k  thread/sec: 142.46k   33.85%  Words/thread/sec: 142.41k  Progress: 34.17%  Words/thread/sec: 142.34k  .016382  Progress: 34.49%  Words/thread/sec: 142.38k  0.016236  Progress: 35.08%  Words/thread/sec: 142.36k  142.24k  a: 0.016069  Progress: 35.74%  Words/thread/sec: 142.45k  ogress: 36.42%  Words/thread/sec: 142.44k  pha: 0.015738  Progress: 37.07%  Words/thread/sec: 142.29k  sec: 142.52k  5447  Progress: 38.23%  Words/thread/sec: 142.58k  ess: 38.70%  Words/thread/sec: 142.58k  : 0.015169  Progress: 39.34%  Words/thread/sec: 142.77k  : 142.88k   Words/thread/sec: 142.61k  thread/sec: 142.50k  .014600  Progress: 41.62%  Words/thread/sec: 142.14k  42.04k  27  Progress: 42.71%  Words/thread/sec: 142.10k  3.24%  Words/thread/sec: 141.87k    Words/thread/sec: 141.82k  ess: 44.02%  Words/thread/sec: 141.81k  .99k  s/thread/sec: 142.05k  47%  Words/thread/sec: 142.02k  ess: 45.89%  Words/thread/sec: 142.14k  %  Words/thread/sec: 142.18k  ha: 0.013396  Progress: 46.44%  Words/thread/sec: 142.10k  0  Progress: 46.98%  Words/thread/sec: 142.04k  /thread/sec: 142.11k  .013015  Progress: 47.96%  Words/thread/sec: 142.18k  9  Progress: 48.34%  Words/thread/sec: 142.22k  gress: 48.85%  Words/thread/sec: 142.33k  : 142.38k   Words/thread/sec: 142.33k  Progress: 50.58%  Words/thread/sec: 142.25k  d/sec: 142.35k  .50%  Words/thread/sec: 142.22k  721  Progress: 53.14%  Words/thread/sec: 142.26k  0k  ec: 141.85k  .43%  Words/thread/sec: 141.87k  ss: 55.05%  Words/thread/sec: 141.79k  1092  Progress: 55.65%  Words/thread/sec: 141.88k     Words/thread/sec: 141.40k  Progress: 57.65%  Words/thread/sec: 141.26k   Words/thread/sec: 141.24k   Words/thread/sec: 141.28k  ad/sec: 141.35k  9.57%  Words/thread/sec: 141.37k  9948  Progress: 60.23%  Words/thread/sec: 141.30k  26k  sec: 141.37k  3%  Words/thread/sec: 141.49k   0.009299  Progress: 62.82%  Words/thread/sec: 141.58k   141.67k  rds/thread/sec: 141.62k  lpha: 0.008815  Progress: 64.76%  Words/thread/sec: 141.73k  lpha: 0.008654  Progress: 65.40%  Words/thread/sec: 141.83k  /sec: 141.90k  67%  Words/thread/sec: 141.94k  78  Progress: 67.31%  Words/thread/sec: 141.88k  k  hread/sec: 141.89k    Words/thread/sec: 141.96k  Words/thread/sec: 142.02k   Progress: 69.68%  Words/thread/sec: 141.97k   ead/sec: 141.96k  71.46%  Words/thread/sec: 142.01k  06980  Progress: 72.10%  Words/thread/sec: 141.87k   Progress: 72.52%  Words/thread/sec: 141.94k  /sec: 141.88k  71%  Words/thread/sec: 141.82k  c: 141.73k  ess: 74.55%  Words/thread/sec: 141.79k  2k  0.006121  Progress: 75.54%  Words/thread/sec: 141.83k  %  Words/thread/sec: 141.89k  read/sec: 141.90k   0.005770  Progress: 76.94%  Words/thread/sec: 141.99k   142.08k  59  Progress: 78.18%  Words/thread/sec: 141.99k   78.53%  Words/thread/sec: 142.10k  005212  Progress: 79.17%  Words/thread/sec: 142.09k  142.13k  d/sec: 142.17k  4  Progress: 80.72%  Words/thread/sec: 142.05k  723  Progress: 81.13%  Words/thread/sec: 141.99k  603  Progress: 81.61%  Words/thread/sec: 142.05k  142.12k  4%  Words/thread/sec: 142.19k  /thread/sec: 142.23k   Progress: 83.70%  Words/thread/sec: 142.25k    66  Progress: 84.96%  Words/thread/sec: 142.26k  ead/sec: 142.20k   86.12%  Words/thread/sec: 142.22k  60%  Words/thread/sec: 142.31k  9%  Words/thread/sec: 142.37k  ogress: 87.55%  Words/thread/sec: 142.40k  ogress: 87.99%  Words/thread/sec: 142.46k   6  Progress: 89.12%  Words/thread/sec: 142.42k  01  Progress: 89.62%  Words/thread/sec: 142.41k  ha: 0.002480  Progress: 90.10%  Words/thread/sec: 142.48k  : 90.82%  Words/thread/sec: 142.52k  .45%  Words/thread/sec: 142.45k  01993  Progress: 92.05%  Words/thread/sec: 142.47k  ad/sec: 142.50k  ress: 93.28%  Words/thread/sec: 142.50k   93.85%  Words/thread/sec: 142.50k  2.53k   Words/thread/sec: 142.55k  lpha: 0.001115  Progress: 95.56%  Words/thread/sec: 142.55k  Progress: 96.04%  Words/thread/sec: 142.53k  /sec: 142.49k  : 96.87%  Words/thread/sec: 142.51k  /sec: 142.56k  sec: 142.56k  ogress: 98.78%  Words/thread/sec: 142.58k  Words/thread/sec: 142.58k  "
     ]
    }
   ],
   "source": [
    "word2vec.word2vec(w2vPath+'corpus-phrases', w2vPath+'corpus.bin', size=p_size, verbose=True)"
   ]
  },
  {
   "cell_type": "code",
   "execution_count": 12,
   "metadata": {},
   "outputs": [
    {
     "name": "stdout",
     "output_type": "stream",
     "text": [
      "Starting training using file /root/Documents/PLDAC/Word2VecData/corpus\n",
      "Vocab size: 48330\n",
      "Words in train file: 11196135\n",
      "Alpha: 0.000002  Progress: 100.04%  Words/thread/sec: 134.65k    Progress: 1.30%  Words/thread/sec: 125.09k  /thread/sec: 127.15k  .25%  Words/thread/sec: 134.17k  /thread/sec: 134.32k   Words/thread/sec: 135.81k  .82%  Words/thread/sec: 136.24k  ords/thread/sec: 137.55k  read/sec: 138.87k   Words/thread/sec: 140.11k  81  Progress: 5.29%  Words/thread/sec: 140.90k  s: 5.62%  Words/thread/sec: 140.42k   Progress: 5.98%  Words/thread/sec: 140.11k  %  Words/thread/sec: 140.03k  /sec: 140.74k  41.24k  thread/sec: 141.51k  : 142.05k  Words/thread/sec: 142.38k  Words/thread/sec: 142.73k  c: 142.30k    Words/thread/sec: 142.32k  s: 10.91%  Words/thread/sec: 142.98k  43.21k   143.36k   143.93k  12.63%  Words/thread/sec: 143.76k  2.88%  Words/thread/sec: 143.59k  Progress: 13.34%  Words/thread/sec: 143.38k  : 143.48k  ad/sec: 143.31k  367  Progress: 14.55%  Words/thread/sec: 143.90k  ords/thread/sec: 144.19k    21060  Progress: 15.78%  Words/thread/sec: 144.24k  lpha: 0.020983  Progress: 16.09%  Words/thread/sec: 144.20k  4.04k  d/sec: 144.26k  rds/thread/sec: 143.96k  7.31%  Words/thread/sec: 143.98k  ogress: 17.61%  Words/thread/sec: 144.03k  20525  Progress: 17.92%  Words/thread/sec: 143.79k   18.43%  Words/thread/sec: 144.05k  read/sec: 144.04k  d/sec: 144.21k  rds/thread/sec: 143.96k  ess: 19.68%  Words/thread/sec: 143.89k  9987  Progress: 20.07%  Words/thread/sec: 143.59k  pha: 0.019901  Progress: 20.42%  Words/thread/sec: 143.52k  9808  Progress: 20.79%  Words/thread/sec: 143.08k  /sec: 143.28k  k  ress: 21.96%  Words/thread/sec: 141.91k  pha: 0.019399  Progress: 22.42%  Words/thread/sec: 141.81k  ha: 0.019361  Progress: 22.58%  Words/thread/sec: 141.46k  97k  sec: 140.71k  s: 23.55%  Words/thread/sec: 140.68k  0.24k  07  Progress: 24.39%  Words/thread/sec: 140.36k  k  pha: 0.018630  Progress: 25.50%  Words/thread/sec: 139.88k  thread/sec: 139.67k  %  Words/thread/sec: 139.64k  ds/thread/sec: 139.38k  : 139.27k    read/sec: 138.98k   28.33%  Words/thread/sec: 138.74k  017769  Progress: 28.94%  Words/thread/sec: 138.16k  8.17k  ds/thread/sec: 138.10k  ress: 30.76%  Words/thread/sec: 138.17k  a: 0.017160  Progress: 31.38%  Words/thread/sec: 138.21k  5k  ec: 137.79k  /thread/sec: 137.55k  9%  Words/thread/sec: 137.65k  ess: 32.90%  Words/thread/sec: 137.76k  : 0.016628  Progress: 33.51%  Words/thread/sec: 137.63k  : 137.70k   Words/thread/sec: 137.43k  Progress: 35.33%  Words/thread/sec: 137.31k  .016095  Progress: 35.64%  Words/thread/sec: 137.36k  137.38k  ead/sec: 137.38k  Words/thread/sec: 137.23k   37.15%  Words/thread/sec: 137.29k  Progress: 37.46%  Words/thread/sec: 137.32k  .015561  Progress: 37.78%  Words/thread/sec: 137.32k  136.99k  136.68k  s/thread/sec: 136.28k  rogress: 39.63%  Words/thread/sec: 136.36k  15%  Words/thread/sec: 136.13k  5.93k  d/sec: 135.63k  rds/thread/sec: 135.49k  gress: 41.81%  Words/thread/sec: 135.63k  lpha: 0.014412  Progress: 42.37%  Words/thread/sec: 135.34k  48k  sec: 135.41k  3%  Words/thread/sec: 135.18k  ess: 43.94%  Words/thread/sec: 135.08k  sec: 134.89k  k  read/sec: 134.79k  2%  Words/thread/sec: 134.48k  s: 46.07%  Words/thread/sec: 134.07k  ss: 46.56%  Words/thread/sec: 133.69k   ead/sec: 133.61k  48.19%  Words/thread/sec: 133.66k    lpha: 0.012727  Progress: 49.11%  Words/thread/sec: 133.17k  /sec: 133.01k  32%  Words/thread/sec: 132.99k  a: 0.012196  Progress: 51.24%  Words/thread/sec: 132.95k  c: 132.68k    Words/thread/sec: 132.55k  /sec: 132.23k  34%  Words/thread/sec: 132.08k   ead/sec: 132.13k  24  Progress: 54.72%  Words/thread/sec: 132.29k  rogress: 55.18%  Words/thread/sec: 132.01k  011132  Progress: 55.49%  Words/thread/sec: 131.83k  /thread/sec: 131.91k  lpha: 0.010935  Progress: 56.28%  Words/thread/sec: 131.91k  rds/thread/sec: 131.93k  gress: 57.33%  Words/thread/sec: 131.86k  ha: 0.010520  Progress: 57.94%  Words/thread/sec: 131.96k  6  Progress: 58.44%  Words/thread/sec: 131.97k  /thread/sec: 131.90k  ss: 59.49%  Words/thread/sec: 131.86k  pha: 0.009988  Progress: 60.07%  Words/thread/sec: 131.89k  36%  Words/thread/sec: 131.85k  .68%  Words/thread/sec: 131.78k  hread/sec: 131.80k  : 61.66%  Words/thread/sec: 131.79k  c: 131.78k  ad/sec: 131.91k  3.80%  Words/thread/sec: 131.99k   0.008931  Progress: 64.30%  Words/thread/sec: 132.00k  pha: 0.008826  Progress: 64.72%  Words/thread/sec: 132.07k  sec: 132.20k  2%  Words/thread/sec: 132.21k  thread/sec: 132.27k  : 0.008295  Progress: 66.84%  Words/thread/sec: 132.24k  : 132.34k  hread/sec: 132.39k  : 68.35%  Words/thread/sec: 132.24k  .007764  Progress: 68.96%  Words/thread/sec: 132.42k  32.29k  a: 0.007477  Progress: 70.11%  Words/thread/sec: 132.23k  0.47%  Words/thread/sec: 132.18k  ogress: 70.78%  Words/thread/sec: 132.18k  pha: 0.007157  Progress: 71.39%  Words/thread/sec: 132.18k  sec: 132.29k  ogress: 72.50%  Words/thread/sec: 132.35k  .006831  Progress: 72.70%  Words/thread/sec: 132.34k  43k  a: 0.006624  Progress: 73.52%  Words/thread/sec: 132.41k  1k  ec: 132.47k  /thread/sec: 132.53k  3%  Words/thread/sec: 132.55k  /sec: 132.61k    read/sec: 132.74k   77.20%  Words/thread/sec: 132.75k  005552  Progress: 77.81%  Words/thread/sec: 132.82k  2.92k  ds/thread/sec: 132.98k  ress: 79.66%  Words/thread/sec: 133.08k  a: 0.004933  Progress: 80.29%  Words/thread/sec: 133.09k  3.14k  thread/sec: 133.26k  : 0.004552  Progress: 81.81%  Words/thread/sec: 133.34k    Progress: 82.13%  Words/thread/sec: 133.35k  0.004333  Progress: 82.69%  Words/thread/sec: 133.38k   133.44k  a: 0.004142  Progress: 83.45%  Words/thread/sec: 133.41k  82%  Words/thread/sec: 133.43k  rds/thread/sec: 133.44k  133.53k  6  Progress: 84.95%  Words/thread/sec: 133.56k  0.003666  Progress: 85.35%  Words/thread/sec: 133.58k  3517  Progress: 85.95%  Words/thread/sec: 133.60k  lpha: 0.003388  Progress: 86.47%  Words/thread/sec: 133.67k  0.003282  Progress: 86.89%  Words/thread/sec: 133.68k  lpha: 0.003172  Progress: 87.33%  Words/thread/sec: 133.76k  c: 133.79k  thread/sec: 133.87k  s: 88.71%  Words/thread/sec: 133.77k  : 133.80k  86k  hread/sec: 133.82k  133.82k  gress: 90.70%  Words/thread/sec: 133.84k    134.00k    Words/thread/sec: 134.07k  34.12k  : 0.001664  Progress: 93.36%  Words/thread/sec: 134.08k  9  Progress: 93.86%  Words/thread/sec: 134.16k  ss: 94.32%  Words/thread/sec: 134.19k  /sec: 134.24k  /thread/sec: 134.26k  ec: 134.37k  2  Progress: 96.21%  Words/thread/sec: 134.29k  a: 0.000775  Progress: 96.92%  Words/thread/sec: 134.32k    Progress: 97.46%  Words/thread/sec: 134.37k   0.000505  Progress: 98.01%  Words/thread/sec: 134.39k   134.42k  .24%  Words/thread/sec: 134.45k  5  Progress: 99.68%  Words/thread/sec: 134.56k  "
     ]
    }
   ],
   "source": [
    "word2vec.word2clusters(w2vPath+\"corpus\", w2vPath+'corpus-clusters.txt', p_size, verbose=True)"
   ]
  },
  {
   "cell_type": "code",
   "execution_count": 13,
   "metadata": {},
   "outputs": [],
   "source": [
    "model = word2vec.load(w2vPath+'corpus.bin')"
   ]
  },
  {
   "cell_type": "code",
   "execution_count": 14,
   "metadata": {},
   "outputs": [
    {
     "data": {
      "text/plain": [
       "array(['</s>', 'know', 'get', ..., 'athertons', 'kipayo', 'gunmelt'],\n",
       "      dtype='<U78')"
      ]
     },
     "execution_count": 14,
     "metadata": {},
     "output_type": "execute_result"
    }
   ],
   "source": [
    "model.vocab"
   ]
  },
  {
   "cell_type": "code",
   "execution_count": 15,
   "metadata": {},
   "outputs": [
    {
     "data": {
      "text/plain": [
       "(66251, 100)"
      ]
     },
     "execution_count": 15,
     "metadata": {},
     "output_type": "execute_result"
    }
   ],
   "source": [
    "model.vectors.shape"
   ]
  },
  {
   "cell_type": "code",
   "execution_count": 16,
   "metadata": {},
   "outputs": [
    {
     "data": {
      "text/plain": [
       "array([[ 0.14333282,  0.15825513, -0.13715845, ...,  0.05456942,\n",
       "         0.10955409,  0.00693387],\n",
       "       [ 0.08522963, -0.06683531, -0.20209791, ...,  0.05883418,\n",
       "        -0.14443673,  0.07408841],\n",
       "       [-0.21027602, -0.07544246,  0.01562951, ...,  0.06484609,\n",
       "        -0.11549708,  0.17264278],\n",
       "       ...,\n",
       "       [-0.00207344, -0.04671646,  0.07349046, ...,  0.09639452,\n",
       "         0.0385769 ,  0.06516949],\n",
       "       [ 0.16346149, -0.06585746,  0.12217364, ..., -0.02754136,\n",
       "         0.10673585, -0.0815584 ],\n",
       "       [-0.06036337, -0.05010266, -0.01720569, ...,  0.17009611,\n",
       "         0.04315769, -0.1329854 ]])"
      ]
     },
     "execution_count": 16,
     "metadata": {},
     "output_type": "execute_result"
    }
   ],
   "source": [
    "model.vectors"
   ]
  },
  {
   "cell_type": "code",
   "execution_count": 17,
   "metadata": {},
   "outputs": [
    {
     "data": {
      "text/plain": [
       "(100,)"
      ]
     },
     "execution_count": 17,
     "metadata": {},
     "output_type": "execute_result"
    }
   ],
   "source": [
    "model['bart'].shape"
   ]
  },
  {
   "cell_type": "code",
   "execution_count": 18,
   "metadata": {},
   "outputs": [
    {
     "data": {
      "text/plain": [
       "array([ 0.20503013, -0.06727954, -0.02783315,  0.06513367, -0.07823345,\n",
       "        0.09169652,  0.03737107,  0.04752671, -0.14669022,  0.05418976])"
      ]
     },
     "execution_count": 18,
     "metadata": {},
     "output_type": "execute_result"
    }
   ],
   "source": [
    "model['bart'][:10]"
   ]
  },
  {
   "cell_type": "code",
   "execution_count": 19,
   "metadata": {},
   "outputs": [
    {
     "data": {
      "text/plain": [
       "[('bart', 'lisa', 0.8416748274554965),\n",
       " ('bart', 'fatwah', 0.17148313499325024),\n",
       " ('lisa', 'fatwah', 0.19534121498525486)]"
      ]
     },
     "execution_count": 19,
     "metadata": {},
     "output_type": "execute_result"
    }
   ],
   "source": [
    "model.distance(\"bart\", \"lisa\", \"fatwah\")"
   ]
  },
  {
   "cell_type": "code",
   "execution_count": 20,
   "metadata": {},
   "outputs": [
    {
     "data": {
      "text/plain": [
       "(array([ 1136,  1578,  4632, 45429,  9646,  2834,  8402,  8843,  4509,\n",
       "         1620]),\n",
       " array([0.74284407, 0.68465393, 0.63985068, 0.61558598, 0.59108688,\n",
       "        0.58225222, 0.57058501, 0.55648513, 0.55603793, 0.53746733]))"
      ]
     },
     "execution_count": 20,
     "metadata": {},
     "output_type": "execute_result"
    }
   ],
   "source": [
    "indexes, metrics = model.similar(\"dog\")\n",
    "indexes, metrics"
   ]
  },
  {
   "cell_type": "code",
   "execution_count": 21,
   "metadata": {},
   "outputs": [
    {
     "data": {
      "text/plain": [
       "[('cat', 0.7428440730225525),\n",
       " ('dogs', 0.6846539260538494),\n",
       " ('puppy', 0.6398506811172056),\n",
       " ('ate_homework', 0.6155859840717877),\n",
       " ('mutt', 0.5910868783971095),\n",
       " ('pet', 0.5822522155042023),\n",
       " ('bark', 0.5705850073134271),\n",
       " ('leash', 0.5564851340168908),\n",
       " ('kitty', 0.5560379268213922),\n",
       " ('bird', 0.5374673328919165)]"
      ]
     },
     "execution_count": 21,
     "metadata": {},
     "output_type": "execute_result"
    }
   ],
   "source": [
    "model.generate_response(indexes, metrics).tolist()"
   ]
  },
  {
   "cell_type": "code",
   "execution_count": 22,
   "metadata": {},
   "outputs": [
    {
     "data": {
      "text/plain": [
       "[('washington', 0.8286934600093994),\n",
       " ('montreal', 0.8061348972200946),\n",
       " ('san_diego', 0.7968388341241036),\n",
       " ('detroit', 0.792984230790895),\n",
       " ('phoenix', 0.7871555108779267),\n",
       " ('san_francisco', 0.7847292579506842),\n",
       " ('philadelphia', 0.7809235606414052),\n",
       " ('colorado', 0.7790177461286574),\n",
       " ('maryland', 0.7743629175535343),\n",
       " ('atlanta', 0.7738046617185522)]"
      ]
     },
     "execution_count": 22,
     "metadata": {},
     "output_type": "execute_result"
    }
   ],
   "source": [
    "indexes, metrics = model.similar('los_angeles')\n",
    "model.generate_response(indexes, metrics).tolist()"
   ]
  },
  {
   "cell_type": "code",
   "execution_count": 23,
   "metadata": {},
   "outputs": [
    {
     "data": {
      "text/plain": [
       "(array([ 524, 2272,  481, 7594, 1399, 4158,  434, 2128, 2718, 4926]),\n",
       " array([0.28878441, 0.25567313, 0.24159724, 0.23203615, 0.23200247,\n",
       "        0.22837575, 0.22477854, 0.22011571, 0.21546289, 0.2153767 ]))"
      ]
     },
     "execution_count": 23,
     "metadata": {},
     "output_type": "execute_result"
    }
   ],
   "source": [
    "indexes, metrics = model.analogy(pos=['homer', 'woman'], neg=['man'])\n",
    "indexes, metrics"
   ]
  },
  {
   "cell_type": "code",
   "execution_count": 24,
   "metadata": {},
   "outputs": [
    {
     "data": {
      "text/plain": [
       "[('marge', 0.2887844148269407),\n",
       " ('homie', 0.25567312962578614),\n",
       " ('lisa', 0.2415972440099887),\n",
       " ('selma', 0.23203615291468607),\n",
       " ('maggie', 0.23200247176442917),\n",
       " ('apu', 0.2283757482373704),\n",
       " ('bart', 0.2247785355868055),\n",
       " ('milhouse', 0.2201157124674348),\n",
       " ('flanders', 0.21546288807688427),\n",
       " ('seymour', 0.21537669671065995)]"
      ]
     },
     "execution_count": 24,
     "metadata": {},
     "output_type": "execute_result"
    }
   ],
   "source": [
    "model.generate_response(indexes, metrics).tolist()"
   ]
  },
  {
   "cell_type": "code",
   "execution_count": 25,
   "metadata": {},
   "outputs": [],
   "source": [
    "clusters = word2vec.load_clusters(w2vPath+'corpus-clusters.txt')"
   ]
  },
  {
   "cell_type": "code",
   "execution_count": 26,
   "metadata": {},
   "outputs": [
    {
     "data": {
      "text/plain": [
       "array(['</s>', 'know', 'get', ..., 'athertons', 'kipayo', 'gunmelt'],\n",
       "      dtype='<U15')"
      ]
     },
     "execution_count": 26,
     "metadata": {},
     "output_type": "execute_result"
    }
   ],
   "source": [
    "clusters.vocab"
   ]
  },
  {
   "cell_type": "code",
   "execution_count": 28,
   "metadata": {},
   "outputs": [
    {
     "name": "stdout",
     "output_type": "stream",
     "text": [
      "want\n",
      "['control' 'power' 'cannot' 'attack' 'others' 'dangerous' 'destroy'\n",
      " 'possibly' 'impossible' 'build']\n"
     ]
    }
   ],
   "source": [
    "print(clusters.vocab[10])\n",
    "print(clusters.get_words_on_cluster(10)[:10])"
   ]
  },
  {
   "cell_type": "code",
   "execution_count": 29,
   "metadata": {},
   "outputs": [],
   "source": [
    "model.clusters = clusters"
   ]
  },
  {
   "cell_type": "code",
   "execution_count": 32,
   "metadata": {},
   "outputs": [],
   "source": [
    "indexes, metrics = model.analogy(pos=[\"bart\", \"woman\"], neg=[\"man\"])"
   ]
  },
  {
   "cell_type": "code",
   "execution_count": 33,
   "metadata": {},
   "outputs": [
    {
     "data": {
      "text/plain": [
       "[('lisa', 0.2814573208873719, 39),\n",
       " ('maggie', 0.24860368380202474, 12),\n",
       " ('milhouse', 0.24359804351500863, 19),\n",
       " ('marge', 0.2407982844131878, 39),\n",
       " ('seymour', 0.23439729275821566, 58),\n",
       " ('homer', 0.2339768534752399, 3),\n",
       " ('mrs_krabappel', 0.22326221333501317, 64),\n",
       " ('homie', 0.21971076882080787, 28),\n",
       " ('principal_skinner', 0.21896822375010572, 77),\n",
       " ('gasps', 0.20712228860610446, 13)]"
      ]
     },
     "execution_count": 33,
     "metadata": {},
     "output_type": "execute_result"
    }
   ],
   "source": [
    "model.generate_response(indexes, metrics).tolist()"
   ]
  },
  {
   "cell_type": "code",
   "execution_count": 34,
   "metadata": {},
   "outputs": [],
   "source": [
    "from sklearn.feature_extraction.text import TfidfVectorizer\n",
    "X = corpus_tokenized\n",
    "X=np.array([np.array(xi) for xi in X])          #   rows: Docs. columns: words\n",
    "vectorizer = TfidfVectorizer(analyzer=lambda x: x, min_df=1).fit(X)\n",
    "word_index = vectorizer.vocabulary_\n",
    "Xencoded = vectorizer.transform(X)"
   ]
  },
  {
   "cell_type": "code",
   "execution_count": 35,
   "metadata": {},
   "outputs": [],
   "source": [
    "def getEmbeddingMatrix (word_index, embeddings):\n",
    "    embedding_matrix = np.zeros((len(word_index)+1, p_size))  # +1 for the masked 0 in keras/lstm. Does not affect tf-idf/svm\n",
    "    for word, i in word_index.items():\n",
    "        if word in embeddings:\n",
    "            embedding_matrix[i] = embeddings[word]\n",
    "    return embedding_matrix"
   ]
  },
  {
   "cell_type": "code",
   "execution_count": 36,
   "metadata": {},
   "outputs": [],
   "source": [
    "def sparseMultiply (sparseX, embedding_matrix):\n",
    "    denseZ = []\n",
    "    for row in sparseX:\n",
    "        newRow = np.zeros(p_size)\n",
    "        for nonzeroLocation, value in list(zip(row.indices, row.data)):\n",
    "            newRow = newRow + value * embedding_matrix[nonzeroLocation]\n",
    "        denseZ.append(newRow)\n",
    "    denseZ = np.array([np.array(xi) for xi in denseZ])\n",
    "    return denseZ"
   ]
  },
  {
   "cell_type": "code",
   "execution_count": 37,
   "metadata": {},
   "outputs": [],
   "source": [
    "embedding_matrix = getEmbeddingMatrix (word_index, model)\n",
    "Xencoded = sparseMultiply( Xencoded, embedding_matrix)"
   ]
  },
  {
   "cell_type": "code",
   "execution_count": 38,
   "metadata": {},
   "outputs": [
    {
     "data": {
      "text/plain": [
       "(20, 100)"
      ]
     },
     "execution_count": 38,
     "metadata": {},
     "output_type": "execute_result"
    }
   ],
   "source": [
    "Xencoded.shape"
   ]
  },
  {
   "cell_type": "code",
   "execution_count": 39,
   "metadata": {},
   "outputs": [
    {
     "data": {
      "text/plain": [
       "(66251, 100)"
      ]
     },
     "execution_count": 39,
     "metadata": {},
     "output_type": "execute_result"
    }
   ],
   "source": [
    "model.vectors.shape"
   ]
  },
  {
   "cell_type": "code",
   "execution_count": 40,
   "metadata": {},
   "outputs": [],
   "source": [
    "vec = Xencoded"
   ]
  },
  {
   "cell_type": "code",
   "execution_count": 43,
   "metadata": {},
   "outputs": [],
   "source": [
    "from sklearn.metrics.pairwise import cosine_similarity\n",
    "sim = cosine_similarity(Xencoded)"
   ]
  },
  {
   "cell_type": "code",
   "execution_count": 44,
   "metadata": {},
   "outputs": [
    {
     "data": {
      "image/png": "[encoded data removed]",
      "text/plain": [
       "<Figure size 720x720 with 1 Axes>"
      ]
     },
     "metadata": {
      "needs_background": "light"
     },
     "output_type": "display_data"
    }
   ],
   "source": [
    "plt.figure(figsize=(10,10))\n",
    "plt.imshow(sim, cmap='YlGn', interpolation='nearest')\n",
    "plt.xticks(range(len(corpus)), [\" \".join(x.split(\"_\")[1:]) for x in series], rotation='vertical')\n",
    "plt.yticks(range(len(corpus)), [\" \".join(x.split(\"_\")[1:]) for x in series])\n",
    "plt.show()"
   ]
  },
  {
   "cell_type": "code",
   "execution_count": null,
   "metadata": {},
   "outputs": [],
   "source": []
  }
 ],
 "metadata": {
  "kernelspec": {
   "display_name": "Python 3",
   "language": "python",
   "name": "python3"
  },
  "language_info": {
   "codemirror_mode": {
    "name": "ipython",
    "version": 3
   },
   "file_extension": ".py",
   "mimetype": "text/x-python",
   "name": "python",
   "nbconvert_exporter": "python",
   "pygments_lexer": "ipython3",
   "version": "3.7.1"
  }
 },
 "nbformat": 4,
 "nbformat_minor": 2
}
