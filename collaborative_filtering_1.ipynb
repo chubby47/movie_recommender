{
 "cells": [
  {
   "cell_type": "markdown",
   "metadata": {},
   "source": [
    "# Filtrage collaboratif\n",
    "\n",
    "*ismael Bonneau*\n",
    "\n",
    "Le filtrage collaboratif (en anglais: collaborative filtering) est une méthode utilisée par les systèmes de recommandations.\n",
    "\n",
    "Une méthode de recommandation classique et de recommander à un utilisateur des objets similaires de celui qu'il a déjà aimé. Cette similarité, dans le cas d'une série ou d'un film par exemple peut se baser sur le genre, les acteurs en commun, le synopsis... Ainsi, si un utilisateur a aimé la série the punisher et luke cage, le système lui recommandera daredevil, shield agents, etc...\n",
    "Cette stratégie a un défaut: les recommandations manquent de diversité et n'incitent pas l'utilisateur à explorer le catalogue.\n",
    "\n",
    "Une deuxième approche est le **filtrage collaboratif**:\n",
    "il permet de réaliser des prédictions automatiques (\"filtrage\") des intérêts d'un utilisateur en se basant sur les préférences d'un grand nombre d'autres utilisateurs (\"collaboratif\"), afin de recommander des produits (films, séries, musique, articles sur un site de e-commerce...) pertinents pour un utilisateur.\n",
    "\n",
    "<img src=\"images/homer.png\" width=\"500\" />"
   ]
  },
  {
   "cell_type": "markdown",
   "metadata": {},
   "source": [
    "-------------------------------------------------------------------------\n",
    "\n",
    "### Principe:\n",
    "\n",
    "L'hypothèse sous-jacente du filtrage collaboratif est que si une personne A a la même opinion qu'une personne B sur un sujet, A a plus de chance d'avoir la même opinion que B sur un autre sujet qu'une personne choisie au hasard.\n",
    "\n",
    "Le système commence donc d'abord par collecter des avis d'un grand nombre d'utilisateurs sur un grand nombre d'objets (dans notre cas, des séries). Cet avis peut prendre plusieurs formes (1-5 étoiles, note sur 10, j'aime/je n'aime pas...) \n",
    "\n",
    "Puis, pour un utilisateur A le système trouve les utilisateurs qui ont les goûts les plus similaires. A partir des goûts de ces utilisateurs les plus similaires, le système peut prédir à l'utilisateur A une note pour chacun des objets qu'il n'a pas noté. \n",
    "\n",
    "Plusieurs types d'approche existent:\n",
    "\n",
    "1) l'approche dite **memory-based**:\n",
    "<p>\n",
    "    Cette approche utilise les notes attribuées par les utilisateurs pour calculer la similarité entre les utilisateurs ou les objets. Elle se base sur un calcul de similarité et utilise des algorithmes classiques comme:\n",
    "    <ul>\n",
    "        <li>K plus proches voisins (K-NN) <a href=\"https://en.wikipedia.org/wiki/K-nearest_neighbors_algorithm\">wikipédia</a></li>\n",
    "        <li>Des mesures de similarité comme la similarité cosinus, la corrélation de Pearson...\n",
    "            <a href=\"\"></a></li>\n",
    "    </ul>\n",
    "</p>\n",
    "\n",
    "2) l'approche dite **model-based**: \n",
    "<p>\n",
    "    Cette approche utilise des techniques de machine learning et de data mining pour attribuer des notes couples utilisateur-objet. \n",
    "<ul>\n",
    "    <li>Analyse en composantes principales (PCA) <a href=\"https://en.wikipedia.org/wiki/Singular_value_decomposition\">wikipédia</a></li>\n",
    "    <li>Factorisation de matrice non négative (NNMF) <a href=\"https://en.wikipedia.org/wiki/Non-negative_matrix_factorization\">wikipédia</a></li>\n",
    "    <li>Bayesian Personalized Ranking (n'attribue pas de \"notes\" mais un classement) <a href=\"https://cran.r-project.org/web/packages/rrecsys/vignettes/b6_BPR.html\">lien</a></li>\n",
    "    <li>...Et bien d'autres (approches à base de clustering...)</li>\n",
    "</ul>\n",
    "</p>\n",
    "\n",
    "pour en savoir plus sur le filtrage collaboratif: <a href=\"https://en.wikipedia.org/wiki/Collaborative_filtering\">wikipédia (en anglais)</a>\n",
    "\n",
    "<img src=\"images/Classification-of-collaborative-filtering-algorithms.png\" width=\"600\" />\n",
    "\n",
    "image sources:\n",
    "\n",
    "<a href=\"https://www.researchgate.net/profile/Kan_Zheng/publication/303556519/figure/fig4/AS:614297214414873@1523471277992/Classification-of-collaborative-filtering-algorithms.png\">[1]</a> <a href=\"https://johnolamendy.wordpress.com/2015/10/14/collaborative-filtering-in-apache-spark/\">[2]</a>\n",
    "\n",
    "-------------------\n",
    "\n",
    "### Notre but:\n",
    "\n",
    "Nous allons mettre en oeuvre et comparer plusieurs approches de recommandation collaborative, en l'occurence les approches model-based. \n",
    "\n",
    "Notre but est d'implémenter et comparer qualitativement et quantitativement les algorithmes de factorisation de matrice non négative (NNMF), décomposition en valeurs singulières améliorée(SVD++), Bayesian Personalized Ranking, et différentes fonctions de coûts associées, sur un jeu de données collectés sur le site imdb.\n",
    "\n",
    "### Données:\n",
    "\n",
    "Nous partons d'une base de ${m = 48705}$ utilisateurs ayant noté ${n = 892}$ séries. Ces données sont extraites du site <a href=\"https://www.imdb.com/\">imdb</a> (voir script <a href=\"https://github.com/ismaelbonneau/movie_recommender/blob/master/scraping/scrap.py\">scraping/scraping.py</a>) et sont résumées dans une matrice de taille ${n,m}$ où chaque entrée ${(u, i)}$ de matrice contient la note que l'utilisateur ${u}$ a attribué à l'item (série) ${i}$, sur 10 (le site ayant choisi un système de notation sur 10 étoiles).\n",
    "\n",
    "---------------------\n",
    "\n",
    "### Rentrons dans le vif du sujet:"
   ]
  },
  {
   "cell_type": "code",
   "execution_count": 1,
   "metadata": {},
   "outputs": [],
   "source": [
    "import pandas as pd\n",
    "import numpy as np\n",
    "import matplotlib.pyplot as plt\n",
    "from scipy.sparse import dok_matrix, csr_matrix #matrice \"sparse\"\n",
    "import seaborn as sns\n",
    "\n",
    "sns.set(color_codes=True)\n",
    "plt.style.use('seaborn-white')\n",
    "%matplotlib inline\n",
    "\n",
    "filename = \"userratings.csv\"\n",
    "tableSeries = \"series.csv\""
   ]
  },
  {
   "cell_type": "markdown",
   "metadata": {},
   "source": [
    "### Récupérons les avis utilisateur"
   ]
  },
  {
   "cell_type": "code",
   "execution_count": 2,
   "metadata": {},
   "outputs": [
    {
     "name": "stdout",
     "output_type": "stream",
     "text": [
      "il y a 48705 utilisateurs et 892 séries\n"
     ]
    }
   ],
   "source": [
    "df = pd.read_csv(filename)\n",
    "print(\"il y a {} utilisateurs et {} séries\".format(df.shape[1], df.shape[0]))"
   ]
  },
  {
   "cell_type": "markdown",
   "metadata": {},
   "source": [
    "**Ci dessous**, les premières lignes de la matrice, avec en ligne les séries et en colonne les utilisateurs. On peut voir que la plupart des cases sont vides (NaN), les utilisateurs n'ayant noté que très peu de séries."
   ]
  },
  {
   "cell_type": "code",
   "execution_count": 3,
   "metadata": {},
   "outputs": [
    {
     "data": {
      "text/html": [
       "<div>\n",
       "<style scoped>\n",
       "    .dataframe tbody tr th:only-of-type {\n",
       "        vertical-align: middle;\n",
       "    }\n",
       "\n",
       "    .dataframe tbody tr th {\n",
       "        vertical-align: top;\n",
       "    }\n",
       "\n",
       "    .dataframe thead th {\n",
       "        text-align: right;\n",
       "    }\n",
       "</style>\n",
       "<table border=\"1\" class=\"dataframe\">\n",
       "  <thead>\n",
       "    <tr style=\"text-align: right;\">\n",
       "      <th></th>\n",
       "      <th>Unnamed: 0</th>\n",
       "      <th>ToddTee</th>\n",
       "      <th>bkoganbing</th>\n",
       "      <th>betwana</th>\n",
       "      <th>fabiogaucho</th>\n",
       "      <th>killer1h</th>\n",
       "      <th>rasadi27</th>\n",
       "      <th>michael_cure</th>\n",
       "      <th>MashedA</th>\n",
       "      <th>drarthurwells</th>\n",
       "      <th>...</th>\n",
       "      <th>jimjohnson-57331</th>\n",
       "      <th>tatianavoloshka</th>\n",
       "      <th>hectorgarcia-41182</th>\n",
       "      <th>allisonbryan-30611</th>\n",
       "      <th>timothyquaid</th>\n",
       "      <th>eduardoellis</th>\n",
       "      <th>Chris_Tsimpoukas</th>\n",
       "      <th>ToxicAvox</th>\n",
       "      <th>DinoLord94</th>\n",
       "      <th>bratdawg</th>\n",
       "    </tr>\n",
       "  </thead>\n",
       "  <tbody>\n",
       "    <tr>\n",
       "      <th>0</th>\n",
       "      <td>tt0035665</td>\n",
       "      <td>NaN</td>\n",
       "      <td>NaN</td>\n",
       "      <td>NaN</td>\n",
       "      <td>NaN</td>\n",
       "      <td>NaN</td>\n",
       "      <td>NaN</td>\n",
       "      <td>NaN</td>\n",
       "      <td>NaN</td>\n",
       "      <td>NaN</td>\n",
       "      <td>...</td>\n",
       "      <td>NaN</td>\n",
       "      <td>NaN</td>\n",
       "      <td>NaN</td>\n",
       "      <td>NaN</td>\n",
       "      <td>NaN</td>\n",
       "      <td>NaN</td>\n",
       "      <td>NaN</td>\n",
       "      <td>NaN</td>\n",
       "      <td>NaN</td>\n",
       "      <td>NaN</td>\n",
       "    </tr>\n",
       "    <tr>\n",
       "      <th>1</th>\n",
       "      <td>tt0042114</td>\n",
       "      <td>NaN</td>\n",
       "      <td>NaN</td>\n",
       "      <td>NaN</td>\n",
       "      <td>NaN</td>\n",
       "      <td>NaN</td>\n",
       "      <td>NaN</td>\n",
       "      <td>NaN</td>\n",
       "      <td>NaN</td>\n",
       "      <td>NaN</td>\n",
       "      <td>...</td>\n",
       "      <td>NaN</td>\n",
       "      <td>NaN</td>\n",
       "      <td>NaN</td>\n",
       "      <td>NaN</td>\n",
       "      <td>NaN</td>\n",
       "      <td>NaN</td>\n",
       "      <td>NaN</td>\n",
       "      <td>NaN</td>\n",
       "      <td>NaN</td>\n",
       "      <td>NaN</td>\n",
       "    </tr>\n",
       "    <tr>\n",
       "      <th>2</th>\n",
       "      <td>tt0043208</td>\n",
       "      <td>NaN</td>\n",
       "      <td>10.0</td>\n",
       "      <td>NaN</td>\n",
       "      <td>NaN</td>\n",
       "      <td>NaN</td>\n",
       "      <td>NaN</td>\n",
       "      <td>NaN</td>\n",
       "      <td>NaN</td>\n",
       "      <td>NaN</td>\n",
       "      <td>...</td>\n",
       "      <td>NaN</td>\n",
       "      <td>NaN</td>\n",
       "      <td>NaN</td>\n",
       "      <td>NaN</td>\n",
       "      <td>NaN</td>\n",
       "      <td>NaN</td>\n",
       "      <td>NaN</td>\n",
       "      <td>NaN</td>\n",
       "      <td>NaN</td>\n",
       "      <td>NaN</td>\n",
       "    </tr>\n",
       "    <tr>\n",
       "      <th>3</th>\n",
       "      <td>tt0047708</td>\n",
       "      <td>NaN</td>\n",
       "      <td>NaN</td>\n",
       "      <td>NaN</td>\n",
       "      <td>NaN</td>\n",
       "      <td>NaN</td>\n",
       "      <td>NaN</td>\n",
       "      <td>NaN</td>\n",
       "      <td>NaN</td>\n",
       "      <td>NaN</td>\n",
       "      <td>...</td>\n",
       "      <td>NaN</td>\n",
       "      <td>NaN</td>\n",
       "      <td>NaN</td>\n",
       "      <td>NaN</td>\n",
       "      <td>NaN</td>\n",
       "      <td>NaN</td>\n",
       "      <td>NaN</td>\n",
       "      <td>NaN</td>\n",
       "      <td>NaN</td>\n",
       "      <td>NaN</td>\n",
       "    </tr>\n",
       "  </tbody>\n",
       "</table>\n",
       "<p>4 rows × 48705 columns</p>\n",
       "</div>"
      ],
      "text/plain": [
       "  Unnamed: 0  ToddTee  bkoganbing  betwana  fabiogaucho  killer1h  rasadi27  \\\n",
       "0  tt0035665      NaN         NaN      NaN          NaN       NaN       NaN   \n",
       "1  tt0042114      NaN         NaN      NaN          NaN       NaN       NaN   \n",
       "2  tt0043208      NaN        10.0      NaN          NaN       NaN       NaN   \n",
       "3  tt0047708      NaN         NaN      NaN          NaN       NaN       NaN   \n",
       "\n",
       "   michael_cure  MashedA  drarthurwells    ...     jimjohnson-57331  \\\n",
       "0           NaN      NaN            NaN    ...                  NaN   \n",
       "1           NaN      NaN            NaN    ...                  NaN   \n",
       "2           NaN      NaN            NaN    ...                  NaN   \n",
       "3           NaN      NaN            NaN    ...                  NaN   \n",
       "\n",
       "   tatianavoloshka  hectorgarcia-41182  allisonbryan-30611  timothyquaid  \\\n",
       "0              NaN                 NaN                 NaN           NaN   \n",
       "1              NaN                 NaN                 NaN           NaN   \n",
       "2              NaN                 NaN                 NaN           NaN   \n",
       "3              NaN                 NaN                 NaN           NaN   \n",
       "\n",
       "   eduardoellis  Chris_Tsimpoukas  ToxicAvox  DinoLord94  bratdawg  \n",
       "0           NaN               NaN        NaN         NaN       NaN  \n",
       "1           NaN               NaN        NaN         NaN       NaN  \n",
       "2           NaN               NaN        NaN         NaN       NaN  \n",
       "3           NaN               NaN        NaN         NaN       NaN  \n",
       "\n",
       "[4 rows x 48705 columns]"
      ]
     },
     "execution_count": 3,
     "metadata": {},
     "output_type": "execute_result"
    }
   ],
   "source": [
    "df.head(4)"
   ]
  },
  {
   "cell_type": "markdown",
   "metadata": {},
   "source": [
    "#### Jetons un oeil à la distribution des données:"
   ]
  },
  {
   "cell_type": "code",
   "execution_count": 69,
   "metadata": {},
   "outputs": [
    {
     "name": "stdout",
     "output_type": "stream",
     "text": [
      "13.55% des utilisateurs ont noté plus de 1 série (6598 total)\n",
      "1.38% des utilisateurs ont noté plus de 5 série (670 total)\n",
      "0.46% des utilisateurs ont noté plus de 10 série (226 total)\n",
      "\n",
      "\n",
      "98.54% des series ont reçu plus de 2 notes (879 total)\n",
      "69.62% des series ont reçu plus de 20 notes (621 total)\n",
      "35.87% des series ont reçu plus de 50 notes (320 total)\n",
      "19.28% des series ont reçu plus de 100 notes (172 total)\n"
     ]
    }
   ],
   "source": [
    "for seuil in [1, 5, 10]:\n",
    "    c = len([a for a in (df.count(axis=0) > seuil) if a])/df.shape[1]\n",
    "    print(\"{0:.2f}% des utilisateurs ont noté plus de \".format(\n",
    "        100*c)+str(seuil)+\" série (\"+str(int(c*df.shape[1]))+\" total)\")\n",
    "print(\"\\n\")   \n",
    "for seuil in [2, 20, 50, 100]:\n",
    "    c = len([a for a in (df.count(axis=1) > seuil) if a])/df.shape[0]\n",
    "    print(\"{0:.2f}% des series ont reçu plus de \".format(\n",
    "        100*c)+str(seuil)+\" notes (\"+str(int(c*df.shape[0]))+\" total)\")"
   ]
  },
  {
   "cell_type": "markdown",
   "metadata": {},
   "source": [
    "<img src=\"images/distribution_avis.png\" width=\"900\" />\n",
    "\n",
    "L'histogramme révèle que les utilisateurs donnent très peu d'avis: 86,5% d'entre eux n'ont noté qu'une série. Les séries ont quant à elle plus d'avis: près de 20% des séries ont reçu plus de 100 notes, et 70% des séries ont reçu au moins 20 notes. Il faut choisir un **seuil de coupure** pour éliminer les utilisateurs ayant trop peu noté: nous choisissons arbitrairement de couper en-dessous de 4. Pour les séries, on gardera celles ayant reçu au moins 4 notes."
   ]
  },
  {
   "cell_type": "markdown",
   "metadata": {},
   "source": [
    "<img src=\"images/distribution_notes.png\" />"
   ]
  },
  {
   "cell_type": "markdown",
   "metadata": {},
   "source": [
    "### Résultat:\n",
    "\n",
    "Beaucoup de ${1/20}$, beaucoup de ${10/10}$. Cet histogramme illustre un **phénomène connu en recommandation**: les utilisateurs ont tendance à ne noter que les films qui les ont marqués, soit positivement (j'ai adoré, je donne ${10/10}$) soit négativement (j'ai détesté, je donne un ${1/10}$). Ce phénomène est particulièrement illustré sur les utilisateurs qui notent peu: les utilisateurs qui notent beaucoup, avec un comportement sur le site de \"critique amateur\" ont eu tendance à noter la plupart des films qu'ils voient, et donc à donner des notes plus variées.\n",
    "\n",
    "Il existe un autre phénomène en recommandation: \n",
    "On dit que les données sont \n",
    "- **MCAR** (Missing Completely At Random, en français \"manquantes complètement au hasard\"). \n",
    "- **MAR** (Missing At Random, en français \"manquantes au hasard\"). Contrairement à ce que l'on peut penser "
   ]
  },
  {
   "cell_type": "code",
   "execution_count": 3,
   "metadata": {},
   "outputs": [],
   "source": [
    "series = pd.read_csv(tableSeries)\n",
    "series = series[[\"seriesname\", \"imdbId\"]]"
   ]
  },
  {
   "cell_type": "markdown",
   "metadata": {},
   "source": [
    "Retirons les noms de série, et enlevons les utilisateurs ayant noté moins de 4 séries et les séries notées moins de 4 fois:"
   ]
  },
  {
   "cell_type": "code",
   "execution_count": 4,
   "metadata": {},
   "outputs": [],
   "source": [
    "#nous allons réaliser un mapping des imdbId de séries vers des entiers.\n",
    "#on mémorise le mapping entier -> série en gardant les noms de série.\n",
    "df.rename(columns={\"Unnamed: 0\":'item'}, inplace=True)\n",
    "df = df.loc[:, (df.count(axis=0) >= 4)] #enlever les utilisateurs ayant noté moins de 5 séries\n",
    "df = df.loc[(df.count(axis=1) >= 4), :] #enlever les séries ayant reçu moins de 4 notes"
   ]
  },
  {
   "cell_type": "code",
   "execution_count": 5,
   "metadata": {},
   "outputs": [],
   "source": [
    "serie_dict = []\n",
    "for imdbId in df[\"item\"]:\n",
    "    serie_dict.append(list(series[series[\"imdbId\"] == imdbId][\"seriesname\"])[0])\n",
    "    \n",
    "df = df.drop(columns=['item']) #enlever la colonne des noms de série\n",
    "df = df.transpose()"
   ]
  },
  {
   "cell_type": "markdown",
   "metadata": {},
   "source": [
    "<img src=\"images/distribution_notes_apresfiltrage.png\" />"
   ]
  },
  {
   "cell_type": "markdown",
   "metadata": {},
   "source": [
    "### Masquage des valeurs manquantes:\n",
    "\n",
    "Nous allons créer une variable \"masque\" booléen, qui nous servira pour l'étape suivante. On obtient un tableau de même dimension, dans lequel False indique une valeur manquante (à masquer pour la suite) et True une valeur observée."
   ]
  },
  {
   "cell_type": "code",
   "execution_count": 6,
   "metadata": {},
   "outputs": [
    {
     "data": {
      "text/html": [
       "<div>\n",
       "<style scoped>\n",
       "    .dataframe tbody tr th:only-of-type {\n",
       "        vertical-align: middle;\n",
       "    }\n",
       "\n",
       "    .dataframe tbody tr th {\n",
       "        vertical-align: top;\n",
       "    }\n",
       "\n",
       "    .dataframe thead th {\n",
       "        text-align: right;\n",
       "    }\n",
       "</style>\n",
       "<table border=\"1\" class=\"dataframe\">\n",
       "  <thead>\n",
       "    <tr style=\"text-align: right;\">\n",
       "      <th></th>\n",
       "      <th>0</th>\n",
       "      <th>1</th>\n",
       "      <th>2</th>\n",
       "      <th>3</th>\n",
       "      <th>4</th>\n",
       "      <th>5</th>\n",
       "      <th>6</th>\n",
       "      <th>7</th>\n",
       "      <th>8</th>\n",
       "      <th>10</th>\n",
       "      <th>...</th>\n",
       "      <th>876</th>\n",
       "      <th>879</th>\n",
       "      <th>880</th>\n",
       "      <th>881</th>\n",
       "      <th>882</th>\n",
       "      <th>883</th>\n",
       "      <th>884</th>\n",
       "      <th>887</th>\n",
       "      <th>888</th>\n",
       "      <th>889</th>\n",
       "    </tr>\n",
       "  </thead>\n",
       "  <tbody>\n",
       "    <tr>\n",
       "      <th>bkoganbing</th>\n",
       "      <td>False</td>\n",
       "      <td>False</td>\n",
       "      <td>True</td>\n",
       "      <td>False</td>\n",
       "      <td>True</td>\n",
       "      <td>True</td>\n",
       "      <td>True</td>\n",
       "      <td>True</td>\n",
       "      <td>False</td>\n",
       "      <td>False</td>\n",
       "      <td>...</td>\n",
       "      <td>False</td>\n",
       "      <td>False</td>\n",
       "      <td>False</td>\n",
       "      <td>False</td>\n",
       "      <td>False</td>\n",
       "      <td>False</td>\n",
       "      <td>False</td>\n",
       "      <td>False</td>\n",
       "      <td>False</td>\n",
       "      <td>False</td>\n",
       "    </tr>\n",
       "    <tr>\n",
       "      <th>killer1h</th>\n",
       "      <td>False</td>\n",
       "      <td>False</td>\n",
       "      <td>False</td>\n",
       "      <td>False</td>\n",
       "      <td>False</td>\n",
       "      <td>False</td>\n",
       "      <td>False</td>\n",
       "      <td>False</td>\n",
       "      <td>False</td>\n",
       "      <td>False</td>\n",
       "      <td>...</td>\n",
       "      <td>False</td>\n",
       "      <td>False</td>\n",
       "      <td>True</td>\n",
       "      <td>False</td>\n",
       "      <td>False</td>\n",
       "      <td>False</td>\n",
       "      <td>False</td>\n",
       "      <td>False</td>\n",
       "      <td>True</td>\n",
       "      <td>False</td>\n",
       "    </tr>\n",
       "    <tr>\n",
       "      <th>santasa99</th>\n",
       "      <td>False</td>\n",
       "      <td>False</td>\n",
       "      <td>False</td>\n",
       "      <td>False</td>\n",
       "      <td>False</td>\n",
       "      <td>False</td>\n",
       "      <td>False</td>\n",
       "      <td>False</td>\n",
       "      <td>False</td>\n",
       "      <td>False</td>\n",
       "      <td>...</td>\n",
       "      <td>False</td>\n",
       "      <td>False</td>\n",
       "      <td>False</td>\n",
       "      <td>False</td>\n",
       "      <td>False</td>\n",
       "      <td>False</td>\n",
       "      <td>False</td>\n",
       "      <td>False</td>\n",
       "      <td>False</td>\n",
       "      <td>False</td>\n",
       "    </tr>\n",
       "    <tr>\n",
       "      <th>qui_j</th>\n",
       "      <td>False</td>\n",
       "      <td>False</td>\n",
       "      <td>False</td>\n",
       "      <td>False</td>\n",
       "      <td>False</td>\n",
       "      <td>False</td>\n",
       "      <td>False</td>\n",
       "      <td>False</td>\n",
       "      <td>False</td>\n",
       "      <td>False</td>\n",
       "      <td>...</td>\n",
       "      <td>False</td>\n",
       "      <td>False</td>\n",
       "      <td>False</td>\n",
       "      <td>False</td>\n",
       "      <td>False</td>\n",
       "      <td>False</td>\n",
       "      <td>False</td>\n",
       "      <td>False</td>\n",
       "      <td>False</td>\n",
       "      <td>False</td>\n",
       "    </tr>\n",
       "    <tr>\n",
       "      <th>BeneCumb</th>\n",
       "      <td>False</td>\n",
       "      <td>False</td>\n",
       "      <td>False</td>\n",
       "      <td>False</td>\n",
       "      <td>False</td>\n",
       "      <td>False</td>\n",
       "      <td>False</td>\n",
       "      <td>False</td>\n",
       "      <td>False</td>\n",
       "      <td>False</td>\n",
       "      <td>...</td>\n",
       "      <td>False</td>\n",
       "      <td>False</td>\n",
       "      <td>False</td>\n",
       "      <td>True</td>\n",
       "      <td>False</td>\n",
       "      <td>False</td>\n",
       "      <td>False</td>\n",
       "      <td>False</td>\n",
       "      <td>False</td>\n",
       "      <td>False</td>\n",
       "    </tr>\n",
       "  </tbody>\n",
       "</table>\n",
       "<p>5 rows × 726 columns</p>\n",
       "</div>"
      ],
      "text/plain": [
       "              0      1      2      3      4      5      6      7      8    \\\n",
       "bkoganbing  False  False   True  False   True   True   True   True  False   \n",
       "killer1h    False  False  False  False  False  False  False  False  False   \n",
       "santasa99   False  False  False  False  False  False  False  False  False   \n",
       "qui_j       False  False  False  False  False  False  False  False  False   \n",
       "BeneCumb    False  False  False  False  False  False  False  False  False   \n",
       "\n",
       "              10   ...      876    879    880    881    882    883    884  \\\n",
       "bkoganbing  False  ...    False  False  False  False  False  False  False   \n",
       "killer1h    False  ...    False  False   True  False  False  False  False   \n",
       "santasa99   False  ...    False  False  False  False  False  False  False   \n",
       "qui_j       False  ...    False  False  False  False  False  False  False   \n",
       "BeneCumb    False  ...    False  False  False   True  False  False  False   \n",
       "\n",
       "              887    888    889  \n",
       "bkoganbing  False  False  False  \n",
       "killer1h    False   True  False  \n",
       "santasa99   False  False  False  \n",
       "qui_j       False  False  False  \n",
       "BeneCumb    False  False  False  \n",
       "\n",
       "[5 rows x 726 columns]"
      ]
     },
     "execution_count": 6,
     "metadata": {},
     "output_type": "execute_result"
    }
   ],
   "source": [
    "mask = df.notnull()\n",
    "mask.head()"
   ]
  },
  {
   "cell_type": "code",
   "execution_count": 7,
   "metadata": {},
   "outputs": [],
   "source": [
    "df.columns = list(range(len(serie_dict)))"
   ]
  },
  {
   "cell_type": "markdown",
   "metadata": {},
   "source": [
    "### Matrix Factorization: principe\n",
    "\n",
    "Une des façons de faire du filtrage collaboratif par approche model-based est d'utiliser un algorithme de **factorisation de matrice**. \n",
    "\n",
    "On pose ${\\mathbf{R}}$ la matrice des notes, $\\mathbf{\\hat{R}}$ la matrice que l'on cherche à construire, contenant toutes les notes existantes et prédites. Cette matrice est de dimension ${m, n}$ avec ${m}$ le nombre d'utilisateurs et ${n}$ le nombre de séries. On va chercher à trouver deux matrices \"facteur\" $\\mathbf{U}$ et $\\mathbf{I}$ de dimension ${m, k}$ et ${k, n}$ de telle sorte que $\\mathbf{\\hat{R}}=\\mathbf{U}\\cdot\\mathbf{I}$ avec ${\\mathbf{\\hat{R}} \\approx \\mathbf{R}}$\n",
    "\n",
    "<img src=\"images/collaborative_filtering.png\" width=\"400\" />\n",
    "\n",
    "Les dimensions ${m}$ et ${n}$ étant connues à l'avance, c'est la dimension ${k}$ qu'il reste à fixer, et définir une \"fonction\" mathématique qui mesure à quel point les deux matrice $\\mathbf{R}$ (reconstituée) et la matrice originale sont proches.\n",
    "\n",
    "Ainsi, et d'après la définition du produit matriciel, chaque case de la matrice $R_{i,j}$ résultante est le résultat d'une combinaison linéaire de $U_{i,}$ et $I_{,j}$, c'est à dire d'un vecteur de dimension ${k}$ représentant l'utilisateur ${i}$ et d'un vecteur de dimension ${k}$ représentant l'item ${j}$.\n",
    "\n",
    "Il s'agit donc de projeter les utilisateurs et les items dans un espace de dimension ${k}$ ! On dit aussi qu'on apprend des _profils utilisateur_ et des _profils item_ sur ${k}$ variables latentes.\n",
    "\n",
    "Plusieurs algorithmes peuvent servir à réaliser une factorisation de matrice.\n",
    "\n",
    "### NMF (non negative matrix factorization): \n",
    "\n",
    "Un algorithme de factorisation de matrice simple. L'algorithme consiste en une descente de gradient sur une fonction d'erreur. L'algorithme ne tient pas compte des valeurs manquantes: Il effectue une descente de gradient uniquement sur les valeurs observées. Il \"apprend\" donc les relations entre items et utilisateurs sur les valeurs observées, pour ensuite pouvoir prédire les valeurs manquantes.\n",
    "\n",
    "on calcule en fait ${\\hat{R_{i,j}}= U_{i}\\cdot I_{j}}$.\n",
    "\n",
    "On apprend donc deux matrices ${U}$ et ${I}$. \n",
    "la fonction d'erreur est ${e = ||(R -\\hat{R})^2|| + \\beta (||U||^2 + ||I||^2)}$.\n",
    "\n",
    "${\\beta}$ est le paramètre de régularization. Il nécessite d'être ajusté. Il sert à contrôler la \"taille\" des paramètres appris U et I en empêchant qu'ils deviennent trop grands, afin de s'assurer que l'on utilise que les variables latentes utiles. Pour en savoir plus sur la régularisation en machine learning: <a href=\"\">lien</a> \n",
    "\n",
    "La particularité de l'algorithme est qu'il intègre une contrainte sur les valeurs des matrices ${U}$ et ${I}$: elles doivent être **positives** (d'où le \"non negative\").<br>\n",
    "On a donc ${U_{i,k} \\geq 0}$ ${\\forall{(i,k)} \\in \\{1, ...,m\\} \\times \\{1, ...,k\\}}$ et ${I_{k,j} \\geq 0 \\forall{(k,j)} \\in \\{1, ...,k\\} \\times \\{1, ...,n\\}}$.\n",
    "\n",
    "Cette contrainte de non-négativité, qui fait la particularité de NMF présente deux avantages: 1) le modèle obtenu est expliquable: puisque les affinités sont toutes additives, on comprend plus aisément comment les intérêts se combinent entre eux.\n",
    "\n",
    "##### petit problème: données manquantes\n",
    "\n",
    "Un petit problème se pose dans la partie applicative: la matrice ${R}$ contient des données manquantes qui sont, dans une matrice sparse, interprétés comme des 0. Ce ne sont pourtant pas des notes de 0 mais bien une **absence de note** (notez la différence). Les implémentations des algorithmes de factorisation de matrice de scikit-learn ne prennent pas ce point en compte et cherchent à prédire des 0 à la place des valeurs manquantes. On ne peut donc pas utiliser les implémentations de scikit-learn et il faut définir notre propre implémentation (ou utiliser gensim/surprise).\n",
    "\n",
    "### Implémentation dans tensorflow:"
   ]
  },
  {
   "cell_type": "code",
   "execution_count": 8,
   "metadata": {},
   "outputs": [],
   "source": [
    "import tensorflow as tf #ou n'importe quel autre framework de DL"
   ]
  },
  {
   "cell_type": "code",
   "execution_count": 57,
   "metadata": {},
   "outputs": [
    {
     "name": "stdout",
     "output_type": "stream",
     "text": [
      "cost: 6456.962920\n",
      "mse: 0.546633\n",
      "***************\n",
      "cost: 237.374458\n",
      "mse: 0.012660\n",
      "***************\n",
      "cost: 146.877715\n",
      "mse: 0.004030\n",
      "***************\n",
      "cost: 128.414012\n",
      "mse: 0.002120\n",
      "***************\n",
      "cost: 121.919165\n",
      "mse: 0.001433\n",
      "***************\n",
      "cost: 118.642617\n",
      "mse: 0.001101\n",
      "***************\n",
      "cost: 116.601319\n",
      "mse: 0.000908\n",
      "***************\n",
      "cost: 115.163741\n",
      "mse: 0.000784\n",
      "***************\n",
      "cost: 114.070132\n",
      "mse: 0.000698\n",
      "***************\n",
      "cost: 113.191691\n",
      "mse: 0.000635\n",
      "***************\n"
     ]
    }
   ],
   "source": [
    "#moyenne item\n",
    "baseline = tf.constant(np.tile(np.array(df.mean(axis=0)),(1423,1)))\n",
    "\n",
    "#latent factors\n",
    "k = 15\n",
    "shape = df.shape\n",
    "\n",
    "#constante: la matrice R à reconstituer entièrement\n",
    "R = tf.constant(df.values / 10) #divisée par 10 pour obtenir des notes entre 0 et 1\n",
    "\n",
    "#variable tensorflow masque\n",
    "mask_tf = tf.Variable(mask.values)\n",
    "\n",
    "#variables tensorflow\n",
    "#U et I initialisés selon une loi normale et normalisés en divisant par k\n",
    "U = tf.Variable(np.abs(np.random.normal(scale=1./k, size=(shape[0], k)).astype(np.float64)), name=\"U\")\n",
    "I = tf.Variable(np.abs(np.random.normal(scale=1./k, size=(k, shape[1])).astype(np.float64)), name=\"I\")\n",
    "\n",
    "R_pred = tf.matmul(U, I) #embeddings\n",
    "\n",
    "#beta: paramètre de regularization\n",
    "beta = tf.constant(0.05, dtype=tf.float64, name=\"beta\")\n",
    "regularizer = beta * (tf.reduce_sum(tf.square(U)) + tf.reduce_sum(tf.square(I)))\n",
    "\n",
    "#cout de l'algo NMF, norme matricielle de R - R_pred\n",
    "cost = tf.reduce_sum(tf.square(tf.boolean_mask(R, mask_tf) - tf.boolean_mask(R_pred, mask_tf)))\n",
    "cost += regularizer\n",
    "\n",
    "#contraintes de non-négativité de U et I\n",
    "clip_U = U.assign(tf.maximum(tf.zeros_like(U), U))\n",
    "clip_I = I.assign(tf.maximum(tf.zeros_like(I), I))\n",
    "clip = tf.group(clip_U, clip_I)\n",
    "\n",
    "#erreur MSE\n",
    "mse = tf.reduce_mean(tf.square(tf.boolean_mask(R_pred, mask_tf) - tf.boolean_mask(R, mask_tf)))\n",
    "\n",
    "#baseline MSE\n",
    "baselineMSE = tf.reduce_mean(tf.square(tf.boolean_mask(baseline, mask_tf) - tf.boolean_mask(R, mask_tf)))\n",
    "\n",
    "alpha = 0.001 #learning rate\n",
    "global_step = tf.Variable(0, trainable=False)\n",
    "learning_rate = tf.train.exponential_decay(alpha, global_step, 10000, 0.98, staircase=True)\n",
    "\n",
    "optimizer = tf.train.GradientDescentOptimizer(alpha).minimize(cost, global_step=global_step)\n",
    "\n",
    "steps = 10000\n",
    "costs = []\n",
    "mses = []\n",
    "\n",
    "sess = tf.Session()\n",
    "sess.run(tf.initialize_all_variables())\n",
    "for i in range(steps):\n",
    "    sess.run(optimizer)\n",
    "    sess.run(clip)\n",
    "    if i%1000==0:\n",
    "        prout = sess.run(cost)\n",
    "        lol = sess.run(mse)\n",
    "        print(\"cost: %f\" % prout)\n",
    "        print(\"mse: %f\" % lol)\n",
    "        print(\"***************\")\n",
    "        costs.append((i, prout))\n",
    "        mses.append((i, lol))\n",
    "        \n",
    "            \n",
    "learnt_U = sess.run(U)\n",
    "learnt_I = sess.run(I)\n",
    "msebaseline = sess.run(baselineMSE)\n",
    "print(msebaseline)\n",
    "sess.close()"
   ]
  },
  {
   "cell_type": "code",
   "execution_count": 59,
   "metadata": {},
   "outputs": [
    {
     "data": {
      "image/png": "[encoded data removed]",
      "text/plain": [
       "<Figure size 720x720 with 2 Axes>"
      ]
     },
     "metadata": {
      "needs_background": "light"
     },
     "output_type": "display_data"
    }
   ],
   "source": [
    "plt.figure(figsize=(10,10))\n",
    "plt.subplot(2,1, 1)\n",
    "plt.title(\"cost en fonction du nb d'iterations\", fontsize=15)\n",
    "plt.xlabel(\"iteration\")\n",
    "plt.ylabel(\"cost\")\n",
    "plt.plot([a for a,b in costs[1:]], [b for a,b in costs[1:]], color=\"black\", label=\"cost\")\n",
    "plt.legend()\n",
    "\n",
    "plt.subplot(2,1, 2)\n",
    "plt.title(\"MSE en fonction du nb d'iterations\", fontsize=15)\n",
    "plt.xlabel(\"iteration\")\n",
    "plt.ylabel(\"MSE\")\n",
    "plt.plot([a for a,b in mses[1:]], [b for a,b in mses[1:]], color=\"red\", label=\"MSE error\")\n",
    "plt.legend()\n",
    "plt.show()"
   ]
  },
  {
   "cell_type": "code",
   "execution_count": 60,
   "metadata": {},
   "outputs": [
    {
     "data": {
      "text/plain": [
       "44.56087959608877"
      ]
     },
     "execution_count": 60,
     "metadata": {},
     "output_type": "execute_result"
    }
   ],
   "source": [
    "msebaseline"
   ]
  },
  {
   "cell_type": "code",
   "execution_count": 28,
   "metadata": {},
   "outputs": [
    {
     "name": "stdout",
     "output_type": "stream",
     "text": [
      "dimensions de la matrice reconstituée:  (1423, 726)\n"
     ]
    }
   ],
   "source": [
    "xptdr = np.round(np.dot(learnt_U, learnt_I) * 10)\n",
    "print(\"dimensions de la matrice reconstituée: \", xptdr.shape)"
   ]
  },
  {
   "cell_type": "code",
   "execution_count": 24,
   "metadata": {},
   "outputs": [
    {
     "data": {
      "text/plain": [
       "array([[nan, nan, 10., ..., nan, nan, nan],\n",
       "       [nan, nan, nan, ..., nan,  4., nan],\n",
       "       [nan, nan, nan, ..., nan, nan, nan],\n",
       "       ...,\n",
       "       [nan, nan, nan, ..., nan, nan, nan],\n",
       "       [nan, nan, nan, ..., nan, nan, nan],\n",
       "       [nan, nan, nan, ..., nan, nan, nan]])"
      ]
     },
     "execution_count": 24,
     "metadata": {},
     "output_type": "execute_result"
    }
   ],
   "source": [
    "df.values"
   ]
  },
  {
   "cell_type": "code",
   "execution_count": 27,
   "metadata": {},
   "outputs": [
    {
     "data": {
      "text/plain": [
       "array([[ 8., 10., 10., ...,  6.,  5.,  8.],\n",
       "       [ 9.,  9.,  9., ...,  7.,  4.,  6.],\n",
       "       [ 3.,  6.,  4., ...,  4.,  1.,  4.],\n",
       "       ...,\n",
       "       [ 7.,  6.,  5., ...,  4.,  1.,  6.],\n",
       "       [ 4.,  6.,  8., ...,  3.,  6.,  4.],\n",
       "       [ 6.,  8.,  8., ...,  6.,  9.,  6.]])"
      ]
     },
     "execution_count": 27,
     "metadata": {},
     "output_type": "execute_result"
    }
   ],
   "source": [
    "xptdr"
   ]
  },
  {
   "cell_type": "markdown",
   "metadata": {},
   "source": [
    "les notes observées ont bien été reconstituées!"
   ]
  },
  {
   "cell_type": "markdown",
   "metadata": {},
   "source": [
    "### visualisons le résultat:\n",
    "\n",
    "Les matrices ${U}$ et ${I}$ apprises par NMF nous donnent une information:\n",
    "\n",
    "Visualisons les embeddings de la matrice ${I}$"
   ]
  },
  {
   "cell_type": "code",
   "execution_count": 29,
   "metadata": {},
   "outputs": [],
   "source": [
    "#sauvegarde des embeddings appris pour les visualiser dans tensorboard\n",
    "np.savetxt(f\"imdb_vectors.tsv\", learnt_I.transpose(), delimiter=\"\\t\")\n",
    "with open(f\"imdb_metadata.tsv\",\"w\") as metadata_file:\n",
    "    for x in serie_dict: #hack for space\n",
    "        x = \" \".join(x.split(\"_\")[1:])\n",
    "        if len(x.strip()) == 0:\n",
    "            x = f\"space-{len(x)}\"\n",
    "        metadata_file.write(f\"{x}\\n\")"
   ]
  },
  {
   "cell_type": "markdown",
   "metadata": {},
   "source": [
    "### Avec k=10\n",
    "\n",
    "visualisation PCA en 3D, variance expliquée 82.8%\n",
    "\n",
    "<img src=\"images/pca_k10.png\" width=\"500\" />\n",
    "\n",
    "### Avec k=15\n",
    "\n",
    "visualisation PCA en 3D, variance expliquée 61.7%\n",
    "\n",
    "<img src=\"images/pca_k15.png\" width=\"500\" />"
   ]
  },
  {
   "cell_type": "code",
   "execution_count": 34,
   "metadata": {},
   "outputs": [
    {
     "name": "stdout",
     "output_type": "stream",
     "text": [
      "profil item 1\n",
      "\t8.58 moyenne 12 notes \t\tALF\n",
      "\t6.61 moyenne 54 notes \t\tHomeland\n",
      "\t7.36 moyenne 33 notes \t\tRay Donovan\n",
      "\t6.94 moyenne 32 notes \t\tOutlander\n",
      "\t6.22 moyenne 18 notes \t\tNikita\n",
      "profil item 2\n",
      "\t3.79 moyenne 29 notes \t\tTeen Titans Go \n",
      "\t6.95 moyenne 64 notes \t\tHow I Met Your Mother\n",
      "\t6.80 moyenne 51 notes \t\tSense8\n",
      "\t8.25 moyenne 56 notes \t\tMad Men\n",
      "\t7.98 moyenne 41 notes \t\tStar Trek Deep Space Nine\n",
      "profil item 3\n",
      "\t7.81 moyenne 69 notes \t\tSouth Park\n",
      "\t6.35 moyenne 43 notes \t\tHawaii Five-0 (2010)\n",
      "\t7.41 moyenne 34 notes \t\tDownton Abbey\n",
      "\t6.80 moyenne 51 notes \t\tSense8\n",
      "\t7.12 moyenne 90 notes \t\tLost\n",
      "profil item 4\n",
      "\t8.75 moyenne 146 notes \t\tBreaking Bad\n",
      "\t7.76 moyenne 95 notes \t\tFriends\n",
      "\t8.46 moyenne 54 notes \t\tArrested Development\n",
      "\t8.19 moyenne 26 notes \t\tDeadwood\n",
      "\t6.70 moyenne 37 notes \t\tGrimm\n",
      "profil item 5\n",
      "\t7.27 moyenne 52 notes \t\tGotham\n",
      "\t7.05 moyenne 40 notes \t\tStar Trek Voyager\n",
      "\t6.31 moyenne 52 notes \t\tMarvels Agents of S.H.I.E.L.D.\n",
      "\t6.32 moyenne 28 notes \t\tRevenge\n",
      "\t6.59 moyenne 17 notes \t\tCrossing Lines\n",
      "profil item 6\n",
      "\t7.00 moyenne 25 notes \t\tPretty Little Liars\n",
      "\t7.82 moyenne 146 notes \t\tGame of Thrones\n",
      "\t8.70 moyenne 10 notes \t\tKojak (1973)\n",
      "\t7.12 moyenne 90 notes \t\tLost\n",
      "\t8.00 moyenne 3 notes \t\tComedians in cars getting coffee\n",
      "profil item 7\n",
      "\t5.70 moyenne 61 notes \t\tTwo and a Half Men\n",
      "\t6.67 moyenne 6 notes \t\tOdyssey 5\n",
      "\t8.42 moyenne 60 notes \t\tSeinfeld\n",
      "\t7.60 moyenne 5 notes \t\tThe Batman\n",
      "\t6.67 moyenne 39 notes \t\tBones\n",
      "profil item 8\n",
      "\t6.54 moyenne 28 notes \t\tContinuum\n",
      "\t7.80 moyenne 5 notes \t\tWander Over Yonder\n",
      "\t7.00 moyenne 21 notes \t\tMidsomer Murders\n",
      "\t7.45 moyenne 31 notes \t\t30 Rock\n",
      "\t4.48 moyenne 25 notes \t\tHannah Montana\n",
      "profil item 9\n",
      "\t6.85 moyenne 59 notes \t\tThe Blacklist\n",
      "\t7.55 moyenne 38 notes \t\tShameless (US)\n",
      "\t6.96 moyenne 27 notes \t\tThe Middle\n",
      "\t7.34 moyenne 35 notes \t\tAmerican Dad\n",
      "\t7.44 moyenne 18 notes \t\tStudio 60 on the Sunset Strip\n",
      "profil item 10\n",
      "\t6.69 moyenne 113 notes \t\tThe Big Bang Theory\n",
      "\t6.84 moyenne 45 notes \t\tModern Family\n",
      "\t7.17 moyenne 87 notes \t\tFamily Guy\n",
      "\t4.89 moyenne 36 notes \t\t2 Broke Girls\n",
      "\t6.48 moyenne 31 notes \t\tDollhouse\n",
      "profil item 11\n",
      "\t7.82 moyenne 146 notes \t\tGame of Thrones\n",
      "\t5.69 moyenne 29 notes \t\tHow To Get Away with Murder\n",
      "\t6.67 moyenne 125 notes \t\tThe Walking Dead\n",
      "\t6.80 moyenne 15 notes \t\tLittle Britain\n",
      "\t7.48 moyenne 60 notes \t\tThe Office (US)\n",
      "profil item 12\n",
      "\t4.85 moyenne 47 notes \t\tUnder the Dome\n",
      "\t5.51 moyenne 41 notes \t\tThe Strain\n",
      "\t4.64 moyenne 14 notes \t\tWhitney\n",
      "\t7.85 moyenne 20 notes \t\tMalcolm In The Middle\n",
      "\t8.04 moyenne 24 notes \t\tCommunity\n",
      "profil item 13\n",
      "\t7.87 moyenne 55 notes \t\tThe X-Files\n",
      "\t6.53 moyenne 72 notes \t\tAmerican Horror Story\n",
      "\t6.15 moyenne 20 notes \t\tMadam Secretary\n",
      "\t6.69 moyenne 113 notes \t\tThe Big Bang Theory\n",
      "\t8.42 moyenne 60 notes \t\tSeinfeld\n",
      "profil item 14\n",
      "\t7.24 moyenne 62 notes \t\tHannibal\n",
      "\t8.36 moyenne 44 notes \t\tFuturama\n",
      "\t6.19 moyenne 26 notes \t\tBrooklyn Nine-Nine\n",
      "\t6.03 moyenne 34 notes \t\tGreys Anatomy\n",
      "\t6.44 moyenne 45 notes \t\tCriminal Minds\n",
      "profil item 15\n",
      "\t6.83 moyenne 42 notes \t\tElementary\n",
      "\t5.47 moyenne 15 notes \t\tBroad City\n",
      "\t7.26 moyenne 46 notes \t\tSons of Anarchy\n",
      "\t7.65 moyenne 40 notes \t\tBates Motel\n",
      "\t6.77 moyenne 48 notes \t\tSmallville\n"
     ]
    }
   ],
   "source": [
    "def moyenneSerie(nomSerie):\n",
    "    i = serie_dict.index(nomSerie)\n",
    "    moyenne = df[i].mean()\n",
    "    count = len([a for a in df[i].notna() if a])\n",
    "    return moyenne, count\n",
    "\n",
    "for i in range(k):\n",
    "    lol = np.argsort(learnt_I.transpose()[:, i])[::-1][:5]\n",
    "    print(\"profil item %d\" % (i+1))\n",
    "    for j in range(5):\n",
    "        moyenne, count = moyenneSerie(serie_dict[lol[j]])\n",
    "        print(\"\\t{0:.2f}\".format(moyenne),\"moyenne\", count,\"notes\", \"\\t\\t\"+\" \".join(serie_dict[lol[j]].split(\"_\")[1:]))"
   ]
  },
  {
   "cell_type": "code",
   "execution_count": 39,
   "metadata": {},
   "outputs": [
    {
     "name": "stdout",
     "output_type": "stream",
     "text": [
      "notes observées: \n",
      "\n",
      "10.0 \t Breaking Bad\n",
      "8.0 \t New Tricks\n",
      "8.0 \t Agatha Christie Poirot\n",
      "7.0 \t Southland\n",
      "7.0 \t Rules of Engagement\n",
      "7.0 \t Scrubs\n",
      "5.0 \t Rejseholdet (Unit One)\n",
      "\n",
      "séries recommandées: \n",
      "\n",
      "9.0 \t Deadwood\n",
      "9.0 \t Game of Thrones\n",
      "9.0 \t The World at War\n",
      "9.0 \t Gravity Falls\n",
      "9.0 \t Friends\n"
     ]
    }
   ],
   "source": [
    "user = 5\n",
    "\n",
    "lol = [(i,a) for i, a in enumerate(df.iloc[user].values) if not np.isnan(a)]\n",
    "lol.sort(key=lambda x: x[1])\n",
    "print(\"notes observées: \\n\")\n",
    "for i, rating in lol[::-1]:\n",
    "    print(rating,\"\\t\",\" \".join(serie_dict[i].split(\"_\")[1:]))\n",
    "    \n",
    "hhhh = [a for a,b in lol]\n",
    "mdr = [a for a in np.argsort(xptdr[user])[::-1] if a not in hhhh]\n",
    "print(\"\\nséries recommandées: \\n\")\n",
    "for i in mdr[:5]:\n",
    "    print(xptdr[user][i],\"\\t\", \" \".join(serie_dict[i].split(\"_\")[1:]))"
   ]
  },
  {
   "cell_type": "markdown",
   "metadata": {},
   "source": [
    "### SVD++ (Singular Value Decomposition ++):\n",
    "\n",
    "**SVD** est un autre algorithme connu de factorisation de matrice. Il lève la contrainte de non-négativité sur ${U}$ et ${I}$ et rajoute 3 autres valeurs, b, ${bU_{i}}$, et ${bI_{j}}$. Comme son nom l'indique, il s'agit d'une version modifiée de l'algorithme SVD.\n",
    "\n",
    "on calcule en fait ${R_{i,j}= b + bU_{i} + bI_{j} + U_{i}\\cdot I_{j}}$. Voici pourquoi:\n",
    "\n",
    ">Supposons que vous voulez une estimation de la note de Jean-Rachid sur le film Taxi 3. Supposons que la moyenne des notes sur tous les films, µ, est 6.7 étoiles. De plus, Taxi 3 a une meilleure moyenne que la moyenne des films, et il a tendance à être noté 0.5 étoiles au-dessus de la moyenne, grace au jeu d'acteur incroyable de Fred Diefenthal. De plus, Jean-Rachid est un cinéphile critique, qui a tendance à noter 0.3 étoiles en-dessous de la moyenne. Donc, une estimation de la note de Jean-Rachid sur Taxi 3 serait 6.9 étoiles (6.7 + 0.5 - 0.3).\n",
    "\n",
    "On introduit donc une baseline, matérialisée par 3 variables, qui ne sont pas apprises par l'algorithme (donc pas modifiées) "
   ]
  },
  {
   "cell_type": "markdown",
   "metadata": {},
   "source": [
    "\n",
    "\n",
    "Performances de nos algorithmes en test:\n",
    "\n",
    "| **k**      |     baseline    |   NMF (test) |   SVD++ (test) |\n",
    "| ------------- |: -------------: | ---------: | ---------: |\n",
    "| **5**      |        1        |      value |      value |\n",
    "| **8**      |        3        |      value |      value |\n",
    "| **10**        |        2        |      value |      value |\n",
    "| **15**      |        3        |      value |      value |\n"
   ]
  }
 ],
 "metadata": {
  "kernelspec": {
   "display_name": "Python 3",
   "language": "python",
   "name": "python3"
  },
  "language_info": {
   "codemirror_mode": {
    "name": "ipython",
    "version": 3
   },
   "file_extension": ".py",
   "mimetype": "text/x-python",
   "name": "python",
   "nbconvert_exporter": "python",
   "pygments_lexer": "ipython3",
   "version": "3.7.1"
  }
 },
 "nbformat": 4,
 "nbformat_minor": 2
}
