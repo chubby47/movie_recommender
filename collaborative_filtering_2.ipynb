{
  "nbformat": 4,
  "nbformat_minor": 0,
  "metadata": {
    "colab": {
      "name": "item2vec.ipynb",
      "version": "0.3.2",
      "provenance": [],
      "collapsed_sections": []
    },
    "kernelspec": {
      "name": "python3",
      "display_name": "Python 3"
    }
  },
  "cells": [
    {
      "cell_type": "code",
      "metadata": {
        "id": "OtlLFq3lq_BP",
        "colab_type": "code",
        "outputId": "9833cbec-f6e0-491e-ac59-5ac2b4d0aa82",
        "colab": {
          "base_uri": "https://localhost:8080/",
          "height": 51
        }
      },
      "source": [
        "!unzip userratings.zip"
      ],
      "execution_count": 0,
      "outputs": [
        {
          "output_type": "stream",
          "text": [
            "Archive:  userratings.zip\n",
            "  inflating: userratings.csv         \n"
          ],
          "name": "stdout"
        }
      ]
    },
    {
      "cell_type": "code",
      "metadata": {
        "id": "PzZJR-_Il_qS",
        "colab_type": "code",
        "colab": {}
      },
      "source": [
        "import pandas as pd\n",
        "import gensim\n",
        "import numpy as np\n",
        "from sklearn.metrics import mean_squared_error\n",
        "import warnings\n",
        "import pickle\n",
        "import random\n",
        "warnings.simplefilter(action='ignore', category=FutureWarning)"
      ],
      "execution_count": 0,
      "outputs": []
    },
    {
      "cell_type": "code",
      "metadata": {
        "id": "wnBRxxSrdIAy",
        "colab_type": "code",
        "colab": {}
      },
      "source": [
        "# Dataframe : line 'serie', column 'user', cell 'Rating/10 or NaN'\n",
        "df = pd.read_csv('userratings.csv').drop('Unnamed: 0', axis='columns')\n",
        "#df.head()"
      ],
      "execution_count": 0,
      "outputs": []
    },
    {
      "cell_type": "code",
      "metadata": {
        "id": "IR6wiQO8MB_6",
        "colab_type": "code",
        "colab": {}
      },
      "source": [
        "# Dataframe to convert between the different namings of series\n",
        "nameConvert = pd.read_csv('namesConvert.csv')"
      ],
      "execution_count": 0,
      "outputs": []
    },
    {
      "cell_type": "code",
      "metadata": {
        "id": "QreEapxg9Gt8",
        "colab_type": "code",
        "colab": {}
      },
      "source": [
        "# Used to get the real name of a serie based on its ID in the column 'Unnamed: 0' of 'userratings.csv'\n",
        "\"\"\"\n",
        "!pip install IMDbPY\n",
        "from imdb import IMDb\n",
        "ia = IMDb()\n",
        "\n",
        "seriesNames = pd.read_csv('userratings.csv',usecols=['Unnamed: 0'] )\n",
        "realNames = []\n",
        "for serie in seriesNames.values.ravel():\n",
        "  realName = ia.get_movie(serie[2:])['title']\n",
        "  realNames.append(realName)\n",
        "  \n",
        "realNames\n",
        "\"\"\"\n"
      ],
      "execution_count": 0,
      "outputs": []
    },
    {
      "cell_type": "code",
      "metadata": {
        "id": "j5vPYcbGHCul",
        "colab_type": "code",
        "colab": {}
      },
      "source": [
        "#titles = pd.DataFrame(realNames, columns=['title'])\n",
        "#titles.to_csv('titles.csv', index=False)\n",
        "\n",
        "# Series titles ordered by the same order as in the ratings csv\n",
        "titles = pd.read_csv('titles.csv')\n"
      ],
      "execution_count": 0,
      "outputs": []
    },
    {
      "cell_type": "code",
      "metadata": {
        "id": "RjH_VWqJxWw0",
        "colab_type": "code",
        "colab": {}
      },
      "source": [
        "#new.to_csv('ratings.csv',index=False)"
      ],
      "execution_count": 0,
      "outputs": []
    },
    {
      "cell_type": "code",
      "metadata": {
        "id": "r532t6D3RpG7",
        "colab_type": "code",
        "colab": {}
      },
      "source": [
        "# Loading the similarity matrix\n",
        "!wget 'https://github.com/ismaelbonneau/movie_recommender/raw/master/similarity_matrices/sim_15_.npy'\n",
        "simMat = np.load(\"sim_15_.npy\")"
      ],
      "execution_count": 0,
      "outputs": []
    },
    {
      "cell_type": "code",
      "metadata": {
        "id": "kEenmxHvwhmv",
        "colab_type": "code",
        "colab": {}
      },
      "source": [
        "# Keep.csv contains the lines/columns to keep from the similarity matrix\n",
        "# keep only the ones that match the series we have in userratings.csv\n",
        "keep = pd.read_csv('keep.csv')\n",
        "keeps = keep['index'].values\n",
        "simMat = simMat[keeps][:,keeps]\n",
        "series = keep['seriesname'].values"
      ],
      "execution_count": 0,
      "outputs": []
    },
    {
      "cell_type": "code",
      "metadata": {
        "id": "ziZpT-ABdeYS",
        "colab_type": "code",
        "colab": {}
      },
      "source": [
        "# Corpus building\n",
        "# both functions take a dataframe : line 'serie', column 'user', cell 'rate'\n",
        "\n",
        "# Builds each document as the usernames ordered from the highest rating one to the lowest rating one for each serie\n",
        "# ie:\n",
        "# we get nbSeries document\n",
        "# each document is the sequence of all the users that rated it, ordered from the ones who liked it to the the ones who hated it\n",
        "#           user C     user D     user A      user P\n",
        "# serie X     10         8          8          3\n",
        "# the document will be [ 'C', 'D', 'A', 'P' ]\n",
        "def buildSequences(new):\n",
        "  result = dict()\n",
        "  dfs = dict()\n",
        "  for index, row in new.iterrows():\n",
        "    x = row.dropna()\n",
        "    y = pd.Series.argsort(x)\n",
        "    p = np.array(x.axes).ravel()\n",
        "    cols = np.flip(p[y]).tolist()\n",
        "    result[index] = cols\n",
        "    dfs[index] = x[cols].values\n",
        "  return result, dfs\n",
        "\n",
        "\n",
        "# Builds each document as the cluster of users that gave the same rating to the same serie\n",
        "# we get nbSeries*10 maxiumum documents ( since there is 10 grades to give )\n",
        "# each document is the usernames of those who gave the exact same rating to a given serie\n",
        "#           user C     user D     user A      user P\n",
        "# serie X     10         8          8          3\n",
        "# serie Y      2         10         2          2\n",
        "# docs:\n",
        "# [ 'C' ] who gave 10 to serie X\n",
        "# [ 'D', 'A'] who gave 8 to serie X\n",
        "# [ 'P' ] who gave 3 to serie X\n",
        "# [ 'C', 'A', 'P' ] who gave 2 to serie Y\n",
        "# [ 'D' ] who gave 10 to serie Y\n",
        "# so we treat each serie alone and cluster its users based on their ratings\n",
        "\n",
        "def buildClusters(new):\n",
        "  result = []\n",
        "  tt = new.T\n",
        "  for i in range(len(new)):\n",
        "    result += list(map(list, list(tt.groupby([i]).groups.values())))\n",
        "  return result"
      ],
      "execution_count": 0,
      "outputs": []
    },
    {
      "cell_type": "code",
      "metadata": {
        "id": "BxFDEcACkyse",
        "colab_type": "code",
        "colab": {}
      },
      "source": [
        "# User similarity calculations\n",
        "# both functions input :\n",
        "#    model : w2v model\n",
        "#    topn : how many users to consider as similar\n",
        "#    df : the dataframe containing the ratings\n",
        "#    cross : how many series in common we want \n",
        "# output :\n",
        "#    dictionary : key 'user', value 'list of users'\n",
        "\n",
        "\n",
        "# Returns for each user, the list of users that are 'similar' to it\n",
        "# this version calculates how many series the two users have rated in common and \n",
        "# considers two users similar if they have at least topn series in common\n",
        "def getSims(model,topn,df,cross):\n",
        "  result = dict()\n",
        "  users = model.wv.vocab\n",
        "  yes = 0\n",
        "  bla =0\n",
        "  for user in users:\n",
        "    bla += 1\n",
        "    print(bla,len(users))\n",
        "    rows = model.wv.similar_by_word(user,topn=len(users))\n",
        "    tmp = []\n",
        "    count = 0\n",
        "    for row,_ in rows:\n",
        "      m = df[[row,user]]\n",
        "      xx = m.replace({0:np.nan})\n",
        "      xx = xx.dropna()\n",
        "      if len(xx)>=cross:\n",
        "        tmp.append(row)\n",
        "        count += 1\n",
        "      if count >= topn:\n",
        "        break\n",
        "    if len(tmp) < topn:\n",
        "      yes += 1\n",
        "    result[user] = tmp\n",
        "  print(yes)\n",
        "  return result\n",
        "\n",
        "# Returns for each user, the list of users that are 'similar' to it\n",
        "# cross and df are useless here\n",
        "def getSimsNormal(model,topn, df, cross):\n",
        "  result = dict()\n",
        "  users = model.wv.vocab\n",
        "  for user in users:\n",
        "    rows = model.wv.similar_by_word(user,topn=topn)\n",
        "    result[user] = [x for x,_ in rows]\n",
        "  return result"
      ],
      "execution_count": 0,
      "outputs": []
    },
    {
      "cell_type": "code",
      "metadata": {
        "id": "BtoXbhtQ9U1g",
        "colab_type": "code",
        "colab": {}
      },
      "source": [
        "# predicts the ratings of a user based on its similar users\n",
        "# input:\n",
        "#     user : which user to predict\n",
        "#     sims : users similarity dictionary\n",
        "#     df : ratings dataframe\n",
        "#     dropnan : show only intersection between predicted and known if True\n",
        "# output:\n",
        "#     dataframe containing two columns 'Predicted' and 'Original',\n",
        "#     showing in each line the two ratings we know or predicted for each serie\n",
        "def predictUser(user, sims, df, dropnan = True):\n",
        "  others = df[sims[user]]\n",
        "  others = others.replace({0:np.nan})\n",
        "  m = others.mean(axis=1)\n",
        "  xx = pd.DataFrame(m,columns=['Predicted'])\n",
        "  xx['Original'] = df[user]\n",
        "  xx = xx.replace({0:np.nan})\n",
        "  if dropnan:\n",
        "    xx = xx.dropna()\n",
        "  return xx"
      ],
      "execution_count": 0,
      "outputs": []
    },
    {
      "cell_type": "code",
      "metadata": {
        "id": "_pcqaI4tLIhN",
        "colab_type": "code",
        "colab": {}
      },
      "source": [
        "# MSE in a two columns dataframe\n",
        "def msePredicted(df):\n",
        "  A = df['Predicted'].T\n",
        "  B = df['Original'].T\n",
        "  return mean_squared_error(A,B)\n",
        "\n",
        "# Calculates the MSE for given user similarities\n",
        "# output:\n",
        "#    totalMSE\n",
        "#    skipped : number of users without measurable predictions\n",
        "#    lengths : number of predictions made for each user\n",
        "def mseAllPrediction(df, sims):\n",
        "  users = list(sims.keys())\n",
        "  lengths = []\n",
        "  total = 0\n",
        "  skipped = 0\n",
        "  for user in users:\n",
        "    pred = predictUser(user, sims, df)\n",
        "    lengths.append(len(pred))\n",
        "    if pred.empty:\n",
        "      skipped +=1\n",
        "    else:\n",
        "      total += msePredicted(pred)\n",
        "  return total/len(users), skipped, lengths"
      ],
      "execution_count": 0,
      "outputs": []
    },
    {
      "cell_type": "code",
      "metadata": {
        "id": "G0sghREP9I3K",
        "colab_type": "code",
        "colab": {}
      },
      "source": [
        "# modify the ratings dataframe to add this new ratings\n",
        "# for 'user', concerning 'serie', give the rating 'note', in the dataframe 'df'\n",
        "# the serie name is given as the IMDB title of the serie, the function\n",
        "# converts and finds the corresponding line in the dataframe using 'titles'\n",
        "def rate(user,serie,note,df,titles):\n",
        "  hoh = np.where( titles.values.ravel() == serie)[0][0]\n",
        "  print(\"Before\")\n",
        "  print(df.loc[hoh,[user]])\n",
        "  df.loc[hoh,[user]] = note\n",
        "  print(\"After\")\n",
        "  print(df.loc[hoh,[user]])"
      ],
      "execution_count": 0,
      "outputs": []
    },
    {
      "cell_type": "code",
      "metadata": {
        "id": "Oxk0UwT1vC1j",
        "colab_type": "code",
        "colab": {}
      },
      "source": [
        "# Recommends a list of series (ordered) to a specific user\n",
        "# input:\n",
        "#    user : which user to recommend to\n",
        "#    sims : user similarity dictionary\n",
        "#    df : ratings dataframe\n",
        "#    titles : to show clean serie titles\n",
        "#    itemSim : series similarity matrix ( prebuilt, imported and filtered beforehand )\n",
        "#    k : how many series we want to recommend\n",
        "#    simOnly : recommend only based on serie similarities ( most similar to most liked serie first,\n",
        "#              then if k most similar to best one have been watched we move to second most liked one ..)\n",
        "#    similOdds : probability of recommending by serie similarity instead of collaborative filtering\n",
        "#    coldUntil : how many ratings a user needs to make to stop considering it cold start \n",
        "#                we recommend the best rated series in the beginning\n",
        "#    minNbRates : how many ratings required for a serie to be considered in best rated series\n",
        "# output:\n",
        "#    dataframe : line 'serie', columns 'Predicted rating' & 'serie title'\n",
        "#                series are ordered from best rated to lowest rated\n",
        "#                when recommending using similarities the prediction rating is not considered \n",
        "#                ( so it makes the order seem false ) but its ordered by serie similarity insead\n",
        "def recommend(user, sims, df, titles, itemSim,k,simOnly=False,similOdds=0.0,coldUntil=2, minNbRates = 1000):\n",
        "  if df[user].count() < coldUntil:\n",
        "    yuy = df[df.count(axis=1)>minNbRates]\n",
        "    res = titles.loc[yuy.mean(axis=1).sort_values(ascending=False).index[:k]]\n",
        "    res['Predicted'] = np.NaN\n",
        "    return res[['Predicted','title']]\n",
        "  xx = predictUser(user, sims, df, dropnan = False)\n",
        "  bestRate = xx['Original'].max()\n",
        "  simAscending = False\n",
        "  if bestRate < 6:\n",
        "    simAscending = True\n",
        "  xx['title'] = titles['title']\n",
        "  hih = xx.dropna(subset=['Predicted'])\n",
        "  res = hih.drop(list(hih.dropna().index))[['Predicted','title']].sort_values(by=['Predicted'],ascending=False)\n",
        "  takeSims = False\n",
        "  if random.uniform(0, 1)<=similOdds:\n",
        "    takeSims = True\n",
        "  if res.empty or simOnly or takeSims:\n",
        "    print(\"Using Similarities\")\n",
        "    seen = xx.dropna(subset=['Original'])\n",
        "    preferred = list(seen.sort_values(by=['Original'],ascending=simAscending).index)\n",
        "    for current in range(len(itemSim)):\n",
        "      s = itemSim[preferred[current]]\n",
        "      if not simAscending:\n",
        "        s = -s\n",
        "      proposed = (s).argsort()[1:k+1]\n",
        "      b = list(proposed)\n",
        "      a = set(seen.index)\n",
        "      for e in a:\n",
        "        if e in b:\n",
        "          b.remove(e)\n",
        "      res = xx.iloc[b][['Predicted','title']]\n",
        "      if not res.empty:\n",
        "        return res\n",
        "  return res"
      ],
      "execution_count": 0,
      "outputs": []
    },
    {
      "cell_type": "code",
      "metadata": {
        "id": "XDvHt8nmbMpR",
        "colab_type": "code",
        "colab": {}
      },
      "source": [
        "# Shows what are the ratings that this user gave originally\n",
        "def showUserOriginal(user,df):\n",
        "  kiko = df[user].dropna()\n",
        "  kaka = titles.loc[kiko.index]\n",
        "  kaka['rate'] = kiko\n",
        "  return kaka"
      ],
      "execution_count": 0,
      "outputs": []
    },
    {
      "cell_type": "code",
      "metadata": {
        "id": "FBioCRwAo4xa",
        "colab_type": "code",
        "colab": {}
      },
      "source": [
        "# The real modafaka that calculates everything to recommend later\n",
        "# input:\n",
        "#     df : ratings dataframe\n",
        "#     vec_size : w2v vector size\n",
        "#     window : how many 'users' to consider as neighbours when calculating\n",
        "#     sim : how many users to consider as similar ( corresponds to topn in other functions )\n",
        "#     iters : w2v iterations\n",
        "#     min_count : minumum appearance of a user in the corpus \n",
        "#                 ( which means that min_count should be < cold_until in recommend )\n",
        "#     clustering : build rating clusters or user sequences to build the corpus\n",
        "# output:\n",
        "#     sims : user similarity dictionary\n",
        "#     t : MSE for all the predictions based on this model\n",
        "#     s : number of users that didn't have any error measurable prediction\n",
        "#         ( set of predicted ratings INTER set of originally given ratings = EMPTY )\n",
        "#     lengths : the number of series predicted for each user\n",
        "#     poi : for each user, number of ratings and number of predictions made\n",
        "#     bed : ratio nb prediction / nb ratings for each user\n",
        "def madafaka(df, vec_size = 500, window = 4, sim = 200, iters = 200, min_count = 1, clustering = False):\n",
        "  if clustering:\n",
        "    corpus = buildClusters(df)\n",
        "  else:\n",
        "    seqs, _ = buildSequences(df)\n",
        "    corpus = list(seqs.values())\n",
        "  model = gensim.models.Word2Vec(corpus, size=vec_size, window=window, iter=iters, workers=4, min_count=min_count)\n",
        "  sims = getSimsNormal(model,sim,df,0)\n",
        "  t,s,lengths = mseAllPrediction(df, sims)\n",
        "  print(\"MSE , Zero predictions\")\n",
        "  print(t,s)\n",
        "  lengths = pd.Series(lengths)\n",
        "  print(lengths.describe())\n",
        "  counts = df.count()\n",
        "  \n",
        "  poi = pd.DataFrame(counts).T\n",
        "  poi = poi[list(sims.keys())]\n",
        "  lengths.index = list(sims.keys())\n",
        "  poi = poi.append(lengths,ignore_index=True)\n",
        "  bed = poi.iloc[1]/poi.iloc[0]\n",
        "  print(\"Prediction percentage\")\n",
        "  print(bed.describe())\n",
        "  \n",
        "  return sims, t, s, lengths, poi, bed"
      ],
      "execution_count": 0,
      "outputs": []
    },
    {
      "cell_type": "code",
      "metadata": {
        "id": "9PwOD07iqxAx",
        "colab_type": "code",
        "outputId": "8e81f12b-d66f-4b16-dc97-b2f4d6683850",
        "colab": {
          "base_uri": "https://localhost:8080/",
          "height": 374
        }
      },
      "source": [
        "vec_size = 1000\n",
        "window = 1000\n",
        "sim = 10\n",
        "iters = 200\n",
        "min_count = 5\n",
        "clustering = True\n",
        "sims, t, s, lengths, poi, bed = madafaka(df, vec_size = vec_size, window = window, sim = sim, iters = iters, min_count = min_count, clustering = clustering )"
      ],
      "execution_count": 0,
      "outputs": [
        {
          "output_type": "stream",
          "text": [
            "MSE , Zero predictions\n",
            "4.161723359802841 5\n",
            "count    911.000000\n",
            "mean       4.655324\n",
            "std        3.772918\n",
            "min        0.000000\n",
            "25%        3.000000\n",
            "50%        4.000000\n",
            "75%        6.000000\n",
            "max       45.000000\n",
            "dtype: float64\n",
            "Prediction percentage\n",
            "count    911.000000\n",
            "mean       0.486942\n",
            "std        0.201340\n",
            "min        0.000000\n",
            "25%        0.333333\n",
            "50%        0.461538\n",
            "75%        0.600000\n",
            "max        1.000000\n",
            "dtype: float64\n"
          ],
          "name": "stdout"
        }
      ]
    },
    {
      "cell_type": "code",
      "metadata": {
        "id": "I8icSzxh57G-",
        "colab_type": "code",
        "outputId": "9da22c6d-8f67-4403-93d7-01e478e35497",
        "colab": {
          "base_uri": "https://localhost:8080/",
          "height": 119
        }
      },
      "source": [
        "user = \"issamou\"\n",
        "rate(user,'Lost',9,df,titles)"
      ],
      "execution_count": 0,
      "outputs": [
        {
          "output_type": "stream",
          "text": [
            "Before\n",
            "issamou   NaN\n",
            "Name: 342, dtype: float64\n",
            "After\n",
            "issamou    9.0\n",
            "Name: 342, dtype: float64\n"
          ],
          "name": "stdout"
        }
      ]
    },
    {
      "cell_type": "code",
      "metadata": {
        "id": "Amcnah3Cdt2J",
        "colab_type": "code",
        "outputId": "2360eac0-7ab0-444a-f019-6fe8e08e7b32",
        "colab": {
          "base_uri": "https://localhost:8080/",
          "height": 390
        }
      },
      "source": [
        "user = \"issamou\"\n",
        "showUserOriginal(user,df)"
      ],
      "execution_count": 0,
      "outputs": [
        {
          "output_type": "execute_result",
          "data": {
            "text/html": [
              "<div>\n",
              "<style scoped>\n",
              "    .dataframe tbody tr th:only-of-type {\n",
              "        vertical-align: middle;\n",
              "    }\n",
              "\n",
              "    .dataframe tbody tr th {\n",
              "        vertical-align: top;\n",
              "    }\n",
              "\n",
              "    .dataframe thead th {\n",
              "        text-align: right;\n",
              "    }\n",
              "</style>\n",
              "<table border=\"1\" class=\"dataframe\">\n",
              "  <thead>\n",
              "    <tr style=\"text-align: right;\">\n",
              "      <th></th>\n",
              "      <th>title</th>\n",
              "      <th>rate</th>\n",
              "    </tr>\n",
              "  </thead>\n",
              "  <tbody>\n",
              "    <tr>\n",
              "      <th>0</th>\n",
              "      <td>Batman</td>\n",
              "      <td>9.0</td>\n",
              "    </tr>\n",
              "    <tr>\n",
              "      <th>113</th>\n",
              "      <td>The Simpsons</td>\n",
              "      <td>8.0</td>\n",
              "    </tr>\n",
              "    <tr>\n",
              "      <th>156</th>\n",
              "      <td>Friends</td>\n",
              "      <td>10.0</td>\n",
              "    </tr>\n",
              "    <tr>\n",
              "      <th>247</th>\n",
              "      <td>Son of the Beach</td>\n",
              "      <td>3.0</td>\n",
              "    </tr>\n",
              "    <tr>\n",
              "      <th>254</th>\n",
              "      <td>X-Men: Evolution</td>\n",
              "      <td>9.0</td>\n",
              "    </tr>\n",
              "    <tr>\n",
              "      <th>268</th>\n",
              "      <td>Smallville</td>\n",
              "      <td>8.0</td>\n",
              "    </tr>\n",
              "    <tr>\n",
              "      <th>299</th>\n",
              "      <td>Teen Titans</td>\n",
              "      <td>7.0</td>\n",
              "    </tr>\n",
              "    <tr>\n",
              "      <th>400</th>\n",
              "      <td>Hannah Montana</td>\n",
              "      <td>4.0</td>\n",
              "    </tr>\n",
              "    <tr>\n",
              "      <th>413</th>\n",
              "      <td>Wolverine and the X-Men</td>\n",
              "      <td>8.0</td>\n",
              "    </tr>\n",
              "    <tr>\n",
              "      <th>517</th>\n",
              "      <td>Batman: The Brave and the Bold</td>\n",
              "      <td>8.0</td>\n",
              "    </tr>\n",
              "    <tr>\n",
              "      <th>616</th>\n",
              "      <td>The X Factor</td>\n",
              "      <td>5.0</td>\n",
              "    </tr>\n",
              "  </tbody>\n",
              "</table>\n",
              "</div>"
            ],
            "text/plain": [
              "                              title  rate\n",
              "0                            Batman   9.0\n",
              "113                    The Simpsons   8.0\n",
              "156                         Friends  10.0\n",
              "247                Son of the Beach   3.0\n",
              "254                X-Men: Evolution   9.0\n",
              "268                      Smallville   8.0\n",
              "299                     Teen Titans   7.0\n",
              "400                  Hannah Montana   4.0\n",
              "413         Wolverine and the X-Men   8.0\n",
              "517  Batman: The Brave and the Bold   8.0\n",
              "616                    The X Factor   5.0"
            ]
          },
          "metadata": {
            "tags": []
          },
          "execution_count": 417
        }
      ]
    },
    {
      "cell_type": "code",
      "metadata": {
        "id": "Oe8H0l3uJeAu",
        "colab_type": "code",
        "outputId": "d6b86ae8-39e0-4382-ac97-663fa4140f2f",
        "colab": {
          "base_uri": "https://localhost:8080/",
          "height": 283
        }
      },
      "source": [
        "# coldUntil >= min_count ( du madafaka )\n",
        "r = recommend(user, sims, df, titles, simMat, k=7, simOnly=False, similOdds=0.3, coldUntil=1, minNbRates = 100)\n",
        "r"
      ],
      "execution_count": 0,
      "outputs": [
        {
          "output_type": "stream",
          "text": [
            "Using Similarities\n"
          ],
          "name": "stdout"
        },
        {
          "output_type": "execute_result",
          "data": {
            "text/html": [
              "<div>\n",
              "<style scoped>\n",
              "    .dataframe tbody tr th:only-of-type {\n",
              "        vertical-align: middle;\n",
              "    }\n",
              "\n",
              "    .dataframe tbody tr th {\n",
              "        vertical-align: top;\n",
              "    }\n",
              "\n",
              "    .dataframe thead th {\n",
              "        text-align: right;\n",
              "    }\n",
              "</style>\n",
              "<table border=\"1\" class=\"dataframe\">\n",
              "  <thead>\n",
              "    <tr style=\"text-align: right;\">\n",
              "      <th></th>\n",
              "      <th>Predicted</th>\n",
              "      <th>title</th>\n",
              "    </tr>\n",
              "  </thead>\n",
              "  <tbody>\n",
              "    <tr>\n",
              "      <th>456</th>\n",
              "      <td>NaN</td>\n",
              "      <td>Samantha Who?</td>\n",
              "    </tr>\n",
              "    <tr>\n",
              "      <th>382</th>\n",
              "      <td>NaN</td>\n",
              "      <td>What About Brian</td>\n",
              "    </tr>\n",
              "    <tr>\n",
              "      <th>210</th>\n",
              "      <td>NaN</td>\n",
              "      <td>Will &amp; Grace</td>\n",
              "    </tr>\n",
              "    <tr>\n",
              "      <th>631</th>\n",
              "      <td>NaN</td>\n",
              "      <td>Melissa &amp; Joey</td>\n",
              "    </tr>\n",
              "    <tr>\n",
              "      <th>566</th>\n",
              "      <td>NaN</td>\n",
              "      <td>Modern Family</td>\n",
              "    </tr>\n",
              "    <tr>\n",
              "      <th>383</th>\n",
              "      <td>NaN</td>\n",
              "      <td>The New Adventures of Old Christine</td>\n",
              "    </tr>\n",
              "    <tr>\n",
              "      <th>391</th>\n",
              "      <td>NaN</td>\n",
              "      <td>The Class</td>\n",
              "    </tr>\n",
              "  </tbody>\n",
              "</table>\n",
              "</div>"
            ],
            "text/plain": [
              "     Predicted                                title\n",
              "456        NaN                        Samantha Who?\n",
              "382        NaN                     What About Brian\n",
              "210        NaN                         Will & Grace\n",
              "631        NaN                       Melissa & Joey\n",
              "566        NaN                        Modern Family\n",
              "383        NaN  The New Adventures of Old Christine\n",
              "391        NaN                            The Class"
            ]
          },
          "metadata": {
            "tags": []
          },
          "execution_count": 437
        }
      ]
    },
    {
      "cell_type": "code",
      "metadata": {
        "id": "-opUfark53Gc",
        "colab_type": "code",
        "outputId": "177cf356-e08d-4d8f-8918-cb0f5c300019",
        "colab": {
          "base_uri": "https://localhost:8080/",
          "height": 359
        }
      },
      "source": [
        "titles.sample(10)"
      ],
      "execution_count": 0,
      "outputs": [
        {
          "output_type": "execute_result",
          "data": {
            "text/html": [
              "<div>\n",
              "<style scoped>\n",
              "    .dataframe tbody tr th:only-of-type {\n",
              "        vertical-align: middle;\n",
              "    }\n",
              "\n",
              "    .dataframe tbody tr th {\n",
              "        vertical-align: top;\n",
              "    }\n",
              "\n",
              "    .dataframe thead th {\n",
              "        text-align: right;\n",
              "    }\n",
              "</style>\n",
              "<table border=\"1\" class=\"dataframe\">\n",
              "  <thead>\n",
              "    <tr style=\"text-align: right;\">\n",
              "      <th></th>\n",
              "      <th>title</th>\n",
              "    </tr>\n",
              "  </thead>\n",
              "  <tbody>\n",
              "    <tr>\n",
              "      <th>168</th>\n",
              "      <td>JAG</td>\n",
              "    </tr>\n",
              "    <tr>\n",
              "      <th>530</th>\n",
              "      <td>How the Earth Was Made</td>\n",
              "    </tr>\n",
              "    <tr>\n",
              "      <th>254</th>\n",
              "      <td>X-Men: Evolution</td>\n",
              "    </tr>\n",
              "    <tr>\n",
              "      <th>111</th>\n",
              "      <td>Family Matters</td>\n",
              "    </tr>\n",
              "    <tr>\n",
              "      <th>314</th>\n",
              "      <td>Arrested Development</td>\n",
              "    </tr>\n",
              "    <tr>\n",
              "      <th>229</th>\n",
              "      <td>The Vice</td>\n",
              "    </tr>\n",
              "    <tr>\n",
              "      <th>731</th>\n",
              "      <td>Men at Work</td>\n",
              "    </tr>\n",
              "    <tr>\n",
              "      <th>334</th>\n",
              "      <td>CSI: NY</td>\n",
              "    </tr>\n",
              "    <tr>\n",
              "      <th>844</th>\n",
              "      <td>Drunk History</td>\n",
              "    </tr>\n",
              "    <tr>\n",
              "      <th>446</th>\n",
              "      <td>Painkiller Jane</td>\n",
              "    </tr>\n",
              "  </tbody>\n",
              "</table>\n",
              "</div>"
            ],
            "text/plain": [
              "                      title\n",
              "168                     JAG\n",
              "530  How the Earth Was Made\n",
              "254        X-Men: Evolution\n",
              "111          Family Matters\n",
              "314    Arrested Development\n",
              "229                The Vice\n",
              "731             Men at Work\n",
              "334                 CSI: NY\n",
              "844           Drunk History\n",
              "446         Painkiller Jane"
            ]
          },
          "metadata": {
            "tags": []
          },
          "execution_count": 372
        }
      ]
    },
    {
      "cell_type": "code",
      "metadata": {
        "id": "kdagEtKkxnA8",
        "colab_type": "code",
        "outputId": "65fcaef6-570d-4716-a541-95d878845bd3",
        "colab": {
          "base_uri": "https://localhost:8080/",
          "height": 204
        }
      },
      "source": [
        "list(sims.items())[3]"
      ],
      "execution_count": 0,
      "outputs": [
        {
          "output_type": "execute_result",
          "data": {
            "text/plain": [
              "('Igenlode Wordsmith',\n",
              " ['theseanofsydney',\n",
              "  'pinkmuggle123',\n",
              "  'emmers591',\n",
              "  'djpl-719-841133',\n",
              "  'nickbaizel',\n",
              "  'manixanoka',\n",
              "  'rumblinglove',\n",
              "  'mcgregoronline',\n",
              "  'highbob',\n",
              "  'Kmclellan'])"
            ]
          },
          "metadata": {
            "tags": []
          },
          "execution_count": 412
        }
      ]
    },
    {
      "cell_type": "code",
      "metadata": {
        "id": "aImBVRAaJsHr",
        "colab_type": "code",
        "outputId": "be7de799-735b-453c-900a-076191ad8f6f",
        "colab": {
          "base_uri": "https://localhost:8080/",
          "height": 51
        }
      },
      "source": [
        "# user who like 'serie' the most but who rated at least 'mini' series\n",
        "serie = 'Hannibal'\n",
        "hoh = np.where( titles.values.ravel() == serie)[0][0]\n",
        "print(serie,hoh)\n",
        "mini = 10\n",
        "nieme = 0\n",
        "while(True):\n",
        "  huh = list(df.iloc[hoh][pd.Series.argsort(df.iloc[hoh]) == nieme].keys())[0]\n",
        "  if df[huh].count()<mini:\n",
        "    nieme += 1\n",
        "  else:\n",
        "    break\n",
        "print('user : ',huh, df[huh].count())"
      ],
      "execution_count": 0,
      "outputs": [
        {
          "output_type": "stream",
          "text": [
            "Hannibal 778\n",
            "user :  deloudelouvain 55\n"
          ],
          "name": "stdout"
        }
      ]
    },
    {
      "cell_type": "code",
      "metadata": {
        "id": "E-JwrGfGNjZR",
        "colab_type": "code",
        "outputId": "0cc83668-4256-41f7-9fdf-82c303b85f41",
        "colab": {
          "base_uri": "https://localhost:8080/",
          "height": 119
        }
      },
      "source": [
        "# 'user' and how many series he rated, and showing the original and predicted rating for 'serie'\n",
        "user = 'poe426'\n",
        "hoh = 778\n",
        "print('user : ',user)\n",
        "xx = predictUser(user, sims, df, dropnan = False)\n",
        "xx['title'] = titles['title']\n",
        "print('noted : ',len(xx.dropna(subset=['Original'])))\n",
        "hih = xx.dropna(subset=['Predicted'])\n",
        "xx.iloc[hoh]"
      ],
      "execution_count": 0,
      "outputs": [
        {
          "output_type": "stream",
          "text": [
            "user :  poe426\n",
            "noted :  15\n"
          ],
          "name": "stdout"
        },
        {
          "output_type": "execute_result",
          "data": {
            "text/plain": [
              "Predicted         NaN\n",
              "Original          NaN\n",
              "title        Hannibal\n",
              "Name: 778, dtype: object"
            ]
          },
          "metadata": {
            "tags": []
          },
          "execution_count": 172
        }
      ]
    },
    {
      "cell_type": "code",
      "metadata": {
        "id": "X4GqCFcz_5DU",
        "colab_type": "code",
        "outputId": "c3ed4b7f-bf12-4e10-cf38-61e67f642dbe",
        "colab": {
          "base_uri": "https://localhost:8080/",
          "height": 204
        }
      },
      "source": [
        "vec_size = 500\n",
        "window = 4\n",
        "sim = 200\n",
        "iters = 200\n",
        "min_count = 1\n",
        "model = gensim.models.Word2Vec(corpus, size=vec_size, window=window, iter=iters, workers=4, min_count=min_count)\n",
        "sims = getSimsNormal(model,sim,df,0)\n",
        "t,s,lengths = mseAllPrediction(df, sims)\n",
        "print(len(sims))\n",
        "print(t,s)\n",
        "lengths = pd.Series(lengths)\n",
        "lengths.describe()"
      ],
      "execution_count": 0,
      "outputs": [
        {
          "output_type": "stream",
          "text": [
            "48704\n",
            "1.4360507188877563 174\n"
          ],
          "name": "stdout"
        },
        {
          "output_type": "execute_result",
          "data": {
            "text/plain": [
              "count    48704.000000\n",
              "mean         1.294267\n",
              "std          1.679641\n",
              "min          0.000000\n",
              "25%          1.000000\n",
              "50%          1.000000\n",
              "75%          1.000000\n",
              "max         82.000000\n",
              "dtype: float64"
            ]
          },
          "metadata": {
            "tags": []
          },
          "execution_count": 61
        }
      ]
    },
    {
      "cell_type": "code",
      "metadata": {
        "id": "0sRrwE3DL0yL",
        "colab_type": "code",
        "colab": {}
      },
      "source": [
        "# Some parameters and their results\n",
        "vec_size = 500\n",
        "window = 4\n",
        "sim = 100\n",
        "iters = 200\n",
        "sans min_count\n",
        "910\n",
        "4.720264335690516 0\n",
        "count    910.000000\n",
        "mean      10.196703\n",
        "std       11.853608\n",
        "min        3.000000\n",
        "25%        5.000000\n",
        "50%        7.000000\n",
        "75%       10.000000\n",
        "max      207.000000\n",
        "\n",
        "vec_size = 500\n",
        "window = 4\n",
        "sim = 100\n",
        "iters = 200\n",
        "min_count = 4\n",
        "1423\n",
        "4.3631012618304705 0\n",
        "count    1423.000000\n",
        "mean        7.881940\n",
        "std         9.512453\n",
        "min         2.000000\n",
        "25%         4.000000\n",
        "50%         5.000000\n",
        "75%         8.000000\n",
        "max       178.000000\n",
        "\n",
        "vec_size = 500\n",
        "window = 4\n",
        "sim = 100\n",
        "iters = 200\n",
        "min_count = 3\n",
        "2580\n",
        "3.6229894607755724 0\n",
        "count    2580.000000\n",
        "mean        5.590698\n",
        "std         6.879334\n",
        "min         1.000000\n",
        "25%         3.000000\n",
        "50%         4.000000\n",
        "75%         5.000000\n",
        "max       135.000000\n",
        "\n",
        "vec_size = 500\n",
        "window = 4\n",
        "sim = 50\n",
        "iters = 200\n",
        "min_count = 3\n",
        "2580\n",
        "3.3837499149680212 0\n",
        "count    2580.000000\n",
        "mean        5.190698\n",
        "std         5.400378\n",
        "min         1.000000\n",
        "25%         3.000000\n",
        "50%         3.000000\n",
        "75%         5.000000\n",
        "max        74.000000\n",
        "\n",
        "vec_size = 500\n",
        "window = 4\n",
        "sim = 10\n",
        "iters = 200\n",
        "min_count = 3\n",
        "2580\n",
        "2.8071500462288896 6\n",
        "count    2580.000000\n",
        "mean        3.598450\n",
        "std         2.522792\n",
        "min         0.000000\n",
        "25%         2.000000\n",
        "50%         3.000000\n",
        "75%         4.000000\n",
        "max        30.000000\n",
        "\n",
        "\n",
        "vec_size = 500\n",
        "window = 4\n",
        "sim = 100\n",
        "iters = 200\n",
        "min_count = 2\n",
        "6597\n",
        "2.791165190867845 0\n",
        "count    6597.000000\n",
        "mean        3.331060\n",
        "std         4.247586\n",
        "min         1.000000\n",
        "25%         2.000000\n",
        "50%         2.000000\n",
        "75%         3.000000\n",
        "max       113.000000\n",
        "\n",
        "vec_size = 500\n",
        "window = 4\n",
        "sim = 100\n",
        "iters = 200\n",
        "min_count = 1\n",
        "48704\n",
        "1.055816536226366 329\n",
        "count    48704.000000\n",
        "mean         1.258562\n",
        "std          1.432282\n",
        "min          0.000000\n",
        "25%          1.000000\n",
        "50%          1.000000\n",
        "75%          1.000000\n",
        "max         55.000000\n",
        "\n",
        "vec_size = 500\n",
        "window = 4\n",
        "sim = 200\n",
        "iters = 200\n",
        "min_count = 1\n",
        "48704\n",
        "1.4360507188877563 174\n",
        "count    48704.000000\n",
        "mean         1.294267\n",
        "std          1.679641\n",
        "min          0.000000\n",
        "25%          1.000000\n",
        "50%          1.000000\n",
        "75%          1.000000\n",
        "max         82.000000"
      ],
      "execution_count": 0,
      "outputs": []
    }
  ]
}