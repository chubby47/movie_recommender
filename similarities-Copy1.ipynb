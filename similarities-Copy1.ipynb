{
 "cells": [
  {
   "cell_type": "code",
   "execution_count": 230,
   "metadata": {},
   "outputs": [],
   "source": [
    "import glob\n",
    "import numpy as np\n",
    "import pandas as pd\n",
    "import matplotlib.pyplot as plt\n",
    "from nltk.corpus import stopwords\n",
    "from nltk import wordpunct_tokenize\n",
    "import seaborn as sns\n",
    "#using https://github.com/amueller/word_cloud\n",
    "from wordcloud import WordCloud\n",
    "\n",
    "from utils.load_data import getMostImportantSeries\n",
    "from sklearn.feature_extraction.text import CountVectorizer, TfidfVectorizer\n",
    "from sklearn.preprocessing import normalize\n",
    "from sklearn.metrics.pairwise import cosine_similarity\n",
    "\n",
    "plt.style.use('seaborn-white')\n",
    "%matplotlib inline\n",
    "\n",
    "#dataset path\n",
    "path = \"/root/Documents/PLDAC/dataset\""
   ]
  },
  {
   "cell_type": "code",
   "execution_count": 231,
   "metadata": {},
   "outputs": [],
   "source": [
    "#pour rendre le notebook plus clean!\n",
    "def printMatrice(sim, series):\n",
    "    plt.figure(figsize=(10,10))\n",
    "    plt.imshow(sim, cmap='YlGn', interpolation='nearest')\n",
    "    plt.xticks(range(len(series)), [\" \".join(x.split(\"_\")[1:]) for x in series], rotation='vertical')\n",
    "    plt.yticks(range(len(series)), [\" \".join(x.split(\"_\")[1:]) for x in series])\n",
    "    plt.show()\n",
    "def krecommendations(sim, series, serie, k):\n",
    "    print(\"series les plus proches de {}:\".format(\" \".join(serie.split(\"_\")[1:])))\n",
    "    mdr = [(series[i], a) for i, a in enumerate(sim[series.index(serie)])]\n",
    "    for b in [a.split(\"_\")[1:] for a, e in sorted(mdr, key=lambda x: x[1], reverse=True)[:k]]:\n",
    "        print(\"  \", \" \".join(b))"
   ]
  },
  {
   "cell_type": "markdown",
   "metadata": {},
   "source": [
    "Reprenons notre liste de séries célèbres, étoffée cette fois-ci: la liste contient **44 séries de plusieurs genres différents**, triés de manière à former des \"blocs\" de séries du même genre."
   ]
  },
  {
   "cell_type": "code",
   "execution_count": 232,
   "metadata": {},
   "outputs": [
    {
     "data": {
      "text/html": [
       "<div>\n",
       "<style scoped>\n",
       "    .dataframe tbody tr th:only-of-type {\n",
       "        vertical-align: middle;\n",
       "    }\n",
       "\n",
       "    .dataframe tbody tr th {\n",
       "        vertical-align: top;\n",
       "    }\n",
       "\n",
       "    .dataframe thead th {\n",
       "        text-align: right;\n",
       "    }\n",
       "</style>\n",
       "<table border=\"1\" class=\"dataframe\">\n",
       "  <thead>\n",
       "    <tr style=\"text-align: right;\">\n",
       "      <th></th>\n",
       "      <th>seriesname</th>\n",
       "      <th>genres</th>\n",
       "    </tr>\n",
       "  </thead>\n",
       "  <tbody>\n",
       "    <tr>\n",
       "      <th>0</th>\n",
       "      <td>2318_Raising_the_Bar</td>\n",
       "      <td>Drama</td>\n",
       "    </tr>\n",
       "    <tr>\n",
       "      <th>1</th>\n",
       "      <td>1159_Rejseholdet_(Unit_One)</td>\n",
       "      <td>Drama</td>\n",
       "    </tr>\n",
       "    <tr>\n",
       "      <th>2</th>\n",
       "      <td>1821_Til_Death</td>\n",
       "      <td>Comedy</td>\n",
       "    </tr>\n",
       "  </tbody>\n",
       "</table>\n",
       "</div>"
      ],
      "text/plain": [
       "                    seriesname  genres\n",
       "0         2318_Raising_the_Bar   Drama\n",
       "1  1159_Rejseholdet_(Unit_One)   Drama\n",
       "2               1821_Til_Death  Comedy"
      ]
     },
     "execution_count": 232,
     "metadata": {},
     "output_type": "execute_result"
    }
   ],
   "source": [
    "series_df = pd.read_csv(\"series.csv\")\n",
    "series_df = series_df.dropna(subset=[\"genres\"])\n",
    "series = list(series_df[\"seriesname\"])\n",
    "series_df[[\"seriesname\", \"genres\"]].head(3)"
   ]
  },
  {
   "cell_type": "markdown",
   "metadata": {},
   "source": [
    "calculons la matrice de similarité de 1000 séries, puis évaluons les performances:"
   ]
  },
  {
   "cell_type": "code",
   "execution_count": 210,
   "metadata": {},
   "outputs": [
    {
     "name": "stdout",
     "output_type": "stream",
     "text": [
      "939\n"
     ]
    }
   ],
   "source": [
    "corpus = []\n",
    "for serie in series_df[\"seriesname\"]:\n",
    "    listepisodes = glob.glob(path+\"/\"+serie+\"/*/*.tokens\")\n",
    "    text = \"\"\n",
    "    for episode in listepisodes:\n",
    "        with open(episode, \"r\", encoding=\"utf-8\") as file:\n",
    "            text += \" \" + file.read()\n",
    "    corpus.append(text)\n",
    "print(len(corpus))"
   ]
  },
  {
   "cell_type": "code",
   "execution_count": 211,
   "metadata": {},
   "outputs": [
    {
     "name": "stderr",
     "output_type": "stream",
     "text": [
      "/root/anaconda3/lib/python3.7/site-packages/numpy/matrixlib/defmatrix.py:68: PendingDeprecationWarning: the matrix subclass is not the recommended way to represent matrices or deal with linear algebra (see https://docs.scipy.org/doc/numpy/user/numpy-for-matlab-users.html). Please adjust your code to use regular ndarray.\n",
      "  return matrix(data, dtype=dtype, copy=False)\n"
     ]
    }
   ],
   "source": [
    "\"\"\"\n",
    "\n",
    "    BOW\n",
    "    \n",
    "    \n",
    "\"\"\"\n",
    "\n",
    "counter_vect = CountVectorizer(analyzer='word', token_pattern=r'\\w{1,}')\n",
    "x = counter_vect.fit(corpus)\n",
    "vec = counter_vect.transform(corpus)\n",
    "\n",
    "sim = cosine_similarity(vec)"
   ]
  },
  {
   "cell_type": "code",
   "execution_count": 219,
   "metadata": {},
   "outputs": [
    {
     "name": "stderr",
     "output_type": "stream",
     "text": [
      "/root/anaconda3/lib/python3.7/site-packages/numpy/matrixlib/defmatrix.py:68: PendingDeprecationWarning: the matrix subclass is not the recommended way to represent matrices or deal with linear algebra (see https://docs.scipy.org/doc/numpy/user/numpy-for-matlab-users.html). Please adjust your code to use regular ndarray.\n",
      "  return matrix(data, dtype=dtype, copy=False)\n"
     ]
    }
   ],
   "source": [
    "\"\"\"\n",
    "\n",
    "    TF-IDF\n",
    "    \n",
    "    \n",
    "\"\"\"\n",
    "customstopwords = stopwords.words('english') + [\"yes\",\"hmm\",\"nah\",\"oh\",\"uh\",\n",
    "                                                \"ye\",\"na\",\"ca\",\"ok\",\"got\",\"come\",\"back\",\"up\"]\n",
    "\n",
    "tfidf_vect = TfidfVectorizer(analyzer='word', token_pattern=r'\\w{1,}', min_df=3, max_features=2000, stop_words=customstopwords)\n",
    "x = tfidf_vect.fit(corpus)\n",
    "vec = tfidf_vect.transform(corpus)\n",
    "\n",
    "sim = cosine_similarity(vec)"
   ]
  },
  {
   "cell_type": "code",
   "execution_count": 233,
   "metadata": {},
   "outputs": [],
   "source": [
    "\"\"\"\n",
    "\n",
    "    EMBEDDINGS\n",
    "    \n",
    "\n",
    "\"\"\"\n",
    "\n",
    "sim = np.load(\"similarity_matrices/sim_13_.npy\")\n"
   ]
  },
  {
   "cell_type": "code",
   "execution_count": 245,
   "metadata": {},
   "outputs": [],
   "source": [
    "nbSeries = 3000\n",
    "seriesNames, _ = getMostImportantSeries(path, byepisodes=True)\n",
    "series = seriesNames[:nbSeries]"
   ]
  },
  {
   "cell_type": "code",
   "execution_count": 235,
   "metadata": {},
   "outputs": [],
   "source": [
    "#classe implémentant les mesures de rappel/précision/score F1\n",
    "from utils.evalIRmodel import EvalIRmodel"
   ]
  },
  {
   "cell_type": "markdown",
   "metadata": {},
   "source": [
    "Construisons la liste des séries pertinentes en terme de similarité pour chaque série: Commencons par les séries du même genre:"
   ]
  },
  {
   "cell_type": "code",
   "execution_count": 213,
   "metadata": {},
   "outputs": [
    {
     "data": {
      "text/plain": [
       "939"
      ]
     },
     "execution_count": 213,
     "metadata": {},
     "output_type": "execute_result"
    }
   ],
   "source": [
    "\"\"\" \n",
    "    PERTINENT BONNE VERSION \n",
    "    \n",
    "    PAS TOUCHE\n",
    "\"\"\"\n",
    "\n",
    "everything = series_df[[\"seriesname\",\"genres\"]].values\n",
    "from difflib import SequenceMatcher\n",
    "\n",
    "ms = []\n",
    "pertinents = []\n",
    "skippable = []\n",
    "forbidden = ['ction','Anim','ster','tion']\n",
    "for c , one in enumerate(everything):\n",
    "    string1 = one[1]\n",
    "    tmp = []\n",
    "    for two in everything:\n",
    "        string2 = two[1]\n",
    "        nom = two[0]\n",
    "        match = SequenceMatcher(None, string1, string2).find_longest_match(0, len(string1), 0, len(string2))\n",
    "        mots = string1[match.a: match.a + match.size].split(\"-\")\n",
    "        yes = False\n",
    "        for m in mots:\n",
    "            if ((len(m)<4) or (m in forbidden)):\n",
    "                continue\n",
    "            yes = True\n",
    "            break\n",
    "        if yes:\n",
    "            tmp.append(nom)\n",
    "    if len(tmp) == 0:\n",
    "        skippable.append(c)\n",
    "        continue\n",
    "    pertinents.append(tmp)\n",
    "\n",
    "len(pertinents)"
   ]
  },
  {
   "cell_type": "markdown",
   "metadata": {},
   "source": [
    "Et maintenant, passons à l'évalutation:"
   ]
  },
  {
   "cell_type": "code",
   "execution_count": 221,
   "metadata": {},
   "outputs": [
    {
     "data": {
      "text/plain": [
       "939"
      ]
     },
     "execution_count": 221,
     "metadata": {},
     "output_type": "execute_result"
    }
   ],
   "source": [
    "\"\"\" version normale \"\"\"\n",
    "\n",
    "similaires = []\n",
    "for j , nom in enumerate(everything[:,0]):\n",
    "    if j in skippable:\n",
    "        continue\n",
    "    ch = nom\n",
    "    s = series.index(ch)\n",
    "    if j != s:\n",
    "        print(\"wooow\")\n",
    "    mdr = sorted([(series[i], a) for i, a in enumerate(sim[s])], key=lambda x: x[1], reverse=True)[:30]\n",
    "    l = []\n",
    "    for a, b in mdr:\n",
    "        df = series_df[series_df[\"seriesname\"]==a]\n",
    "        if df.empty:\n",
    "            continue\n",
    "        l.append(a)\n",
    "    if len(l) == 0:\n",
    "        print(\"WOOW\")\n",
    "    similaires.append(l)\n",
    "\n",
    "len(similaires)"
   ]
  },
  {
   "cell_type": "code",
   "execution_count": 274,
   "metadata": {},
   "outputs": [],
   "source": [
    "nbSeries = 3000\n",
    "seriesNames, _ = getMostImportantSeries(path, byepisodes=True)\n",
    "series = seriesNames[:nbSeries]"
   ]
  },
  {
   "cell_type": "code",
   "execution_count": 281,
   "metadata": {},
   "outputs": [
    {
     "name": "stdout",
     "output_type": "stream",
     "text": [
      "False\n",
      "4\n"
     ]
    },
    {
     "data": {
      "text/plain": [
       "939"
      ]
     },
     "execution_count": 281,
     "metadata": {},
     "output_type": "execute_result"
    }
   ],
   "source": [
    "\"\"\" version matrice de 3000 \"\"\"\n",
    "\n",
    "similaires = []\n",
    "assez = True\n",
    "count = 0\n",
    "for j , nom in enumerate(everything[:,0]):\n",
    "    if j in skippable:\n",
    "        continue\n",
    "    ch = nom\n",
    "\n",
    "    s = series.index(ch)\n",
    "    \n",
    "    mdr = sorted([(series[i], a) for i, a in enumerate(sim[s])], key=lambda x: x[1], reverse=True)[:350]\n",
    "    l = []\n",
    "    for a, b in mdr:\n",
    "        df = series_df[series_df[\"seriesname\"]==a]\n",
    "        if df.empty:\n",
    "            continue\n",
    "        l.append(a)\n",
    "    if len(l) == 0:\n",
    "        print(\"WOOW\")\n",
    "    if len(l) < 50:\n",
    "        count+=1\n",
    "        assez = False\n",
    "    similaires.append(l)\n",
    "\n",
    "print(assez)\n",
    "print(count)\n",
    "len(similaires)"
   ]
  },
  {
   "cell_type": "code",
   "execution_count": 283,
   "metadata": {},
   "outputs": [
    {
     "data": {
      "text/plain": [
       "939"
      ]
     },
     "execution_count": 283,
     "metadata": {},
     "output_type": "execute_result"
    }
   ],
   "source": [
    "len(simTFIDF)\n",
    "len(simEmbeddings)"
   ]
  },
  {
   "cell_type": "code",
   "execution_count": 284,
   "metadata": {
    "scrolled": true
   },
   "outputs": [
    {
     "name": "stdout",
     "output_type": "stream",
     "text": [
      "precision: 0.868\n",
      "rappel: 0.030\n",
      "F1: 0.037\n"
     ]
    }
   ],
   "source": [
    "\n",
    "evaluation = EvalIRmodel()\n",
    "evaluations = evaluation.evaluate(similaires, pertinents, k=10)\n",
    "\n",
    "print(\"precision: {0:.3f}\".format(evaluations[\"precision\"][\"mean\"]))\n",
    "print(\"rappel: {0:.3f}\".format(evaluations[\"recall\"][\"mean\"]))\n",
    "print(\"F1: {0:.3f}\".format(evaluations[\"F1\"][\"mean\"]))"
   ]
  },
  {
   "cell_type": "code",
   "execution_count": 216,
   "metadata": {},
   "outputs": [
    {
     "data": {
      "image/png": "[encoded data removed]",
      "text/plain": [
       "<Figure size 720x720 with 1 Axes>"
      ]
     },
     "metadata": {
      "needs_background": "light"
     },
     "output_type": "display_data"
    }
   ],
   "source": [
    "\"\"\" BOW \"\"\"\n",
    "ps = []\n",
    "rs = []\n",
    "fs = []\n",
    "\n",
    "for i in range(1,50):\n",
    "    evaluation = EvalIRmodel()\n",
    "    evaluations = evaluation.evaluate(similaires, pertinents, k=i)\n",
    "\n",
    "    ps.append(evaluations[\"precision\"][\"mean\"])\n",
    "    rs.append(evaluations[\"recall\"][\"mean\"])\n",
    "    fs.append(evaluations[\"F1\"][\"mean\"])\n",
    "    \n",
    "import matplotlib.pyplot as plt\n",
    "plt.figure(figsize=(10,10))\n",
    "plt.plot(ps, label=\"precision\")\n",
    "plt.plot(rs, label=\"rappel\")\n",
    "plt.plot(fs, label=\"F1\")\n",
    "plt.legend()\n",
    "plt.show()"
   ]
  },
  {
   "cell_type": "code",
   "execution_count": 229,
   "metadata": {},
   "outputs": [
    {
     "data": {
      "image/png": "[encoded data removed]",
      "text/plain": [
       "<Figure size 720x720 with 1 Axes>"
      ]
     },
     "metadata": {
      "needs_background": "light"
     },
     "output_type": "display_data"
    }
   ],
   "source": [
    "\"\"\" TFIDF \"\"\"\n",
    "ps = []\n",
    "rs = []\n",
    "fs = []\n",
    "\n",
    "for i in range(1,50):\n",
    "    evaluation = EvalIRmodel()\n",
    "    evaluations = evaluation.evaluate(similaires, pertinents, k=i)\n",
    "\n",
    "    ps.append(evaluations[\"precision\"][\"mean\"])\n",
    "    rs.append(evaluations[\"recall\"][\"mean\"])\n",
    "    fs.append(evaluations[\"F1\"][\"mean\"])\n",
    "    \n",
    "import matplotlib.pyplot as plt\n",
    "plt.figure(figsize=(10,10))\n",
    "plt.plot(ps, label=\"precision\")\n",
    "plt.plot(rs, label=\"rappel\")\n",
    "plt.plot(fs, label=\"F1\")\n",
    "plt.legend()\n",
    "plt.show()"
   ]
  },
  {
   "cell_type": "code",
   "execution_count": 285,
   "metadata": {},
   "outputs": [
    {
     "data": {
      "image/png": "[encoded data removed]",
      "text/plain": [
       "<Figure size 720x720 with 1 Axes>"
      ]
     },
     "metadata": {
      "needs_background": "light"
     },
     "output_type": "display_data"
    }
   ],
   "source": [
    "\"\"\" Embeddings\"\"\"\n",
    "ps = []\n",
    "rs = []\n",
    "fs = []\n",
    "\n",
    "for i in range(1,50):\n",
    "    evaluation = EvalIRmodel()\n",
    "    evaluations = evaluation.evaluate(similaires, pertinents, k=i)\n",
    "\n",
    "    ps.append(evaluations[\"precision\"][\"mean\"])\n",
    "    rs.append(evaluations[\"recall\"][\"mean\"])\n",
    "    fs.append(evaluations[\"F1\"][\"mean\"])\n",
    "    \n",
    "import matplotlib.pyplot as plt\n",
    "plt.figure(figsize=(10,10))\n",
    "plt.plot(ps, label=\"precision\")\n",
    "plt.plot(rs, label=\"rappel\")\n",
    "plt.plot(fs, label=\"F1\")\n",
    "plt.legend()\n",
    "plt.show()"
   ]
  },
  {
   "cell_type": "markdown",
   "metadata": {},
   "source": [
    "Avec un modèle à base de bag of words:"
   ]
  },
  {
   "cell_type": "code",
   "execution_count": 22,
   "metadata": {},
   "outputs": [
    {
     "name": "stderr",
     "output_type": "stream",
     "text": [
      "/root/anaconda3/lib/python3.7/site-packages/numpy/matrixlib/defmatrix.py:68: PendingDeprecationWarning: the matrix subclass is not the recommended way to represent matrices or deal with linear algebra (see https://docs.scipy.org/doc/numpy/user/numpy-for-matlab-users.html). Please adjust your code to use regular ndarray.\n",
      "  return matrix(data, dtype=dtype, copy=False)\n"
     ]
    },
    {
     "name": "stdout",
     "output_type": "stream",
     "text": [
      "precision: 0.350\n",
      "rappel: 0.249\n",
      "F1: 0.090\n"
     ]
    }
   ],
   "source": [
    "counter_vect = CountVectorizer(analyzer='word', token_pattern=r'\\w{1,}')\n",
    "x = counter_vect.fit(corpus)\n",
    "vec = counter_vect.transform(corpus)\n",
    "\n",
    "sim = cosine_similarity(vec)\n",
    "sim = normalize(sim, norm='l1', axis=0)\n",
    "\n",
    "similaires = []\n",
    "\n",
    "for s in range(len(series)):\n",
    "    mdr = sorted([(series[i], a) for i, a in enumerate(sim[s])], key=lambda x: x[1], reverse=True)[:30]\n",
    "    similaires.append([a for a, b in mdr])\n",
    "\n",
    "evaluation = EvalIRmodel()\n",
    "evaluations = evaluation.evaluate(similaires, pertinent, k=10)\n",
    "\n",
    "print(\"precision: {0:.3f}\".format(evaluations[\"precision\"][\"mean\"]))\n",
    "print(\"rappel: {0:.3f}\".format(evaluations[\"recall\"][\"mean\"]))\n",
    "print(\"F1: {0:.3f}\".format(evaluations[\"F1\"][\"mean\"]))"
   ]
  },
  {
   "cell_type": "markdown",
   "metadata": {},
   "source": [
    "### comparons avec une autre méthode d'évaluation:"
   ]
  },
  {
   "cell_type": "code",
   "execution_count": 23,
   "metadata": {},
   "outputs": [],
   "source": [
    "pertinent = []\n",
    "\n",
    "for i, row in series_df.iterrows():\n",
    "    lol = row[\"genres\"]\n",
    "    regexp = \".*\"\n",
    "    genres = []\n",
    "    if lol.find(\"Science-Fiction\") != -1:\n",
    "        lol = lol.replace(\"Science-Fiction\", \"\")\n",
    "        lol = lol.replace(\"--\", \"-\")\n",
    "        genres.append(\"Science-Fiction\")\n",
    "    genres += lol.split(\"-\")\n",
    "    regexp = \"(\"+\"|\".join(genres)+\")\"\n",
    "    pertinent.append(list(series_df[series_df[\"genres\"].str.match(regexp)][\"seriesname\"]))"
   ]
  },
  {
   "cell_type": "code",
   "execution_count": 24,
   "metadata": {},
   "outputs": [
    {
     "name": "stderr",
     "output_type": "stream",
     "text": [
      "/root/anaconda3/lib/python3.7/site-packages/numpy/matrixlib/defmatrix.py:68: PendingDeprecationWarning: the matrix subclass is not the recommended way to represent matrices or deal with linear algebra (see https://docs.scipy.org/doc/numpy/user/numpy-for-matlab-users.html). Please adjust your code to use regular ndarray.\n",
      "  return matrix(data, dtype=dtype, copy=False)\n"
     ]
    },
    {
     "name": "stdout",
     "output_type": "stream",
     "text": [
      "precision: 0.592\n",
      "rappel: 0.033\n",
      "F1: 0.037\n"
     ]
    }
   ],
   "source": [
    "counter_vect = CountVectorizer(analyzer='word', token_pattern=r'\\w{1,}')\n",
    "x = counter_vect.fit(corpus)\n",
    "vec = counter_vect.transform(corpus)\n",
    "\n",
    "sim = cosine_similarity(vec)\n",
    "sim = normalize(sim, norm='l1', axis=0)\n",
    "\n",
    "similaires = []\n",
    "\n",
    "for s in range(len(series)):\n",
    "    mdr = sorted([(series[i], a) for i, a in enumerate(sim[s])], key=lambda x: x[1], reverse=True)[:30]\n",
    "    similaires.append([a for a, b in mdr])\n",
    "\n",
    "evaluation = EvalIRmodel()\n",
    "evaluations = evaluation.evaluate(similaires, pertinent, k=10)\n",
    "\n",
    "print(\"precision: {0:.3f}\".format(evaluations[\"precision\"][\"mean\"]))\n",
    "print(\"rappel: {0:.3f}\".format(evaluations[\"recall\"][\"mean\"]))\n",
    "print(\"F1: {0:.3f}\".format(evaluations[\"F1\"][\"mean\"]))"
   ]
  },
  {
   "cell_type": "code",
   "execution_count": 25,
   "metadata": {},
   "outputs": [
    {
     "name": "stderr",
     "output_type": "stream",
     "text": [
      "/root/anaconda3/lib/python3.7/site-packages/numpy/matrixlib/defmatrix.py:68: PendingDeprecationWarning: the matrix subclass is not the recommended way to represent matrices or deal with linear algebra (see https://docs.scipy.org/doc/numpy/user/numpy-for-matlab-users.html). Please adjust your code to use regular ndarray.\n",
      "  return matrix(data, dtype=dtype, copy=False)\n"
     ]
    },
    {
     "name": "stdout",
     "output_type": "stream",
     "text": [
      "precision: 0.582\n",
      "rappel: 0.033\n",
      "F1: 0.036\n"
     ]
    }
   ],
   "source": [
    "tfidf_vect = TfidfVectorizer(analyzer='word', token_pattern=r'\\w{1,}', min_df=3, max_features=2000, stop_words=customstopwords)\n",
    "x = tfidf_vect.fit(corpus)\n",
    "vec = tfidf_vect.transform(corpus)\n",
    "\n",
    "sim = cosine_similarity(vec)\n",
    "sim = normalize(sim, norm='l1', axis=0)\n",
    "\n",
    "similaires = []\n",
    "for s in range(len(series)):\n",
    "    mdr = sorted([(series[i], a) for i, a in enumerate(sim[s])], key=lambda x: x[1], reverse=True)[:30]\n",
    "    similaires.append([a for a, b in mdr])\n",
    "\n",
    "evaluations = evaluation.evaluate(similaires, pertinent, k=10)\n",
    "\n",
    "print(\"precision: {0:.3f}\".format(evaluations[\"precision\"][\"mean\"]))\n",
    "print(\"rappel: {0:.3f}\".format(evaluations[\"recall\"][\"mean\"]))\n",
    "print(\"F1: {0:.3f}\".format(evaluations[\"F1\"][\"mean\"]))"
   ]
  },
  {
   "cell_type": "markdown",
   "metadata": {},
   "source": [
    "# Approche Embeddings"
   ]
  },
  {
   "cell_type": "markdown",
   "metadata": {},
   "source": [
    "# Similarités entre séries ( Word Embeddings )\n",
    "\n",
    "#### - utilisation de word embeddings avec tf-idf pour trouver une mesure de similarité entre les différentes séries"
   ]
  },
  {
   "cell_type": "markdown",
   "metadata": {},
   "source": [
    "## Principe\n",
    "\n",
    "Dans ce qui suis nous utiliserons le terme \"Document\" pour dire \"Série\". Vu que l'on considère une série comme la concaténation de tous les sous titres de tous ses épisodes, et donc comme un long document.\n",
    "\n",
    "Pour le calcul de similarité entre les documents, nous allons suivre la même méthode qu'avant :\n",
    "- représenter un document par un vecteur\n",
    "- utiliser des mesures de distance pour calculer la similarité entre deux vecteurs ( deux documents )\n",
    "\n",
    "Ceci servira comme base pour faire un clustering de \"genre\" ou de \"style\" des documents.\n",
    "Nous allons pour un début tester juste une combinaison de possibilités:\n",
    "- démarrer à partir des vecteurs tf-idf des documents\n",
    "- vecteurs word embedding généré par Word2vec\n",
    "- distance de mesure : cosinus"
   ]
  },
  {
   "cell_type": "markdown",
   "metadata": {},
   "source": [
    "### Word embedding ? \n",
    "Pour le définir rapidement, on peut dire que pour chaque mot du corpus on va avoir un vecteur de réels de taille fixe qui représentera d'une manière ou d'une autre le mot.\n",
    "\n",
    "Et comme par magie des opérations vectoriels entre des mots ( vecteurs de réels ) nous donnes des mesures de similarités plutot correctes ! au lieu d'utiliser simplement tf-idf qui sont des vecteurs sparse.\n",
    "\n",
    "Pour générer ces vecteurs nous allons utiliser Word2Vec entrainé sur le corpus entier, c'est à dire un gros fichier text qui contient l'ensemble des mots de tout le corpus.\n",
    "\n",
    "### Document embedding ?\n",
    "D'accord on a une représentation vectorielle de chaque mot qui marche comme par magie, mais nous souhaterions avoir une représentation similaire pour chaque document ( afin de mesurer cette similarité par magie aussi ).\n",
    "\n",
    "Pour cela nous allons utiliser un simple principe:\n",
    "- Soit V le vecteur représentant un Document lambda ( que ça soit tf-idf par exemple ) de taille N  (N = nombre de mots du vocabulaire ) \n",
    "- Soit la taille fixe du vecteur word embedding = p\n",
    "- Soit la matrice M = N x p , càd N lignes ( N = nombre de mots du vocabulaire ) et p colonnes, ou chaque ligne i est le vecteur word embedding obtenu à partir de word2vec correspondant au ieme mot du vocabulaire\n",
    "- Le vecteur D représentant le document embedding sera donc simplement :  D = V.M ( biensure on va s'arranger pour que la multiplication se passe bien en alignant les bonnes dimensions )\n",
    "\n",
    "pour faire facile : le document sera la somme des word embeddings des mots qui le composent ( pondéré par tf-idf dans notre cas )\n"
   ]
  },
  {
   "cell_type": "markdown",
   "metadata": {},
   "source": [
    "### Librarie personelle\n",
    "\n",
    "Nous avons créer une classe qui permet de générer des matrices de similarités pour nos séries en suivant les étapes suivantes :\n",
    "- Import de notre classe **CustomSim** du fichier **CustomSimilarity.py**\n",
    "- Spécifier les différents paramètres de word2vec ( nombre de séries, taille du vecteur embedding, fenêtre de mots considérés .. )\n",
    "- Spécifier un Tokenizer ( Suppression de stop words uniquement, stemming, lemmatizing .. )\n",
    "- Spécifier un Vectorizer ( Bag of words, Tf-idf .. )\n",
    "- Spécifier un Combiner, c'est à dire la manière de combiner les informations que l'on a pour obtenir un embedding d'une série\n",
    "- Spécifier la mesure de similarité ( Cosine .. )\n",
    "\n",
    "La classe est optimisée de tel sorte à que l'on puisse éviter de refaire des calculs déja fait, tous les calculs intermédiaires sont stockés dans des fichiers."
   ]
  },
  {
   "cell_type": "markdown",
   "metadata": {},
   "source": [
    "## Dans notre cas\n",
    "\n",
    "Nous avons utilisé :\n",
    "- Suppression de stop words seulement\n",
    "- Tf-idf\n",
    "- Somme des embeddings des mots d'une série pondérés par leurs tf-idf\n",
    "- Mesure de similarité Cosinus"
   ]
  },
  {
   "cell_type": "code",
   "execution_count": 27,
   "metadata": {},
   "outputs": [],
   "source": [
    "# A régler ultérieurement car ce n'est pas les memes noms de série entre Issam et Ismael\n",
    "path = \"/root/Documents/PLDAC/data\""
   ]
  },
  {
   "cell_type": "markdown",
   "metadata": {},
   "source": [
    "### Redéfinition de quelques fonctions pour la compatibilité de la matrice\n",
    "\n",
    "Nous n'avions pas les memes noms pour les séries donc il va falloir redéfinir quelques fonctions pour que le code marche"
   ]
  },
  {
   "cell_type": "code",
   "execution_count": 43,
   "metadata": {},
   "outputs": [],
   "source": [
    "def krecommendations(sim, series, serie, k):\n",
    "    print(\"series les plus proches de {}:\".format(\" \".join(serie.split(\"_\")[1:])))\n",
    "    index = 0\n",
    "    ch = (\"\".join(serie.split(\"_\")[1:])).lower()\n",
    "    for j, name in enumerate(series):\n",
    "        if ch in (\"\".join(name.split(\"_\"))).lower():\n",
    "            index = j\n",
    "            break\n",
    "    mdr = [(series[i], a) for i, a in enumerate(sim[index])]\n",
    "    for b in [a.split(\"_\")[1:] for a, e in sorted(mdr, key=lambda x: x[1], reverse=True)[:k+1]][1:]:\n",
    "        print(\"  \", \" \".join(b))"
   ]
  },
  {
   "cell_type": "code",
   "execution_count": 25,
   "metadata": {},
   "outputs": [
    {
     "data": {
      "text/plain": [
       "3000"
      ]
     },
     "execution_count": 25,
     "metadata": {},
     "output_type": "execute_result"
    }
   ],
   "source": [
    "\"\"\" Nous avons calculé les similarités pour 3000 séries en utilisant notre classe \"\"\"\n",
    "nbSeries = 3000\n",
    "seriesNames, _ = getMostImportantSeries(path, byepisodes=True)\n",
    "series = seriesNames[:nbSeries]\n",
    "len(series)"
   ]
  },
  {
   "cell_type": "markdown",
   "metadata": {},
   "source": [
    "#### Ouverture de la matrice calculé préalablement"
   ]
  },
  {
   "cell_type": "code",
   "execution_count": 26,
   "metadata": {},
   "outputs": [],
   "source": [
    "sim = np.load(\"similarity_matrices/sim_13_.npy\")\n",
    "\n",
    "#printMatrice(sim, series)"
   ]
  },
  {
   "cell_type": "code",
   "execution_count": 56,
   "metadata": {},
   "outputs": [
    {
     "name": "stdout",
     "output_type": "stream",
     "text": [
      "series les plus proches de Criminal Minds:\n",
      "   Criminal Minds\n",
      "   Criminal Minds  Suspect Behavior\n",
      "   Profiler\n",
      "   Millennium\n",
      "   Cracked\n",
      "   Perception\n",
      "   Castle\n",
      "series les plus proches de House:\n",
      "   House\n",
      "   Black Box\n",
      "   Monday Mornings\n",
      "   3 Lbs.\n",
      "   Medical Investigation\n",
      "   Emily Owens M.D.\n",
      "   Grey s Anatomy\n",
      "series les plus proches de The Simpsons:\n",
      "   The Simpsons\n",
      "   American Dad\n",
      "   The Cleveland Show\n",
      "   The Looney Tunes Show (2011)\n",
      "   Man Up\n",
      "   Raising Hope\n",
      "   The Suite Life of Zack Cody\n",
      "series les plus proches de Star Trek  The Next Generation:\n",
      "   Star Trek  The Next Generation\n",
      "   Star Trek  Enterprise\n",
      "   Star Trek\n",
      "   Star Trek  Voyager\n",
      "   Star Trek Continues\n",
      "   Star Trek  The Animated Series\n",
      "   Blake s 7\n",
      "series les plus proches de Smallville:\n",
      "   Smallville\n",
      "   Lois Clark  The New Adventures of Superman\n",
      "   Heroes\n",
      "   The 4400\n",
      "   Terminator  The Sarah Connor Chronicles\n",
      "   The Tomorrow People (US)\n",
      "   Taken\n"
     ]
    }
   ],
   "source": [
    "krecommendations(sim, series, '2956_Criminal_Minds', 7)\n",
    "krecommendations(sim, series, '2567_House', 7)\n",
    "krecommendations(sim, series, '2469_The_Simpsons', 7)\n",
    "krecommendations(sim, series, '381_Star_Trek__The_Next_Generation', 7)\n",
    "krecommendations(sim, series, '196_Smallville', 7)"
   ]
  },
  {
   "cell_type": "markdown",
   "metadata": {},
   "source": [
    "Nous remarquons que les séries les plus similaires ont l'air d'être très très proches intuitivement"
   ]
  },
  {
   "cell_type": "markdown",
   "metadata": {},
   "source": [
    "### Considérons les séries avec notes"
   ]
  },
  {
   "cell_type": "code",
   "execution_count": 57,
   "metadata": {},
   "outputs": [
    {
     "data": {
      "text/html": [
       "<div>\n",
       "<style scoped>\n",
       "    .dataframe tbody tr th:only-of-type {\n",
       "        vertical-align: middle;\n",
       "    }\n",
       "\n",
       "    .dataframe tbody tr th {\n",
       "        vertical-align: top;\n",
       "    }\n",
       "\n",
       "    .dataframe thead th {\n",
       "        text-align: right;\n",
       "    }\n",
       "</style>\n",
       "<table border=\"1\" class=\"dataframe\">\n",
       "  <thead>\n",
       "    <tr style=\"text-align: right;\">\n",
       "      <th></th>\n",
       "      <th>seriesname</th>\n",
       "      <th>genres</th>\n",
       "    </tr>\n",
       "  </thead>\n",
       "  <tbody>\n",
       "    <tr>\n",
       "      <th>0</th>\n",
       "      <td>2318_Raising_the_Bar</td>\n",
       "      <td>Drama</td>\n",
       "    </tr>\n",
       "    <tr>\n",
       "      <th>1</th>\n",
       "      <td>1159_Rejseholdet_(Unit_One)</td>\n",
       "      <td>Drama</td>\n",
       "    </tr>\n",
       "    <tr>\n",
       "      <th>2</th>\n",
       "      <td>1821_Til_Death</td>\n",
       "      <td>Comedy</td>\n",
       "    </tr>\n",
       "  </tbody>\n",
       "</table>\n",
       "</div>"
      ],
      "text/plain": [
       "                    seriesname  genres\n",
       "0         2318_Raising_the_Bar   Drama\n",
       "1  1159_Rejseholdet_(Unit_One)   Drama\n",
       "2               1821_Til_Death  Comedy"
      ]
     },
     "execution_count": 57,
     "metadata": {},
     "output_type": "execute_result"
    }
   ],
   "source": [
    "series_df = pd.read_csv(\"series.csv\")\n",
    "series_df = series_df.dropna(subset=[\"genres\"])\n",
    "\"\"\"\n",
    "J'AI CONTINUÉ À UTILISER LA VARIABLE SERIES, DONC ON L'ECRASE PAS\n",
    "\"\"\"\n",
    "#series = list(series_df[\"seriesname\"])\n",
    "series_df[[\"seriesname\", \"genres\"]].head(3)"
   ]
  },
  {
   "cell_type": "code",
   "execution_count": 58,
   "metadata": {},
   "outputs": [],
   "source": [
    "\"\"\"\n",
    "Les résultats ne sont pas les mêmes car ici on prend en compte que la série doit être présente dans les\n",
    "séries qui ont été notés\n",
    "\"\"\"\n",
    "\n",
    "serie = '_House'\n",
    "index = None\n",
    "ch = (\"\".join(serie.split(\"_\")[1:])).lower()\n",
    "for j, name in enumerate(series):\n",
    "    x = (\"\".join(name.split(\"_\")[1:])).lower()\n",
    "    if ch == x:\n",
    "        index = j\n",
    "        break\n",
    "p = index\n",
    "mdr = sorted([(series[i], a) for i, a in enumerate(sim[p])], key=lambda x: x[1], reverse=True)\n",
    "\n",
    "series_genres = list(series_df[\"seriesname\"])\n",
    "\n",
    "for a, e in mdr[:25]:\n",
    "    realName = None\n",
    "    ch = \"\".join(a.split(\"_\")[1:])\n",
    "    for j, name in enumerate(series_df[\"seriesname\"]):\n",
    "        x = \"\".join(name.split(\"_\")[1:])\n",
    "        if ch in x:\n",
    "            realName = name\n",
    "            break\n",
    "    if realName is None:\n",
    "        continue\n",
    "    print(\"  \", \" \".join(a.split(\"_\")[1:]), \"\\t\\t\\t\\t \", list(series_df[series_df[\"seriesname\"]==realName][\"genres\"])[0])"
   ]
  },
  {
   "cell_type": "markdown",
   "metadata": {},
   "source": [
    "Construisons la liste des séries pértinentes pour chaque série"
   ]
  },
  {
   "cell_type": "code",
   "execution_count": 59,
   "metadata": {},
   "outputs": [],
   "source": [
    "import warnings\n",
    "warnings.filterwarnings(action='once')\n",
    "\n",
    "pertinent = []\n",
    "\n",
    "for i, row in series_df.iterrows():\n",
    "    lol = row[\"genres\"]\n",
    "    regexp = \".*\"\n",
    "    genres = []\n",
    "    if lol.find(\"Science-Fiction\") != -1:\n",
    "        lol = lol.replace(\"Science-Fiction\", \"\")\n",
    "        lol = lol.replace(\"--\", \"-\")\n",
    "        genres.append(\"Science-Fiction\")\n",
    "    genres += row[\"genres\"].split(\"-\")\n",
    "    for i in range(len(genres) - 1):\n",
    "        regexp += \"(\"+\"|\".join(genres)+\"){1}.*-\"\n",
    "    regexp += \"(\"+\"|\".join(genres)+\"){1}.*\"\n",
    "    pertinent.append(list(series_df[series_df[\"genres\"].str.match(regexp)][\"seriesname\"]))"
   ]
  },
  {
   "cell_type": "markdown",
   "metadata": {},
   "source": [
    "A partir de la matrice de similarités, nous calculons quels sont les séries qui sont les plus similaires à la série choisie"
   ]
  },
  {
   "cell_type": "code",
   "execution_count": 60,
   "metadata": {},
   "outputs": [
    {
     "data": {
      "text/plain": [
       "3000"
      ]
     },
     "execution_count": 60,
     "metadata": {},
     "output_type": "execute_result"
    }
   ],
   "source": [
    "similaires = []\n",
    "\n",
    "for s in range(len(series)):\n",
    "    mdr = sorted([(series[i], a) for i, a in enumerate(sim[s])], key=lambda x: x[1], reverse=True)[:30]\n",
    "    similaires.append([(\"\".join(a.split(\"_\")[1:])).lower() for a, b in mdr])\n",
    "\n",
    "len(similaires)"
   ]
  },
  {
   "cell_type": "markdown",
   "metadata": {},
   "source": [
    "On supprime les séries non trouvables parmis celles notés"
   ]
  },
  {
   "cell_type": "code",
   "execution_count": 65,
   "metadata": {},
   "outputs": [
    {
     "ename": "IndexError",
     "evalue": "pop index out of range",
     "output_type": "error",
     "traceback": [
      "\u001b[0;31m---------------------------------------------------------------------------\u001b[0m",
      "\u001b[0;31mIndexError\u001b[0m                                Traceback (most recent call last)",
      "\u001b[0;32m<ipython-input-65-315179fc50d2>\u001b[0m in \u001b[0;36m<module>\u001b[0;34m\u001b[0m\n\u001b[1;32m      2\u001b[0m \u001b[0;32mif\u001b[0m \u001b[0;32mnot\u001b[0m \u001b[0mcleaned\u001b[0m\u001b[0;34m:\u001b[0m\u001b[0;34m\u001b[0m\u001b[0;34m\u001b[0m\u001b[0m\n\u001b[1;32m      3\u001b[0m     \u001b[0;32mfor\u001b[0m \u001b[0mk\u001b[0m\u001b[0;34m,\u001b[0m \u001b[0mindex\u001b[0m \u001b[0;32min\u001b[0m \u001b[0menumerate\u001b[0m\u001b[0;34m(\u001b[0m\u001b[0mintrouvables\u001b[0m\u001b[0;34m)\u001b[0m\u001b[0;34m:\u001b[0m\u001b[0;34m\u001b[0m\u001b[0;34m\u001b[0m\u001b[0m\n\u001b[0;32m----> 4\u001b[0;31m         \u001b[0msimilaires\u001b[0m\u001b[0;34m.\u001b[0m\u001b[0mpop\u001b[0m\u001b[0;34m(\u001b[0m\u001b[0mindex\u001b[0m\u001b[0;34m-\u001b[0m\u001b[0mk\u001b[0m\u001b[0;34m)\u001b[0m\u001b[0;34m\u001b[0m\u001b[0;34m\u001b[0m\u001b[0m\n\u001b[0m\u001b[1;32m      5\u001b[0m \u001b[0mcleaned\u001b[0m \u001b[0;34m=\u001b[0m \u001b[0;32mTrue\u001b[0m\u001b[0;34m\u001b[0m\u001b[0;34m\u001b[0m\u001b[0m\n",
      "\u001b[0;31mIndexError\u001b[0m: pop index out of range"
     ]
    }
   ],
   "source": [
    "cleaned = False\n",
    "if not cleaned:\n",
    "    for k, index in enumerate(introuvables):\n",
    "        similaires.pop(index-k)\n",
    "cleaned = True"
   ]
  },
  {
   "cell_type": "code",
   "execution_count": 67,
   "metadata": {},
   "outputs": [
    {
     "name": "stdout",
     "output_type": "stream",
     "text": [
      "918 939\n"
     ]
    }
   ],
   "source": [
    "print(len(similaires),len(pertinent))"
   ]
  },
  {
   "cell_type": "code",
   "execution_count": 45,
   "metadata": {},
   "outputs": [
    {
     "data": {
      "text/plain": [
       "['thecritic',\n",
       " 'phineasandferb',\n",
       " 'dragonsridersofberk',\n",
       " 'brickleberry',\n",
       " 'monstersvs.aliens',\n",
       " 'pennzeropart-timehero',\n",
       " 'scooby-doomysteryincorporated',\n",
       " 'bojackhorseman',\n",
       " 'therickygervaisshow',\n",
       " 'futurama',\n",
       " 'theclevelandshow',\n",
       " 'theawesomes',\n",
       " 'metalocalypse',\n",
       " 'thepowerpuffgirls',\n",
       " 'theventurebros.',\n",
       " 'rabbidsinvasion',\n",
       " 'superjail',\n",
       " 'adventuretimewithfinnandjake',\n",
       " 'axecop',\n",
       " 'daria',\n",
       " 'regularshow',\n",
       " 'trippingtherift',\n",
       " 'thelifetimesoftim',\n",
       " 'stevenuniverse',\n",
       " 'robotchicken',\n",
       " 'gravityfalls',\n",
       " 'americandad',\n",
       " 'lupinthe3rd',\n",
       " 'thelooneytunesshow(2011)',\n",
       " 'rickandmorty',\n",
       " 'aquateenhungerforce',\n",
       " 'theflintstones',\n",
       " 'duckdodgers',\n",
       " 'darkwingduck',\n",
       " 'thesimpsons',\n",
       " 'southpark',\n",
       " 'bravestwarriors',\n",
       " 'wanderoveryonder',\n",
       " 'kingofthehill',\n",
       " 'dilbert',\n",
       " 'duckman',\n",
       " 'xavierrenegadeangel',\n",
       " 'uglyamericans',\n",
       " 'pinkyandthebrain',\n",
       " 'theboondocks',\n",
       " 'thetick(1994)',\n",
       " 'squidbillies',\n",
       " 'bobsburgers',\n",
       " 'danvs.',\n",
       " 'blackdynamite']"
      ]
     },
     "execution_count": 45,
     "metadata": {},
     "output_type": "execute_result"
    }
   ],
   "source": [
    "pertinent[1]"
   ]
  },
  {
   "cell_type": "code",
   "execution_count": null,
   "metadata": {},
   "outputs": [],
   "source": [
    "precision: 0.592\n",
    "rappel: 0.033\n",
    "F1: 0.037"
   ]
  },
  {
   "cell_type": "markdown",
   "metadata": {},
   "source": [
    "### Evaluation des résultats"
   ]
  },
  {
   "cell_type": "code",
   "execution_count": 41,
   "metadata": {},
   "outputs": [
    {
     "name": "stdout",
     "output_type": "stream",
     "text": [
      "precision: 0.283\n",
      "rappel: 0.252\n",
      "F1: 0.089\n"
     ]
    }
   ],
   "source": [
    "evaluation = EvalIRmodel()\n",
    "evaluations = evaluation.evaluate(similaires, pertinent, k=10)\n",
    "\n",
    "print(\"precision: {0:.3f}\".format(evaluations[\"precision\"][\"mean\"]))\n",
    "print(\"rappel: {0:.3f}\".format(evaluations[\"recall\"][\"mean\"]))\n",
    "print(\"F1: {0:.3f}\".format(evaluations[\"F1\"][\"mean\"]))"
   ]
  },
  {
   "cell_type": "markdown",
   "metadata": {},
   "source": [
    "Surprise ! Les performances du système sont considérablement meilleures que d'utiliser tout simplement Bag of words ou bien Tf-idf.\n",
    "\n",
    "La combinaison entre word2vec et Tf-idf améliore donc notre modèle de similarités"
   ]
  },
  {
   "cell_type": "markdown",
   "metadata": {},
   "source": [
    "###  Tests avec stemming, lemmatizing ... à venir"
   ]
  }
 ],
 "metadata": {
  "kernelspec": {
   "display_name": "Python 3",
   "language": "python",
   "name": "python3"
  },
  "language_info": {
   "codemirror_mode": {
    "name": "ipython",
    "version": 3
   },
   "file_extension": ".py",
   "mimetype": "text/x-python",
   "name": "python",
   "nbconvert_exporter": "python",
   "pygments_lexer": "ipython3",
   "version": "3.7.1"
  }
 },
 "nbformat": 4,
 "nbformat_minor": 2
}
