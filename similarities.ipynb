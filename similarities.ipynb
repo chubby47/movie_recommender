{
 "cells": [
  {
   "cell_type": "code",
   "execution_count": 2,
   "metadata": {},
   "outputs": [],
   "source": [
    "import glob\n",
    "import numpy as np\n",
    "import matplotlib.pyplot as plt\n",
    "from nltk.corpus import stopwords\n",
    "from nltk import wordpunct_tokenize\n",
    "import seaborn as sns\n",
    "#using https://github.com/amueller/word_cloud\n",
    "from wordcloud import WordCloud\n",
    "\n",
    "from utils.load_data import getMostImportantSeries\n",
    "\n",
    "plt.style.use('seaborn-white')\n",
    "%matplotlib inline\n",
    "\n",
    "#dataset path\n",
    "path = \"dataset\""
   ]
  },
  {
   "cell_type": "code",
   "execution_count": 6,
   "metadata": {},
   "outputs": [],
   "source": [
    "lol, mdr = getMostImportantSeries(path)"
   ]
  },
  {
   "cell_type": "code",
   "execution_count": 7,
   "metadata": {
    "scrolled": false
   },
   "outputs": [
    {
     "data": {
      "text/plain": [
       "['2120_Doctor_Who_(1963)',\n",
       " '2469_The_Simpsons',\n",
       " '1865_Law_Order_SVU',\n",
       " '779_Law_Order',\n",
       " '1041_CSI__Crime_Scene_Investigation',\n",
       " '1995_ER',\n",
       " '2725_Fair_City',\n",
       " '1910_NCIS',\n",
       " '1002_Two_and_a_Half_Men',\n",
       " '2508_Frasier',\n",
       " '1718_South_Park',\n",
       " '356_Married..._With_Children',\n",
       " '2884_Bewitched',\n",
       " '2584_Family_Guy',\n",
       " '1098_MASH',\n",
       " '3012_Grey_s_Anatomy',\n",
       " '2886_Survivor',\n",
       " '2956_Criminal_Minds',\n",
       " '25_Friends',\n",
       " '1830_CSI__Miami',\n",
       " '727_JAG',\n",
       " '2557_Yu-Gi-Oh_Duel_Monsters',\n",
       " '1374_Supernatural',\n",
       " '1529_Beverly_Hills_90210',\n",
       " '207_Bones',\n",
       " '196_Smallville',\n",
       " '3259_Stargate_SG-1',\n",
       " '95_How_I_Met_Your_Mother',\n",
       " '3143_Everybody_Loves_Raymond',\n",
       " '828_24',\n",
       " '2879_The_King_of_Queens',\n",
       " '884_The_X-Files',\n",
       " '1880_That_70s_Show',\n",
       " '2417_Adventure_Time_with_Finn_and_Jake',\n",
       " '2049_The_Office_(US)',\n",
       " '1386_Murder__She_Wrote',\n",
       " '2284_CSI__NY',\n",
       " '2556_The_Big_Bang_Theory',\n",
       " '1533_Teenage_Mutant_Ninja_Turtles_(1987)',\n",
       " '2371_American_Dad']"
      ]
     },
     "execution_count": 7,
     "metadata": {},
     "output_type": "execute_result"
    }
   ],
   "source": [
    "lol[:40]\n"
   ]
  },
  {
   "cell_type": "code",
   "execution_count": null,
   "metadata": {},
   "outputs": [],
   "source": [
    "series = [\"2567_House\", \"2956_Criminal_Minds\", \"1262_Lost\", \"175_The_Walking_Dead\", \"76_Breaking_Bad\", \"196_Smallville\",\n",
    "\"217_Game_of_Thrones\", \"1906_The_Vampire_Diaries\", \"3280_Peaky_Blinders\", \"1704_Rick_and_Morty\", \"1039_Narcos\",\n",
    "              \"1845_Sherlock_(2010)\", \"1701_Outlander\", \"3314_Shameless\", \"818_Gomorra_(2014)\", \"413_Dexter\",\n",
    "              \"2123_Sense8\", \"121_Suits\", \"2469_The_Simpsons\", \"1718_South_Park\", \"3259_Stargate_SG-1\",\n",
    "         \"3012_Grey_s_Anatomy\", \"1910_NCIS\", \"95_How_I_Met_Your_Mother\", \"2556_The_Big_Bang_Theory\",\n",
    "         \"884_The_X-Files\", \"2120_Doctor_Who_(1963)\", \"25_Friends\", \"\"]"
   ]
  }
 ],
 "metadata": {
  "kernelspec": {
   "display_name": "Python 3",
   "language": "python",
   "name": "python3"
  },
  "language_info": {
   "codemirror_mode": {
    "name": "ipython",
    "version": 3
   },
   "file_extension": ".py",
   "mimetype": "text/x-python",
   "name": "python",
   "nbconvert_exporter": "python",
   "pygments_lexer": "ipython3",
   "version": "3.7.1"
  }
 },
 "nbformat": 4,
 "nbformat_minor": 2
}
